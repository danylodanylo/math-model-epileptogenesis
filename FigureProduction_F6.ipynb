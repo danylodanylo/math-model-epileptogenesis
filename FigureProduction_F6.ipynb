{
 "cells": [
  {
   "cell_type": "code",
   "execution_count": 1,
   "metadata": {},
   "outputs": [
    {
     "name": "stdout",
     "output_type": "stream",
     "text": [
      "Once deleted, variables cannot be recovered. Proceed (y/[n])? y\n"
     ]
    }
   ],
   "source": [
    "%reset \n",
    "import numpy as np\n",
    "import matplotlib\n",
    "import matplotlib.pyplot as plt\n",
    "from tqdm import tqdm\n",
    "import os\n",
    "from matplotlib import cm\n",
    "import matplotlib.patches as patches\n",
    "\n",
    "DataPath='./Data/Data_F6_Stoch_PILOCm'\n",
    "DataPath_rate='./Data/Data_F6_Rate_PILOCm'\n",
    "\n",
    "%run ./DataGenerationScripts/load_default_parameters.ipynb # loading model parameters\n",
    "%run ./DataGenerationScripts/set_size.ipynb # loading function for pdf output sizer\n",
    "%run ./DataGenerationScripts/load_animal_model_data.ipynb # loading function for pdf output sizer\n",
    "%run ./DataGenerationScripts/dIBDRdt_functions.ipynb # loading function for Seizure Rate calculation"
   ]
  },
  {
   "cell_type": "code",
   "execution_count": 2,
   "metadata": {},
   "outputs": [
    {
     "name": "stderr",
     "output_type": "stream",
     "text": [
      "\r",
      "  0%|          | 0/30 [00:00<?, ?it/s]"
     ]
    },
    {
     "name": "stdout",
     "output_type": "stream",
     "text": [
      "Data not found. Running Data Generation script\n"
     ]
    },
    {
     "name": "stderr",
     "output_type": "stream",
     "text": [
      "100%|██████████| 30/30 [00:34<00:00,  1.14s/it]\n"
     ]
    },
    {
     "name": "stdout",
     "output_type": "stream",
     "text": [
      "Data not found. Running Data Generation script\n"
     ]
    }
   ],
   "source": [
    "##### This cell checks whether data exists. If not, it is being generated #####\n",
    "if not os.path.isdir(DataPath):\n",
    "    os.makedirs(DataPath)\n",
    "if not os.path.isfile(DataPath+'/Sim_1.npy'):\n",
    "    print('Data not found. Running Data Generation script')\n",
    "    RunningFromFigureScript=True\n",
    "    %run ./DataGenerationScripts/DataGeneration_F6_Stoch_PILOCm.ipynb\n",
    "if not os.path.isdir(DataPath_rate):\n",
    "    os.makedirs(DataPath_rate)\n",
    "if not os.path.isfile(DataPath_rate+'/Sim_1.npy'):\n",
    "    print('Data not found. Running Data Generation script')\n",
    "    RunningFromFigureScript=True\n",
    "    %run ./DataGenerationScripts/DataGeneration_F6_Rate_PILOCm.ipynb"
   ]
  },
  {
   "cell_type": "code",
   "execution_count": 3,
   "metadata": {},
   "outputs": [],
   "source": [
    "font = {'size'   : 8}\n",
    "# plt.rc('font', family='sans-serif') \n",
    "# plt.rc('font', serif='Helvetica Neue')\n",
    "plt.rc('font',**{'family':'sans-serif','serif':['Helvetica Neue']})\n",
    "plt.rc('font', **font)\n",
    "plt.rc('text', usetex=True)\n",
    "\n",
    "# viridis = cm.get_cmap('viridis', 12)\n",
    "# color_scheme_3examples = [viridis(0.05)[0:3],viridis(0.5)[0:3],viridis(0.9)[0:3]]\n",
    "# # alpha_value=0.45\n",
    "size_scaler = 2.5\n",
    "alp=0.1 # alpha value for transparent lines N=30\n",
    "\n",
    "h=2.8*0.393701 #[cm] to  modification [inch] Height of output figure\n",
    "w=2.8*0.393701 #[cm] to  modification [inch] Width of output figure\n",
    "margin=0.4 # [1] margin ratio of output figure layout\n",
    "size_scaler=2.5"
   ]
  },
  {
   "cell_type": "markdown",
   "metadata": {},
   "source": [
    "## Figure 6a  "
   ]
  },
  {
   "cell_type": "code",
   "execution_count": 4,
   "metadata": {},
   "outputs": [
    {
     "data": {
      "image/png": "[encoded data removed]",
      "text/plain": [
       "<Figure size 158.74x198.425 with 1 Axes>"
      ]
     },
     "metadata": {
      "needs_background": "light"
     },
     "output_type": "display_data"
    }
   ],
   "source": [
    "##### Plotting left panel with animal model data #####\n",
    "data = load_animal_model_data('Brackhan_et_al_2016')\n",
    "        \n",
    "days_vect = data['days_vect']\n",
    "        \n",
    "fig = matplotlib.pyplot.gcf()\n",
    "ax = fig.add_subplot(1, 1, 1)\n",
    "        \n",
    "plt.bar(days_vect, data['microglial_act_mean_vect'],color='white',\n",
    "       yerr=data['microglial_act_sem_vect'],\n",
    "       align='center',\n",
    "       alpha=1,\n",
    "       ecolor='tab:red',\n",
    "       capsize=10/size_scaler)\n",
    "plt.plot(days_vect, data['microglial_act_mean_vect'],'.',color='tab:red',markersize=14/size_scaler)\n",
    "plt.plot(days_vect, data['microglial_act_mean_vect'],color='tab:red')\n",
    "\n",
    "plt.xticks(days_vect, days_vect)\n",
    "plt.ylim([0,3])\n",
    "plt.xlabel('days post status epilepticus')\n",
    "plt.ylabel('Microglial activation score')\n",
    "\n",
    "ax.spines['right'].set_visible(False)\n",
    "ax.spines['top'].set_visible(False)\n",
    "\n",
    "plt. title ('(Brackhan et al., 2016),\\n N=3-5 per group')\n",
    " \n",
    "plt.gcf().subplots_adjust(bottom=margin)\n",
    "plt.gcf().subplots_adjust(left=margin)\n",
    "plt.gcf().subplots_adjust(top=1-margin/2)\n",
    "set_size(w,w) \n",
    "fig.savefig('Figures/Fig6/Fig_6a1.pdf')"
   ]
  },
  {
   "cell_type": "code",
   "execution_count": 5,
   "metadata": {},
   "outputs": [
    {
     "data": {
      "image/png": "[encoded data removed]",
      "text/plain": [
       "<Figure size 158.74x198.425 with 1 Axes>"
      ]
     },
     "metadata": {
      "needs_background": "light"
     },
     "output_type": "display_data"
    }
   ],
   "source": [
    "##### Plotting right panel with simulation data #####\n",
    "N=30\n",
    "days_vect = data['days_vect']\n",
    "\n",
    "I_array=np.zeros([N,len(days_vect)])\n",
    "\n",
    "for ii in range(0,N): \n",
    "    listt=np.load(DataPath+'/Sim_'+str(ii+1)+'.npy',allow_pickle=True)\n",
    "    \n",
    "    dt=listt[0]['dt']\n",
    "    t_vec=listt[1]['t_vec'].copy()\n",
    "    I_vec=listt[1]['I_vec'].copy()\n",
    "    \n",
    "    I_array[ii]=I_vec[np.array((np.array(days_vect)/dt),'i')]\n",
    "    \n",
    "I_mean_vect=np.mean(I_array,axis=0)\n",
    "I_std_vect=np.std(I_array,axis=0)\n",
    "I_sem_vect=I_std_vect/np.sqrt(N)\n",
    "\n",
    "# plotting #\n",
    "listt=np.load(DataPath+'/Sim_'+str(1)+'.npy',allow_pickle=True)\n",
    "rect = patches.Rectangle((0,-1),listt[0]['IBDR_E_duration'][1],2,linewidth=1,edgecolor='none',facecolor='k',alpha=0.2)\n",
    "\n",
    "fig = matplotlib.pyplot.gcf()\n",
    "ax = fig.add_subplot(1, 1, 1) \n",
    "\n",
    "plt.bar(days_vect, I_mean_vect,color='white',\n",
    "       yerr=I_sem_vect,\n",
    "       align='center',\n",
    "       alpha=1,\n",
    "       ecolor='tab:red',\n",
    "       capsize=10/size_scaler)\n",
    "plt.plot(days_vect, I_mean_vect,'.',color='tab:red',markersize=14/size_scaler)\n",
    "plt.plot(days_vect, I_mean_vect,color='tab:red')\n",
    "    \n",
    "plt.ylim([0,0.5])\n",
    "plt.xticks(days_vect, days_vect)\n",
    "\n",
    "ax.add_patch(rect)\n",
    "\n",
    "plt.xlabel('days post status epilepticus')\n",
    "plt.ylabel(r'Neuroinflammation intensity $I(t)$')\n",
    "plt. title (r'Simulation, N=30')\n",
    "\n",
    "ax.spines['right'].set_visible(False)\n",
    "ax.spines['top'].set_visible(False)\n",
    "\n",
    "plt.gcf().subplots_adjust(bottom=margin)\n",
    "plt.gcf().subplots_adjust(left=margin)\n",
    "plt.gcf().subplots_adjust(top=1-margin/2)\n",
    "set_size(w,w)\n",
    "fig.savefig('Figures/Fig6/Fig_6a2.pdf')"
   ]
  },
  {
   "cell_type": "markdown",
   "metadata": {},
   "source": [
    "## Figure 6b  "
   ]
  },
  {
   "cell_type": "code",
   "execution_count": 6,
   "metadata": {},
   "outputs": [
    {
     "data": {
      "image/png": "[encoded data removed]",
      "text/plain": [
       "<Figure size 158.74x198.425 with 1 Axes>"
      ]
     },
     "metadata": {
      "needs_background": "light"
     },
     "output_type": "display_data"
    }
   ],
   "source": [
    "##### Plotting left panel with animal model data #####\n",
    "data = load_animal_model_data('Brackhan_et_al_2016')\n",
    "\n",
    "days_vect = data['days_vect']\n",
    "\n",
    "fig = matplotlib.pyplot.gcf()\n",
    "ax = fig.add_subplot(1, 1, 1)\n",
    "fig.set_size_inches(w,w)\n",
    "\n",
    "plt.bar(days_vect, data['NeurLoss_mean_vect'],color='white',\n",
    "       yerr=data['NeurLoss_sem_vect'],\n",
    "       align='center',\n",
    "       alpha=1,\n",
    "       ecolor='darkblue',\n",
    "       capsize=10/size_scaler)\n",
    "plt.plot(days_vect, data['NeurLoss_mean_vect'],'.',color='darkblue',markersize=14/size_scaler)\n",
    "plt.plot(days_vect, data['NeurLoss_mean_vect'],color='darkblue')\n",
    "plt.xticks(days_vect, days_vect)\n",
    "plt.ylim([0,3])\n",
    "plt.xlabel('days post status epilepticus')\n",
    "plt.ylabel('Neuronal loss score')\n",
    "\n",
    "plt. title ('(Brackhan et al., 2016),\\n N=3-5 per group')\n",
    "\n",
    "ax.spines['right'].set_visible(False)\n",
    "ax.spines['top'].set_visible(False)\n",
    "\n",
    "plt.gcf().subplots_adjust(bottom=margin)\n",
    "plt.gcf().subplots_adjust(left=margin)\n",
    "plt.gcf().subplots_adjust(top=1-margin/2)\n",
    "set_size(w,w)\n",
    "fig.savefig('Figures/Fig6/Fig_6b1.pdf')"
   ]
  },
  {
   "cell_type": "code",
   "execution_count": 7,
   "metadata": {},
   "outputs": [
    {
     "data": {
      "image/png": "[encoded data removed]",
      "text/plain": [
       "<Figure size 158.74x198.425 with 1 Axes>"
      ]
     },
     "metadata": {
      "needs_background": "light"
     },
     "output_type": "display_data"
    }
   ],
   "source": [
    "##### Plotting right panel with simulation data #####\n",
    "N=30\n",
    "\n",
    "days_vect = data['days_vect']\n",
    "D_array=np.zeros([N,len(days_vect)])\n",
    "\n",
    "for ii in range(0,N):\n",
    "    listt=np.load(DataPath+'/Sim_'+str(ii+1)+'.npy',allow_pickle=True)\n",
    "    dt=listt[0]['dt']\n",
    "    t_vec=listt[1]['t_vec'].copy()\n",
    "    D_vec=listt[1]['D_vec'].copy()\n",
    "    D_array[ii]=D_vec[np.array((np.array(days_vect)/dt),'i')]\n",
    "    \n",
    "D_mean_vect=np.mean(D_array,axis=0)\n",
    "D_std_vect=np.std(D_array,axis=0)\n",
    "D_sem_vect=D_std_vect/np.sqrt(N)\n",
    "\n",
    "# plotting #\n",
    "listt=np.load(DataPath+'/Sim_'+str(1)+'.npy',allow_pickle=True)\n",
    "rect = patches.Rectangle((0,-1),listt[0]['IBDR_E_duration'][1],2,linewidth=1,edgecolor='none',facecolor='k',alpha=0.2)\n",
    "\n",
    "fig = matplotlib.pyplot.gcf()\n",
    "ax = fig.add_subplot(1, 1, 1)    \n",
    "\n",
    "plt.bar(days_vect, D_mean_vect,color='white',\n",
    "       yerr=D_sem_vect,\n",
    "       align='center',\n",
    "       alpha=1,\n",
    "       ecolor='darkblue',\n",
    "       capsize=10/size_scaler)\n",
    "plt.plot(days_vect, D_mean_vect,'.',color='darkblue',markersize=14/size_scaler)\n",
    "plt.plot(days_vect, D_mean_vect,color='darkblue')\n",
    "    \n",
    "plt.ylim([0,0.35])\n",
    "plt.xticks(days_vect, days_vect)\n",
    "\n",
    "ax.add_patch(rect)\n",
    "\n",
    "plt.xlabel('days post status epilepticus')\n",
    "plt.ylabel(r'Extent of neuronal loss $D(t)$')\n",
    "plt. title (r'Simulation, N=30')\n",
    "\n",
    "ax.spines['right'].set_visible(False)\n",
    "ax.spines['top'].set_visible(False)\n",
    "\n",
    "plt.gcf().subplots_adjust(bottom=margin)\n",
    "plt.gcf().subplots_adjust(left=margin)\n",
    "plt.gcf().subplots_adjust(top=1-margin/2)\n",
    "set_size(w,w) \n",
    "fig.savefig('Figures/Fig6/Fig_6b2.pdf')"
   ]
  },
  {
   "cell_type": "markdown",
   "metadata": {},
   "source": [
    "## Figure 6c"
   ]
  },
  {
   "cell_type": "code",
   "execution_count": 8,
   "metadata": {},
   "outputs": [
    {
     "data": {
      "image/png": "[encoded data removed]",
      "text/plain": [
       "<Figure size 158.74x198.425 with 1 Axes>"
      ]
     },
     "metadata": {
      "needs_background": "light"
     },
     "output_type": "display_data"
    }
   ],
   "source": [
    "##### Plotting left panel with animal model data #####\n",
    "data = load_animal_model_data('Zhang_et_al_2015')\n",
    "\n",
    "days_vect = data['days_vect']\n",
    "\n",
    "Neur_loss_mean_vect=(data['NeuN_immunoreact_mean_vect'][0]-data['NeuN_immunoreact_mean_vect'])/data['NeuN_immunoreact_mean_vect'][0]*100 # calculating fraction of neurons missing relative to control measure\n",
    "\n",
    "fig = matplotlib.pyplot.gcf()\n",
    "ax = fig.add_subplot(1, 1, 1) \n",
    "\n",
    "plt.bar(np.arange(0,len(days_vect)), Neur_loss_mean_vect,color='darkblue',\n",
    "       align='center',\n",
    "       alpha=1,\n",
    "       ecolor='darkblue',\n",
    "       capsize=10/3*2)\n",
    "plt.xticks(np.arange(0,len(days_vect)), days_vect)\n",
    "plt.ylim([0,100])\n",
    "plt.xlabel('days post status epilepticus')\n",
    "plt.ylabel('Fraction of immunoreactive \\n cells missing NeuN, \\%')\n",
    "\n",
    "plt. title ('(Zhang et al., 2015)')\n",
    "\n",
    "ax.spines['right'].set_visible(False)\n",
    "ax.spines['top'].set_visible(False)\n",
    "\n",
    "plt.gcf().subplots_adjust(bottom=margin)\n",
    "plt.gcf().subplots_adjust(left=margin)\n",
    "plt.gcf().subplots_adjust(top=1-margin/2)\n",
    "set_size(w,w) \n",
    "fig.savefig('Figures/Fig6/Fig_6c1.pdf')"
   ]
  },
  {
   "cell_type": "code",
   "execution_count": 9,
   "metadata": {},
   "outputs": [
    {
     "data": {
      "image/png": "[encoded data removed]",
      "text/plain": [
       "<Figure size 158.74x198.425 with 1 Axes>"
      ]
     },
     "metadata": {
      "needs_background": "light"
     },
     "output_type": "display_data"
    }
   ],
   "source": [
    "##### Plotting right panel with simulation data #####\n",
    "N=30\n",
    "\n",
    "days_vect = data['days_vect']\n",
    "D_array=np.zeros([N,len(days_vect)])\n",
    "\n",
    "for ii in range(0,N): \n",
    "    listt=np.load(DataPath+'/Sim_'+str(ii+1)+'.npy',allow_pickle=True)\n",
    "    \n",
    "    dt=listt[0]['dt']\n",
    "    t_vec=listt[1]['t_vec'].copy()\n",
    "    D_vec=listt[1]['D_vec'].copy()\n",
    "    \n",
    "    D_array[ii]=D_vec[np.array((np.array(days_vect)/dt),'i')]\n",
    "    \n",
    "D_mean_vect=np.mean(D_array,axis=0)\n",
    "D_std_vect=np.std(D_array,axis=0)\n",
    "D_sem_vect=D_std_vect/np.sqrt(N)\n",
    "\n",
    "# plotting #\n",
    "fig = matplotlib.pyplot.gcf()\n",
    "ax = fig.add_subplot(1, 1, 1) \n",
    "\n",
    "plt.bar(np.arange(0,len(days_vect)), D_mean_vect,color='darkblue',\n",
    "       yerr=D_sem_vect,\n",
    "       align='center',\n",
    "       alpha=1,\n",
    "       ecolor='darkblue',\n",
    "       capsize=10/3*2)\n",
    "err1, cl, _ = ax.errorbar(np.arange(0,len(days_vect)), D_mean_vect, yerr=D_sem_vect, lolims=True, capsize = 10/3*2, ls='None', color='k')\n",
    "cl[0].set_marker('_')\n",
    "cl[1].set_marker('')  # to remove the lower cap\n",
    "    \n",
    "plt.ylim([0,1])\n",
    "plt.xticks(np.arange(0,len(days_vect)), days_vect)\n",
    " \n",
    "plt.xlabel('days post status epilepticus')\n",
    "plt.ylabel(r'Extent of neuronal loss $D(t)$')\n",
    "plt. title (r'Simulation, N=30')\n",
    "\n",
    "ax.spines['right'].set_visible(False)\n",
    "ax.spines['top'].set_visible(False)\n",
    " \n",
    "plt.gcf().subplots_adjust(bottom=margin)\n",
    "plt.gcf().subplots_adjust(left=margin)\n",
    "plt.gcf().subplots_adjust(top=1-margin/2)\n",
    "set_size(w,w)\n",
    "fig.savefig('Figures/Fig6/Fig_6c2.pdf')"
   ]
  },
  {
   "cell_type": "markdown",
   "metadata": {},
   "source": [
    "## Figure 6d"
   ]
  },
  {
   "cell_type": "code",
   "execution_count": 10,
   "metadata": {},
   "outputs": [
    {
     "name": "stderr",
     "output_type": "stream",
     "text": [
      "/opt/anaconda3/lib/python3.7/site-packages/ipykernel_launcher.py:84: UserWarning: Creating legend with loc=\"best\" can be slow with large amounts of data.\n",
      "/opt/anaconda3/lib/python3.7/site-packages/IPython/core/events.py:88: UserWarning: Creating legend with loc=\"best\" can be slow with large amounts of data.\n",
      "  func(*args, **kwargs)\n",
      "/opt/anaconda3/lib/python3.7/site-packages/IPython/core/pylabtools.py:128: UserWarning: Creating legend with loc=\"best\" can be slow with large amounts of data.\n",
      "  fig.canvas.print_figure(bytes_io, **kw)\n"
     ]
    },
    {
     "data": {
      "image/png": "[encoded data removed]",
      "text/plain": [
       "<Figure size 396.851x198.425 with 2 Axes>"
      ]
     },
     "metadata": {
      "needs_background": "light"
     },
     "output_type": "display_data"
    }
   ],
   "source": [
    "N=30\n",
    "day_0=0\n",
    "day_end=14\n",
    "\n",
    "listt=np.load(DataPath+'/Sim_'+str(1)+'.npy',allow_pickle=True)  \n",
    "lambda_max=listt[0]['lambda_max']\n",
    "params=listt[0]\n",
    "rect = patches.Rectangle((0,-1),listt[0]['IBDR_E_duration'][1],2,linewidth=1,edgecolor='none',facecolor='k',alpha=0.2)\n",
    "\n",
    "\n",
    "fig = matplotlib.pyplot.gcf()\n",
    "ax = fig.add_subplot(1, 1, 1)    \n",
    "\n",
    "ax.add_patch(rect)\n",
    "\n",
    "for ii in range(0,N):\n",
    "    listt=np.load(DataPath+'/Sim_'+str(ii+1)+'.npy',allow_pickle=True)  \n",
    "    dt=listt[0]['dt']\n",
    "    t_vec=listt[1]['t_vec'].copy()\n",
    "    R_vec=listt[1]['R_vec'].copy()\n",
    "    B_vec=listt[1]['B_vec'].copy()\n",
    "    lambda_vec=listt[1]['lambda_vec'].copy()\n",
    "    \n",
    "    if ii == 0:    \n",
    "        plt.plot(t_vec,R_vec,color='dodgerblue',alpha=alp,label='R(t), N=30',linewidth=2.0/size_scaler)\n",
    "        plt.plot(t_vec,B_vec,color='darkorange',alpha=alp,label='B(t), N=30',linewidth=2.0/size_scaler)\n",
    "    else:\n",
    "        plt.plot(t_vec,R_vec,color='dodgerblue',alpha=alp,linewidth=2.0/size_scaler)\n",
    "        plt.plot(t_vec,B_vec,color='darkorange',alpha=alp,linewidth=2.0/size_scaler)\n",
    "\n",
    "\n",
    "listt=np.load(DataPath_rate+'/Sim_'+str(1)+'.npy',allow_pickle=True) \n",
    "dt=listt[0]['dt']\n",
    "t_vec=listt[1]['t_vec'].copy()\n",
    "R_vec=listt[1]['R_vec'].copy()\n",
    "B_vec=listt[1]['B_vec'].copy()\n",
    "plt.plot(t_vec,B_vec,'darkorange',label='B(t), rate version',linewidth=4.0/size_scaler) \n",
    "plt.plot(t_vec,R_vec,'dodgerblue',label='R(t), rate version',linewidth=4.0/size_scaler) \n",
    "        \n",
    "\n",
    "ax2 = ax.twinx()\n",
    "for ii in range(0,N):\n",
    "    listt=np.load(DataPath+'/Sim_'+str(ii+1)+'.npy',allow_pickle=True) \n",
    "    dt=listt[0]['dt']\n",
    "    t_vec=listt[1]['t_vec'].copy()\n",
    "    I_vec=listt[1]['I_vec'].copy()\n",
    "    R_vec=listt[1]['R_vec'].copy()\n",
    "    lambda_vec=listt[1]['lambda_vec'].copy()\n",
    "    if ii==0:\n",
    "        plt.plot(t_vec,SeizureRate(I_vec,R_vec, params),color='black',alpha=alp,label=r'$P_{\\textnormal{seiz}}(t)$, N=30',linewidth=2.0/size_scaler)\n",
    "    else:\n",
    "        plt.plot(t_vec,SeizureRate(I_vec,R_vec, params),color='black',alpha=alp, linewidth=2.0/size_scaler)\n",
    "\n",
    "listt=np.load(DataPath_rate+'/Sim_'+str(1)+'.npy',allow_pickle=True) \n",
    "listt[0]['lambda_max']=lambda_max\n",
    "dt=listt[0]['dt']\n",
    "t_vec=listt[1]['t_vec'].copy()\n",
    "I_vec=listt[1]['I_vec'].copy()\n",
    "R_vec=listt[1]['R_vec'].copy()        \n",
    "plt.plot(t_vec,SeizureRate(I_vec,R_vec, params),'black',linewidth=4.0/size_scaler,label=r'$P_{\\textnormal{seiz}}(t)$, rate version')\n",
    "\n",
    "\n",
    "ax2.legend(bbox_to_anchor=(1,-0.5))\n",
    "ax.legend(bbox_to_anchor=(-1, 1), loc='upper left')\n",
    "\n",
    "ax.add_patch(rect)\n",
    "\n",
    "plt.xlim([0,day_end])\n",
    "plt.xticks(np.array([0,2,5,10,14]))\n",
    "\n",
    "ax.set_ylim([0,0.4])\n",
    "ax2.set_ylim([0,4.5])\n",
    "ax2.set_ylabel(r'Seizure rate, $\\frac{\\textnormal{seizures}}{\\textnormal{day}}$')\n",
    "ax.set_xlabel('days post status epilepticus')\n",
    "\n",
    "ax.spines['top'].set_visible(False)\n",
    "ax2.spines['top'].set_visible(False)\n",
    "\n",
    "plt.gcf().subplots_adjust(bottom=margin)\n",
    "plt.gcf().subplots_adjust(left=margin)\n",
    "plt.gcf().subplots_adjust(top=1-margin/2)\n",
    "plt.gcf().subplots_adjust(right=1-margin/2)\n",
    "set_size(2*w,w) \n",
    "fig.savefig('Figures/Fig6/Fig_6d.pdf')"
   ]
  },
  {
   "cell_type": "markdown",
   "metadata": {},
   "source": [
    "## Figure 6e"
   ]
  },
  {
   "cell_type": "code",
   "execution_count": 11,
   "metadata": {},
   "outputs": [
    {
     "data": {
      "image/png": "[encoded data removed]",
      "text/plain": [
       "<Figure size 317.48x198.425 with 1 Axes>"
      ]
     },
     "metadata": {
      "needs_background": "light"
     },
     "output_type": "display_data"
    }
   ],
   "source": [
    "N=30\n",
    "day_0=0\n",
    "day_end=70\n",
    "\n",
    "listt=np.load(DataPath+'/Sim_'+str(1)+'.npy',allow_pickle=True)  \n",
    "lambda_max=listt[0]['lambda_max']\n",
    "params=listt[0]\n",
    "rect = patches.Rectangle((0,-1),listt[0]['IBDR_E_duration'][1],2,linewidth=1,edgecolor='none',facecolor='k',alpha=0.2)\n",
    "\n",
    "\n",
    "fig = matplotlib.pyplot.gcf()\n",
    "ax = fig.add_subplot(1, 1, 1)    \n",
    "\n",
    "ax.add_patch(rect)\n",
    "plt.plot([0,day_end],[params['Theta'],params['Theta']],'r--',linewidth=2.0/size_scaler)\n",
    "\n",
    "for ii in range(0,N):\n",
    "    listt=np.load(DataPath+'/Sim_'+str(ii+1)+'.npy',allow_pickle=True)  \n",
    "    dt=listt[0]['dt']\n",
    "    t_vec=listt[1]['t_vec'].copy()\n",
    "    I_vec=listt[1]['I_vec'].copy()    \n",
    "    plt.plot(t_vec,I_vec,color='tab:red',alpha=alp,linewidth=2.0/size_scaler)\n",
    "\n",
    "\n",
    "listt=np.load(DataPath_rate+'/Sim_'+str(1)+'.npy',allow_pickle=True) \n",
    "dt=listt[0]['dt']\n",
    "t_vec=listt[1]['t_vec'].copy()\n",
    "I_vec=listt[1]['I_vec'].copy()\n",
    "\n",
    "plt.plot(t_vec,I_vec,color='tab:red',linewidth=4.0/size_scaler)      \n",
    "\n",
    "plt.xlim([0,day_end])\n",
    "# ylim=ax.get_ylim()\n",
    "plt.ylim([0,0.7])\n",
    "plt.ylabel(r'Neuroinflammation intensity $I(t)$')\n",
    "plt.xlabel('days post status epilepticus')\n",
    "# plt. title (r'Simulation, Raw $I(t)$, N=30')\n",
    "# plt.tight_layout()\n",
    "\n",
    "ax.spines['right'].set_visible(False)\n",
    "ax.spines['top'].set_visible(False)\n",
    "\n",
    "plt.gcf().subplots_adjust(bottom=margin)\n",
    "plt.gcf().subplots_adjust(left=margin)\n",
    "plt.gcf().subplots_adjust(top=1-margin/2)\n",
    "set_size(2*w,w)\n",
    "fig.savefig('Figures/Fig6/Fig_6e.pdf')"
   ]
  },
  {
   "cell_type": "markdown",
   "metadata": {},
   "source": [
    "## Figure 6f"
   ]
  },
  {
   "cell_type": "code",
   "execution_count": 12,
   "metadata": {},
   "outputs": [
    {
     "data": {
      "image/png": "[encoded data removed]",
      "text/plain": [
       "<Figure size 317.48x198.425 with 1 Axes>"
      ]
     },
     "metadata": {
      "needs_background": "light"
     },
     "output_type": "display_data"
    }
   ],
   "source": [
    "N=30\n",
    "day_0=0\n",
    "day_end=70\n",
    "\n",
    "listt=np.load(DataPath+'/Sim_'+str(1)+'.npy',allow_pickle=True)  \n",
    "lambda_max=listt[0]['lambda_max']\n",
    "params=listt[0]\n",
    "rect = patches.Rectangle((0,-1),listt[0]['IBDR_E_duration'][1],2,linewidth=1,edgecolor='none',facecolor='k',alpha=0.2)\n",
    "\n",
    "\n",
    "fig = matplotlib.pyplot.gcf()\n",
    "ax = fig.add_subplot(1, 1, 1)    \n",
    "\n",
    "ax.add_patch(rect)\n",
    "\n",
    "for ii in range(0,N):\n",
    "    listt=np.load(DataPath+'/Sim_'+str(ii+1)+'.npy',allow_pickle=True)  \n",
    "    dt=listt[0]['dt']\n",
    "    t_vec=listt[1]['t_vec'].copy()\n",
    "    D_vec=listt[1]['D_vec'].copy()    \n",
    "    plt.plot(t_vec,D_vec,'darkblue',alpha=alp,linewidth=2.0/size_scaler)\n",
    "\n",
    "\n",
    "listt=np.load(DataPath_rate+'/Sim_'+str(1)+'.npy',allow_pickle=True) \n",
    "dt=listt[0]['dt']\n",
    "t_vec=listt[1]['t_vec'].copy()\n",
    "D_vec=listt[1]['D_vec'].copy()\n",
    "\n",
    "plt.plot(t_vec,D_vec,'darkblue',linewidth=4.0/size_scaler)      \n",
    "\n",
    "plt.xlim([0,day_end])\n",
    "plt.ylim([0,1.0])\n",
    "plt.ylabel(r'Extent of neuronal loss $D(t)$')\n",
    "plt.xlabel('days post status epilepticus')\n",
    "\n",
    "ax.spines['right'].set_visible(False)\n",
    "ax.spines['top'].set_visible(False)\n",
    "\n",
    " \n",
    "plt.gcf().subplots_adjust(bottom=margin)\n",
    "plt.gcf().subplots_adjust(left=margin)\n",
    "plt.gcf().subplots_adjust(top=1-margin/2)\n",
    "set_size(2*w,w)\n",
    "fig.savefig('Figures/Fig6/Fig_6f.pdf')"
   ]
  }
 ],
 "metadata": {
  "kernelspec": {
   "display_name": "Python 3",
   "language": "python",
   "name": "python3"
  },
  "language_info": {
   "codemirror_mode": {
    "name": "ipython",
    "version": 3
   },
   "file_extension": ".py",
   "mimetype": "text/x-python",
   "name": "python",
   "nbconvert_exporter": "python",
   "pygments_lexer": "ipython3",
   "version": "3.7.4"
  }
 },
 "nbformat": 4,
 "nbformat_minor": 2
}
