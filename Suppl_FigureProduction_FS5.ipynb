{
 "cells": [
  {
   "cell_type": "code",
   "execution_count": 1,
   "metadata": {},
   "outputs": [
    {
     "name": "stdout",
     "output_type": "stream",
     "text": [
      "Once deleted, variables cannot be recovered. Proceed (y/[n])? н\n",
      "Once deleted, variables cannot be recovered. Proceed (y/[n])? y\n"
     ]
    }
   ],
   "source": [
    "%reset \n",
    "import numpy as np\n",
    "import matplotlib\n",
    "import matplotlib.pyplot as plt\n",
    "from tqdm import tqdm\n",
    "import os\n",
    "from matplotlib import cm\n",
    "import matplotlib.patches as patches\n",
    "import pylab\n",
    "from scipy.optimize import fsolve\n",
    "\n",
    "\n",
    "DataPath_1='./Data/Suppl_Data_FS5_Stoch_BBBm_Ksb001'\n",
    "DataPath_2='./Data/Data_F3_Stoch_BBBm'\n",
    "DataPath_3='./Data/Suppl_Data_FS5_Stoch_BBBm_Ksb15'\n",
    "\n",
    "\n",
    "%run ./DataGenerationScripts/load_default_parameters.ipynb # loading model parameters\n",
    "%run ./DataGenerationScripts/set_size.ipynb # loading function for pdf output sizer\n",
    "%run ./DataGenerationScripts/aux_state_space.ipynb # loading auxiliarry functions for state space vizualization\n",
    "%run ./DataGenerationScripts/load_animal_model_data.ipynb # loading function for pdf output sizer\n",
    "%run ./DataGenerationScripts/dIBDRdt_functions.ipynb # loading time derivative functions"
   ]
  },
  {
   "cell_type": "code",
   "execution_count": 2,
   "metadata": {},
   "outputs": [
    {
     "name": "stderr",
     "output_type": "stream",
     "text": [
      "\r",
      "  0%|          | 0/30 [00:00<?, ?it/s]"
     ]
    },
    {
     "name": "stdout",
     "output_type": "stream",
     "text": [
      "Data not found. Running Data Generation script\n"
     ]
    },
    {
     "name": "stderr",
     "output_type": "stream",
     "text": [
      "100%|██████████| 30/30 [01:00<00:00,  2.00s/it]\n"
     ]
    },
    {
     "name": "stdout",
     "output_type": "stream",
     "text": [
      "Data not found. Running Data Generation script\n"
     ]
    },
    {
     "name": "stderr",
     "output_type": "stream",
     "text": [
      "100%|██████████| 30/30 [00:33<00:00,  1.13s/it]\n"
     ]
    }
   ],
   "source": [
    "##### This cell checks whether data exists. If not, it is being generated #####\n",
    "if not os.path.isdir(DataPath_1):\n",
    "    os.makedirs(DataPath_1)\n",
    "if not os.path.isfile(DataPath_1+'/Sim_1.npy'):\n",
    "    print('Data not found. Running Data Generation script')\n",
    "    RunningFromFigureScript=True\n",
    "    %run ./DataGenerationScripts/Suppl_DataGeneration_FS5_Stoch_BBBm_Ksb001.ipynb\n",
    "if not os.path.isdir(DataPath_2):\n",
    "    os.makedirs(DataPath_2)\n",
    "if not os.path.isfile(DataPath_2+'/Sim_1.npy'):\n",
    "    print('Data not found. Running Data Generation script')\n",
    "    RunningFromFigureScript=True\n",
    "    %run ./DataGenerationScripts/DataGeneration_F3_Stoch_BBBm.ipynb\n",
    "if not os.path.isdir(DataPath_3):\n",
    "    os.makedirs(DataPath_3)\n",
    "if not os.path.isfile(DataPath_3+'/Sim_1.npy'):\n",
    "    print('Data not found. Running Data Generation script')\n",
    "    RunningFromFigureScript=True\n",
    "    %run ./DataGenerationScripts/Suppl_DataGeneration_FS5_Stoch_BBBm_Ksb15.ipynb"
   ]
  },
  {
   "cell_type": "code",
   "execution_count": 3,
   "metadata": {},
   "outputs": [],
   "source": [
    "font = {'size'   : 8}\n",
    "# plt.rc('font', family='sans-serif') \n",
    "# plt.rc('font', serif='Helvetica Neue')\n",
    "plt.rc('font',**{'family':'sans-serif','serif':['Helvetica Neue']})\n",
    "plt.rc('font', **font)\n",
    "plt.rc('text', usetex=True)\n",
    "\n",
    "viridis = cm.get_cmap('viridis', 12)\n",
    "color_scheme_5examples = [viridis(0.0)[0:3],viridis(0.3)[0:3],viridis(0.55)[0:3],viridis(0.75)[0:3],viridis(0.95)[0:3]]\n",
    "alpha_value=0.45\n",
    "marker_sizer=2.5\n",
    "dt_vis=30\n",
    "\n",
    "\n",
    "h=2.8*0.393701 #[cm] to  modification [inch] Height of output figure\n",
    "w=2.8*0.393701 #[cm] to  modification [inch] Width of output figure\n",
    "margin=0.4 # [1] margin ratio of output figure layout\n",
    "size_scaler=2.5"
   ]
  },
  {
   "cell_type": "markdown",
   "metadata": {},
   "source": [
    "# FIG S5A"
   ]
  },
  {
   "cell_type": "code",
   "execution_count": 4,
   "metadata": {},
   "outputs": [
    {
     "data": {
      "image/png": "[encoded data removed]",
      "text/plain": [
       "<Figure size 158.74x165.354 with 1 Axes>"
      ]
     },
     "metadata": {
      "needs_background": "light"
     },
     "output_type": "display_data"
    }
   ],
   "source": [
    "D_vis_vect=[0]\n",
    "params=load_default_parameters('rate')\n",
    "\n",
    "locals().update(params)\n",
    "\n",
    "B_max = 2\n",
    "R_max = 2\n",
    "B_min = -1\n",
    "R_min = -1\n",
    "\n",
    "for ii in range(0,len(D_vis_vect)):\n",
    "    \n",
    "    D_const=D_vis_vect[ii]\n",
    "\n",
    "\n",
    "    R,B = np.mgrid[R_min:R_max:5000j, B_min:B_max:5000j]\n",
    "\n",
    "    FP=[];\n",
    "    f = K_SB*(np.exp(k_IS*np.square(k_BI*B)+k_RS*R)-1)/(np.exp(k_IS*np.square(k_BI*B)+k_RS*R)+1)\n",
    "    U = 1./tau_B*(-B+k_IB*k_BI*B+f)\n",
    "    V = 1./tau_R*(-R+k_BR*B+k_DR*D_const) \n",
    "\n",
    "#     velocity = np.sqrt(U*U + V*V)                \n",
    "    FP=fixedpointsfinder(fun_dbdt,-0.2,1.5,100000) # Here we will check for steady states on given interval with given discritization step\n",
    "\n",
    "    \n",
    "    pylab.ion()\n",
    "    fig0= plt.figure()\n",
    "    ax0 = fig0.add_subplot(1, 1, 1)\n",
    "    strm = ax0.streamplot(B, R, U, V, linewidth=1/marker_sizer, color=[0.75,0.75,0.75], density=[0.5,1.5])\n",
    "\n",
    "    for cc in range(len(FP)):\n",
    "        if FP[cc][0]>=Theta:\n",
    "            col='grey'\n",
    "        else:\n",
    "            col='black' \n",
    "\n",
    "        mrksize = 10\n",
    "        if FP[cc][1]=='Unstable':\n",
    "            plt.plot(FP[cc][0],FP[cc][0]+k_DR*D_const, 'o',color=col, markersize=mrksize/marker_sizer)\n",
    "            plt.plot(FP[cc][0],FP[cc][0]+k_DR*D_const,'o',color='white', markersize=mrksize/marker_sizer-3/marker_sizer)\n",
    "        if FP[cc][1]=='Semistable':\n",
    "            plt.plot(FP[cc][0],FP[cc][0]+k_DR*D_const, 'o',color=col, markersize=mrksize/marker_sizer)\n",
    "            plt.plot(FP[cc][0],FP[cc][0]+k_DR*D_const,'o',color='white', markersize=mrksize/marker_sizer-3/marker_sizer)\n",
    "            plt.plot(FP[cc][0],FP[cc][0]+k_DR*D_const,'x',color=col, markersize=mrksize/marker_sizer-3/marker_sizer)\n",
    "        if FP[cc][1]=='Stable':\n",
    "            plt.plot(FP[cc][0],FP[cc][0]+k_DR*D_const, 'o',color=col, markersize=mrksize/marker_sizer)\n",
    "    \n",
    "    ax0.contour(B,R,U,levels=[0.],colors='black',linewidths=1.0,linestyles='dashed')\n",
    "    ax0.contour(B,R,V,levels=[0.],colors='black',linewidths=1.0,linestyles='dashed')\n",
    "    \n",
    "    threshold_position = Theta/k_BI\n",
    "    plt.plot([threshold_position, threshold_position],[R_min,R_max],'--',color='tab:red',linewidth = 3.0/marker_sizer)\n",
    "    \n",
    "\n",
    "    plt.xlabel(\"Extent of blood-brain \\n\" \n",
    "               r\"barrier disruption $B \\approx I$\")\n",
    "    plt.ylabel(\"Degree of circuit \\n\"\n",
    "               r\"remodeling $R$\")\n",
    "    plt.title('$D$='+str(np.round(D_const*100)/100),fontsize=font['size'])\n",
    "\n",
    "\n",
    "ax0.set_xlim([B_min,B_max])\n",
    "ax0.set_ylim([R_min,R_max])\n",
    "\n",
    "plt.gcf().subplots_adjust(bottom=margin)\n",
    "plt.gcf().subplots_adjust(left=margin)\n",
    "set_size(1.0*w,1.0*w)\n",
    "fig0.savefig('./Figures/Supplementary/Fig_S5A.pdf')      "
   ]
  },
  {
   "cell_type": "markdown",
   "metadata": {},
   "source": [
    "# FIG S5B\n"
   ]
  },
  {
   "cell_type": "code",
   "execution_count": 5,
   "metadata": {},
   "outputs": [
    {
     "data": {
      "image/png": "[encoded data removed]",
      "text/plain": [
       "<Figure size 158.74x165.354 with 1 Axes>"
      ]
     },
     "metadata": {
      "needs_background": "light"
     },
     "output_type": "display_data"
    }
   ],
   "source": [
    "params['K_SB']=0.01\n",
    "\n",
    "locals().update(params)\n",
    "\n",
    "B_max = 2\n",
    "R_max = 2\n",
    "B_min = -1\n",
    "R_min = -1\n",
    "\n",
    "for ii in range(0,len(D_vis_vect)):\n",
    "    \n",
    "    D_const=D_vis_vect[ii]\n",
    "\n",
    "\n",
    "    R,B = np.mgrid[R_min:R_max:5000j, B_min:B_max:5000j]\n",
    "\n",
    "    FP=[];\n",
    "    f = K_SB*(np.exp(k_IS*np.square(k_BI*B)+k_RS*R)-1)/(np.exp(k_IS*np.square(k_BI*B)+k_RS*R)+1)\n",
    "    U = 1./tau_B*(-B+k_IB*k_BI*B+f)\n",
    "    V = 1./tau_R*(-R+k_BR*B+k_DR*D_const) \n",
    "\n",
    "#     velocity = np.sqrt(U*U + V*V)                \n",
    "    FP=fixedpointsfinder(fun_dbdt,-0.2,1.5,100000) # Here we will check for steady states on given interval with given discritization step\n",
    "\n",
    "    \n",
    "    pylab.ion()\n",
    "    fig0= plt.figure()\n",
    "    ax0 = fig0.add_subplot(1, 1, 1)\n",
    "    strm = ax0.streamplot(B, R, U, V, linewidth=1/marker_sizer, color=[0.75,0.75,0.75], density=[0.5,1.5])\n",
    "\n",
    "    for cc in range(len(FP)):\n",
    "        if FP[cc][0]>=Theta:\n",
    "            col='grey'\n",
    "        else:\n",
    "            col='black' \n",
    "\n",
    "        mrksize = 10\n",
    "        if FP[cc][1]=='Unstable':\n",
    "            plt.plot(FP[cc][0],FP[cc][0]+k_DR*D_const, 'o',color=col, markersize=mrksize/marker_sizer)\n",
    "            plt.plot(FP[cc][0],FP[cc][0]+k_DR*D_const,'o',color='white', markersize=mrksize/marker_sizer-3/marker_sizer)\n",
    "        if FP[cc][1]=='Semistable':\n",
    "            plt.plot(FP[cc][0],FP[cc][0]+k_DR*D_const, 'o',color=col, markersize=mrksize/marker_sizer)\n",
    "            plt.plot(FP[cc][0],FP[cc][0]+k_DR*D_const,'o',color='white', markersize=mrksize/marker_sizer-3/marker_sizer)\n",
    "            plt.plot(FP[cc][0],FP[cc][0]+k_DR*D_const,'x',color=col, markersize=mrksize/marker_sizer-3/marker_sizer)\n",
    "        if FP[cc][1]=='Stable':\n",
    "            plt.plot(FP[cc][0],FP[cc][0]+k_DR*D_const, 'o',color=col, markersize=mrksize/marker_sizer)\n",
    "    \n",
    "    ax0.contour(B,R,U,levels=[0.],colors='gray',linewidths=1.0)\n",
    "    ax0.contour(B,R,V,levels=[0.],colors='gray',linewidths=1.0)\n",
    "    \n",
    "    threshold_position = Theta/k_BI\n",
    "    plt.plot([threshold_position, threshold_position],[R_min,R_max],'--',color='tab:red',linewidth = 3.0/marker_sizer)\n",
    "    \n",
    "\n",
    "    plt.xlabel(\"Extent of blood-brain \\n\" \n",
    "               r\"barrier disruption $B \\approx I$\")\n",
    "    plt.ylabel(\"Degree of circuit \\n\"\n",
    "               r\"remodeling $R$\")\n",
    "    plt.title('$D$='+str(np.round(D_const*100)/100),fontsize=font['size'])\n",
    "\n",
    "params['K_SB']=0.875 # original value reset\n",
    "    \n",
    "locals().update(params)\n",
    "\n",
    "for ii in range(0,len(D_vis_vect)):\n",
    "    \n",
    "    D_const=D_vis_vect[ii]\n",
    "\n",
    "    f = K_SB*(np.exp(k_IS*np.square(k_BI*B)+k_RS*R)-1)/(np.exp(k_IS*np.square(k_BI*B)+k_RS*R)+1)\n",
    "    U = 1./tau_B*(-B+k_IB*k_BI*B+f)\n",
    "    V = 1./tau_R*(-R+k_BR*B+k_DR*D_const) \n",
    "\n",
    "    strm = ax0.streamplot(B, R, U, V, linewidth=1/marker_sizer, color=[0.75,0.75,0.75], density=[0.,0.])\n",
    "    \n",
    "    ax0.contour(B,R,U,levels=[0.],colors='black',linewidths=1.0,linestyles='dashed')\n",
    "    ax0.contour(B,R,V,levels=[0.],colors='black',linewidths=1.0,linestyles='dashed')\n",
    "\n",
    "\n",
    "\n",
    "ax0.set_xlim([B_min,B_max])\n",
    "ax0.set_ylim([R_min,R_max])\n",
    "\n",
    "plt.gcf().subplots_adjust(bottom=margin)\n",
    "plt.gcf().subplots_adjust(left=margin)\n",
    "set_size(1.0*w,1.0*w)\n",
    "fig0.savefig('./Figures/Supplementary/Fig_S5B.pdf')      "
   ]
  },
  {
   "cell_type": "markdown",
   "metadata": {},
   "source": [
    "# FIG S5C"
   ]
  },
  {
   "cell_type": "code",
   "execution_count": 6,
   "metadata": {},
   "outputs": [
    {
     "data": {
      "image/png": "[encoded data removed]",
      "text/plain": [
       "<Figure size 158.74x165.354 with 1 Axes>"
      ]
     },
     "metadata": {
      "needs_background": "light"
     },
     "output_type": "display_data"
    }
   ],
   "source": [
    "params['K_SB']=1.5\n",
    "\n",
    "locals().update(params)\n",
    "\n",
    "B_max = 2\n",
    "R_max = 2\n",
    "B_min = -1\n",
    "R_min = -1\n",
    "\n",
    "for ii in range(0,len(D_vis_vect)):\n",
    "    \n",
    "    D_const=D_vis_vect[ii]\n",
    "\n",
    "\n",
    "    R,B = np.mgrid[R_min:R_max:5000j, B_min:B_max:5000j]\n",
    "\n",
    "    FP=[];\n",
    "    f = K_SB*(np.exp(k_IS*np.square(k_BI*B)+k_RS*R)-1)/(np.exp(k_IS*np.square(k_BI*B)+k_RS*R)+1)\n",
    "    U = 1./tau_B*(-B+k_IB*k_BI*B+f)\n",
    "    V = 1./tau_R*(-R+k_BR*B+k_DR*D_const) \n",
    "\n",
    "#     velocity = np.sqrt(U*U + V*V)                \n",
    "    FP=fixedpointsfinder(fun_dbdt,-1,2,100000) # Here we will check for steady states on given interval with given discritization step\n",
    "\n",
    "    \n",
    "    pylab.ion()\n",
    "    fig0= plt.figure()\n",
    "    ax0 = fig0.add_subplot(1, 1, 1)\n",
    "    strm = ax0.streamplot(B, R, U, V, linewidth=1/marker_sizer, color=[0.75,0.75,0.75], density=[0.5,1.5])\n",
    "\n",
    "    for cc in range(len(FP)):\n",
    "        if FP[cc][0]>=Theta:\n",
    "            col='grey'\n",
    "        else:\n",
    "            col='black' \n",
    "\n",
    "        mrksize = 10\n",
    "        if FP[cc][1]=='Unstable':\n",
    "            plt.plot(FP[cc][0],FP[cc][0]+k_DR*D_const, 'o',color=col, markersize=mrksize/marker_sizer)\n",
    "            plt.plot(FP[cc][0],FP[cc][0]+k_DR*D_const,'o',color='white', markersize=mrksize/marker_sizer-3/marker_sizer)\n",
    "        if FP[cc][1]=='Semistable':\n",
    "            plt.plot(FP[cc][0],FP[cc][0]+k_DR*D_const, 'o',color=col, markersize=mrksize/marker_sizer)\n",
    "            plt.plot(FP[cc][0],FP[cc][0]+k_DR*D_const,'o',color='white', markersize=mrksize/marker_sizer-3/marker_sizer)\n",
    "            plt.plot(FP[cc][0],FP[cc][0]+k_DR*D_const,'x',color=col, markersize=mrksize/marker_sizer-3/marker_sizer)\n",
    "        if FP[cc][1]=='Stable':\n",
    "            plt.plot(FP[cc][0],FP[cc][0]+k_DR*D_const, 'o',color=col, markersize=mrksize/marker_sizer)\n",
    "    \n",
    "    ax0.contour(B,R,U,levels=[0.],colors='gray',linewidths=1.0)\n",
    "    ax0.contour(B,R,V,levels=[0.],colors='gray',linewidths=1.0)\n",
    "    \n",
    "    threshold_position = Theta/k_BI\n",
    "    plt.plot([threshold_position, threshold_position],[R_min,R_max],'--',color='tab:red',linewidth = 3.0/marker_sizer)\n",
    "    \n",
    "\n",
    "    plt.xlabel(\"Extent of blood-brain \\n\" \n",
    "               r\"barrier disruption $B \\approx I$\")\n",
    "    plt.ylabel(\"Degree of circuit \\n\"\n",
    "               r\"remodeling $R$\")\n",
    "    plt.title('$D$='+str(np.round(D_const*100)/100),fontsize=font['size'])\n",
    "\n",
    "params['K_SB']=0.875 # setting back original value\n",
    "    \n",
    "locals().update(params)\n",
    "\n",
    "for ii in range(0,len(D_vis_vect)):\n",
    "    \n",
    "    D_const=D_vis_vect[ii]\n",
    "\n",
    "    f = K_SB*(np.exp(k_IS*np.square(k_BI*B)+k_RS*R)-1)/(np.exp(k_IS*np.square(k_BI*B)+k_RS*R)+1)\n",
    "    U = 1./tau_B*(-B+k_IB*k_BI*B+f)\n",
    "    V = 1./tau_R*(-R+k_BR*B+k_DR*D_const) \n",
    "\n",
    "    strm = ax0.streamplot(B, R, U, V, linewidth=1/marker_sizer, color=[0.75,0.75,0.75], density=[0.,0.])\n",
    "\n",
    "    ax0.contour(B,R,U,levels=[0.],colors='black',linewidths=1.0,linestyles='dashed')\n",
    "    ax0.contour(B,R,V,levels=[0.],colors='black',linewidths=1.0,linestyles='dashed')\n",
    "\n",
    "\n",
    "ax0.set_xlim([B_min,B_max])\n",
    "ax0.set_ylim([R_min,R_max])\n",
    "\n",
    "plt.gcf().subplots_adjust(bottom=margin)\n",
    "plt.gcf().subplots_adjust(left=margin)\n",
    "set_size(1.0*w,1.0*w)\n",
    "fig0.savefig('./Figures/Supplementary/Fig_S5C.pdf')      "
   ]
  },
  {
   "cell_type": "markdown",
   "metadata": {},
   "source": [
    "# FIG S5D"
   ]
  },
  {
   "cell_type": "code",
   "execution_count": 7,
   "metadata": {},
   "outputs": [],
   "source": [
    "##### Calculating seizure frequency on days 4-32 for 4 simulated intensities: matched input intensity; decreased via lowering concentration; decreased via shortening; increased via prolongation #####\n",
    "N=30\n",
    "day_0=4\n",
    "day_end=32\n",
    "\n",
    "for ii in range(0,N): # Here we gather and extract data about seizures on respective days \n",
    "    listt=np.load(DataPath_1+'/Sim_'+str(ii+1)+'.npy',allow_pickle=True)\n",
    "    t_end=listt[0]['t_end']\n",
    "    S_vec=listt[1]['S_vec'].copy()\n",
    "    t_vec=listt[1]['t_vec'].copy()\n",
    "    seiz_days=np.ceil(t_vec[S_vec!=0])\n",
    "    days=np.arange(1,t_end+1)\n",
    "    num_seiz_at_days_tmp=np.arange(1,t_end+1)\n",
    "    for kk in range(0,len(days)):\n",
    "        num_seiz_at_days_tmp[kk]=np.sum(seiz_days==days[kk])\n",
    "    if ii==0:\n",
    "        num_seiz_at_days=num_seiz_at_days_tmp.copy()\n",
    "    else:\n",
    "        num_seiz_at_days=np.vstack([num_seiz_at_days,num_seiz_at_days_tmp])\n",
    "num_seiz_at_days_sim=num_seiz_at_days # this for statistical analysis later\n",
    "# Here we gather average number of seizures per mouse per day \n",
    "avg_num_seiz_per_day = [] \n",
    "for ii in range(0,len(days)):\n",
    "    avg_num_seiz_per_day=np.append(avg_num_seiz_per_day,sum(num_seiz_at_days[:,ii]))\n",
    "avg_num_seiz_per_day=avg_num_seiz_per_day/len(num_seiz_at_days[:,0])\n",
    "SeizFr_mean_dec=np.mean(avg_num_seiz_per_day[day_0-1:day_end])\n",
    "avg_num_seiz_per_day[day_0-1:day_end]\n",
    "SeizFr_sem_dec=np.std(avg_num_seiz_per_day[day_0-1:day_end])/np.sqrt(N)\n",
    "\n",
    "\n",
    "for ii in range(0,N): # Here we gather and extract data about seizures on respective days \n",
    "    listt=np.load(DataPath_2+'/Sim_'+str(ii+1)+'.npy',allow_pickle=True)\n",
    "    t_end=listt[0]['t_end']\n",
    "    S_vec=listt[1]['S_vec'].copy()\n",
    "    t_vec=listt[1]['t_vec'].copy()\n",
    "    seiz_days=np.ceil(t_vec[S_vec!=0])\n",
    "    days=np.arange(1,t_end+1)\n",
    "    num_seiz_at_days_tmp=np.arange(1,t_end+1)\n",
    "    for kk in range(0,len(days)):\n",
    "        num_seiz_at_days_tmp[kk]=np.sum(seiz_days==days[kk])\n",
    "    if ii==0:\n",
    "        num_seiz_at_days=num_seiz_at_days_tmp.copy()\n",
    "    else:\n",
    "        num_seiz_at_days=np.vstack([num_seiz_at_days,num_seiz_at_days_tmp])\n",
    "num_seiz_at_days_simdec=num_seiz_at_days # this for statistical analysis later\n",
    "# Here we gather average number of seizures per mouse per day \n",
    "avg_num_seiz_per_day = [] \n",
    "for ii in range(0,len(days)):\n",
    "    avg_num_seiz_per_day=np.append(avg_num_seiz_per_day,sum(num_seiz_at_days[:,ii]))\n",
    "avg_num_seiz_per_day=avg_num_seiz_per_day/len(num_seiz_at_days[:,0])\n",
    "SeizFr_mean_orig=np.mean(avg_num_seiz_per_day[day_0-1:day_end])\n",
    "SeizFr_sem_orig=np.std(avg_num_seiz_per_day[day_0-1:day_end])/np.sqrt(N)\n",
    "\n",
    "for ii in range(0,N): # Here we gather and extract data about seizures on respective days \n",
    "    listt=np.load(DataPath_3+'/Sim_'+str(ii+1)+'.npy',allow_pickle=True)\n",
    "    t_end=listt[0]['t_end']\n",
    "    S_vec=listt[1]['S_vec'].copy()\n",
    "    t_vec=listt[1]['t_vec'].copy()\n",
    "    seiz_days=np.ceil(t_vec[S_vec!=0])\n",
    "    days=np.arange(1,t_end+1)\n",
    "    num_seiz_at_days_tmp=np.arange(1,t_end+1)\n",
    "    for kk in range(0,len(days)):\n",
    "        num_seiz_at_days_tmp[kk]=np.sum(seiz_days==days[kk])\n",
    "    if ii==0:\n",
    "        num_seiz_at_days=num_seiz_at_days_tmp.copy()\n",
    "    else:\n",
    "        num_seiz_at_days=np.vstack([num_seiz_at_days,num_seiz_at_days_tmp])\n",
    "num_seiz_at_days_simdec=num_seiz_at_days # this for statistical analysis later\n",
    "# Here we gather average number of seizures per mouse per day \n",
    "avg_num_seiz_per_day = [] \n",
    "for ii in range(0,len(days)):\n",
    "    avg_num_seiz_per_day=np.append(avg_num_seiz_per_day,sum(num_seiz_at_days[:,ii]))\n",
    "avg_num_seiz_per_day=avg_num_seiz_per_day/len(num_seiz_at_days[:,0])\n",
    "SeizFr_mean_inc=np.mean(avg_num_seiz_per_day[day_0-1:day_end])\n",
    "SeizFr_sem_inc=np.std(avg_num_seiz_per_day[day_0-1:day_end])/np.sqrt(N)"
   ]
  },
  {
   "cell_type": "code",
   "execution_count": 8,
   "metadata": {},
   "outputs": [
    {
     "data": {
      "image/png": "[encoded data removed]",
      "text/plain": [
       "<Figure size 380.977x165.354 with 1 Axes>"
      ]
     },
     "metadata": {
      "needs_background": "light"
     },
     "output_type": "display_data"
    }
   ],
   "source": [
    "data = load_animal_model_data('Weissberg_et_al_2015')\n",
    "\n",
    "fig, ax = plt.subplots()\n",
    "\n",
    "vec=np.array([1,3])\n",
    "plt.bar(np.array(vec),np.array([data['Seizure_freq_mean'],SeizFr_mean_orig]), color='black',\n",
    "       yerr=[data['Seizure_freq_sem'], SeizFr_sem_orig],\n",
    "       align='center',\n",
    "       alpha=1,\n",
    "       ecolor='black',\n",
    "       capsize=10/3*2, width=0.75/3*2)\n",
    "vec=np.array([2,4])\n",
    "plt.bar(np.array(vec),np.array([SeizFr_mean_dec,SeizFr_mean_inc]), color='grey',\n",
    "       yerr=[SeizFr_sem_dec,SeizFr_sem_inc],\n",
    "       align='center',\n",
    "       alpha=1,\n",
    "       ecolor='grey',\n",
    "       capsize=10/3*2, width=0.8/3*2)\n",
    "\n",
    "vec=np.array([1,2,3,4])\n",
    "plt.xticks(np.array(vec), ['(Weissberg \\n et al., 2015),\\n N = 10',\n",
    "                             r\"0.01\",\n",
    "                             '0.875 \\n Original value',\n",
    "                             r\"1.5\"], fontsize=7.5)\n",
    "\n",
    "plt.yticks(np.arange(0,3))\n",
    "plt.ylim([0,3])\n",
    "plt.ylabel(r\"Seizures occurrence $\\frac{\\textnormal{seizures}}{\\textnormal{day}}$\")\n",
    "\n",
    "ax.spines['right'].set_visible(False)\n",
    "ax.spines['top'].set_visible(False)\n",
    "\n",
    "plt.gcf().subplots_adjust(bottom=margin)\n",
    "plt.gcf().subplots_adjust(left=margin)\n",
    "set_size(3/5*4*w,w)\n",
    "fig.savefig('./Figures/Supplementary/Fig_S5D.pdf')"
   ]
  },
  {
   "cell_type": "code",
   "execution_count": null,
   "metadata": {},
   "outputs": [],
   "source": []
  }
 ],
 "metadata": {
  "kernelspec": {
   "display_name": "Python 3",
   "language": "python",
   "name": "python3"
  },
  "language_info": {
   "codemirror_mode": {
    "name": "ipython",
    "version": 3
   },
   "file_extension": ".py",
   "mimetype": "text/x-python",
   "name": "python",
   "nbconvert_exporter": "python",
   "pygments_lexer": "ipython3",
   "version": "3.7.4"
  }
 },
 "nbformat": 4,
 "nbformat_minor": 2
}
