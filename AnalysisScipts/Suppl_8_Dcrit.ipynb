{
 "cells": [
  {
   "cell_type": "code",
   "execution_count": null,
   "metadata": {},
   "outputs": [],
   "source": [
    "%reset\n",
    "import numpy\n",
    "import pylab\n",
    "\n",
    "alpha = 7/8/0.9\n",
    "k_DR = 0.0005\n",
    "k_BR = 1 \n",
    "D=0\n",
    "\n",
    "\n",
    "# the nonlinear function (Eq. S19):\n",
    "def nonlinear_R(alpha,B):\n",
    "    return -B**2. +1/2*numpy.log((alpha+B)/(alpha-B))\n",
    "\n",
    "# the linear function (Eq. S12)\n",
    "def linear_R(B,D):\n",
    "    return k_BR*B + k_DR*D\n",
    "\n",
    "b = numpy.arange(0.,0.96,0.01) # define a range for B. The maximum value of B cannot be bigger than alpha!\n",
    "r_nonlinear = nonlinear_R(alpha,b)\n",
    "r_linear = linear_R(b,D)\n",
    "\n",
    "# The intersections of the curves below define the fixed points of the system\n",
    "pylab.ion()\n",
    "pylab.figure()\n",
    "pylab.plot(b,r_nonlinear,label = 'nonlinear R')\n",
    "pylab.plot(b,r_linear,label = 'linear R')\n",
    "pylab.legend()\n",
    "pylab.xlabel('B')\n",
    "pylab.ylabel('R')\n",
    "\n",
    "# we need to set the derivative of nonlinear_R to 1. The equation will be 2*B**3 + B**2 -2*B*(alpha**2) +  alpha - alpha**2 = 0. The roots are called solutions (for B) in the following:\n",
    "solutions = numpy.roots([2., 1., -2*alpha**2, alpha-alpha**2])\n",
    "positive_id = numpy.where(solutions >= 0.)[0] # the index of the solutions which are greater than zero\n",
    "solutions_positive = solutions[positive_id] # positive solutions\n",
    "\n",
    "B1 = solutions_positive[0]\n",
    "B2 = solutions_positive[1]\n",
    "\n",
    "R1 = nonlinear_R(alpha,B1) # finds the R value of the nonlinear equation for B1 which gives the derivative equal to 1.\n",
    "D1 = (R1-B1)/k_DR # the value of D for the linear system to give that R1. This makes sure there is an intersection between the linear and the nonlinear equation\n",
    "\n",
    "print('B1 = '+str(B1)+' gives R1 = '+str(R1)+' gives D1 = '+str(D1))\n",
    "\n",
    "R2 = nonlinear_R(alpha,B2)\n",
    "D2 = (R2-B2)/k_DR\n",
    "\n",
    "print('B2 = '+str(B2)+' gives R2 = '+str(R2)+' gives D2 = '+str(D2))\t# we accept the positive result for D."
   ]
  }
 ],
 "metadata": {
  "kernelspec": {
   "display_name": "Python 3",
   "language": "python",
   "name": "python3"
  },
  "language_info": {
   "codemirror_mode": {
    "name": "ipython",
    "version": 3
   },
   "file_extension": ".py",
   "mimetype": "text/x-python",
   "name": "python",
   "nbconvert_exporter": "python",
   "pygments_lexer": "ipython3",
   "version": "3.7.4"
  }
 },
 "nbformat": 4,
 "nbformat_minor": 2
}
