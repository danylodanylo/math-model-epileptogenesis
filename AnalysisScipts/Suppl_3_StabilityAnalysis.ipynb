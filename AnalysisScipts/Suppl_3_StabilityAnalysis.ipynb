{
 "cells": [
  {
   "cell_type": "code",
   "execution_count": 1,
   "metadata": {},
   "outputs": [
    {
     "name": "stdout",
     "output_type": "stream",
     "text": [
      "Once deleted, variables cannot be recovered. Proceed (y/[n])? y\n"
     ]
    }
   ],
   "source": [
    "%reset\n",
    "import numpy as np\n",
    "import pylab\n",
    "import matplotlib\n",
    "import matplotlib.pyplot as plt\n",
    "\n",
    "%run ../DataGenerationScripts/set_size.ipynb # loading function for pdf output sizer"
   ]
  },
  {
   "cell_type": "code",
   "execution_count": 2,
   "metadata": {},
   "outputs": [],
   "source": [
    "h=2.8*0.393701 #inch\n",
    "w=2.8*0.393701 #inch\n",
    "\n",
    "alpha_value=0.6\n",
    "col='gray'\n",
    "marker_sizer=2.5\n",
    "mrksize=10\n",
    "margin=0.4 #relative\n",
    "\n",
    "font = {'size'   : 8}\n",
    "plt.rc('font', **font)\n",
    "plt.rc('text', usetex=True)"
   ]
  },
  {
   "cell_type": "code",
   "execution_count": 3,
   "metadata": {},
   "outputs": [
    {
     "name": "stdout",
     "output_type": "stream",
     "text": [
      "fixed point 1 is (B,R)=(4.999999999999986e-06 , 4.999999999999986e-06) and the eigenvalues at this point are -0.013245691721504693 ,-1.8867455582784955\n",
      "fixed point 2 is (B,R)=(0.028874999999999998 , 0.028874999999999998) and the eigenvalues at this point are 0.013267714287084287 ,-1.8627810374822937\n",
      "fixed point 3 is (B,R)=(0.9156849999999999 , 0.9156849999999999) and the eigenvalues at this point are -0.5152248122206156 ,-1.203821713208938\n"
     ]
    },
    {
     "data": {
      "image/png": "[encoded data removed]",
      "text/plain": [
       "<Figure size 432x288 with 1 Axes>"
      ]
     },
     "metadata": {
      "needs_background": "light"
     },
     "output_type": "display_data"
    }
   ],
   "source": [
    "K_SB = 7./8.\n",
    "k_DR = 0.0005\n",
    "k_BR = 1\n",
    "alpha = K_SB/0.9\n",
    "\n",
    "# D can take the values 0; 0.2; 0.3; 0.34; 0.38 ~0.4103036; 1. # for D=1. we should only consider (b1,r1) and e1, e2 since only 1 fixed point remains after the saddle-node bifurcation.\n",
    "D =0\n",
    "\n",
    "def curve(B): # the intersection of this curve and the horizontal axis R=0 gives the solutions for B which form a maximum of 3 fixed points.\n",
    "    return -0.9*B + K_SB*(np.exp(2.*(B**2.+k_BR*B+k_DR*D))-1.)/(np.exp(2.*(B**2.+k_BR*B+k_DR*D))+1.)\n",
    "\n",
    "def linear_R(B):\n",
    "    return k_BR*B+k_DR*D\n",
    "\n",
    "def nonlinear_R(alpha,B):\n",
    "    return -B**2. +0.5*np.log((lamb+B)/(lamb-B))\n",
    "\n",
    "b = np.arange(-0.0001,1.0001,0.00001)\n",
    "out = curve(b)\n",
    "\n",
    "pylab.ion()\n",
    "pylab.figure()\n",
    "pylab.plot(b,out)\n",
    "\n",
    "ind = np.where(out<0.)[0] # when the curve is negative for the first time it means that it has crossed zero just before that\n",
    "jump_ind = np.where(np.diff(ind)>1.)[0] # this finds the index of the value of the curve that forms the saddle point in between the three fixed points\n",
    "\n",
    "# we approximate the solutions to be the average of B values right before and after zero crossing\n",
    "b1 = 0.5*(b[ind[0]]+b[ind[0]-1])\n",
    "b2 = 0.5*(b[ind[jump_ind]+1]+b[ind[jump_ind]])[0]\n",
    "b3 = 0.5*(b[ind[jump_ind+1]-1]+b[ind[jump_ind+1]])[0]\n",
    "\n",
    "r1 = linear_R(b1)\n",
    "r2 = linear_R(b2)\n",
    "r3 = linear_R(b3)\n",
    "\n",
    "def Jac(b,r):\n",
    "    dbdb = -0.9 + 7.*b*np.exp(2.*(b**2.+r))/((np.exp(2.*(b**2.+r))+1.)**2)\n",
    "    dbdr = 7.*np.exp(2.*(b**2.+r))/(2.*(np.exp(2.*(b**2.+r))+1.)**2)\n",
    "    drdb = 1.\n",
    "    drdr = -1.\n",
    "    return [[dbdb, dbdr],[drdb, drdr]]\n",
    "\n",
    "e1, e2 = np.linalg.eigvals(Jac(b1,r1))\t# eigenvalues of fixed point 1 closest to the origin\n",
    "ee1, ee2 = np.linalg.eigvals(Jac(b2,r2))\t# eigenvalues of fixed point 2 which is a saddle if it exists\n",
    "eee1, eee2 = np.linalg.eigvals(Jac(b3,r3))\t# eigenvalues of fixed point 3 which is the farthest from the origin and is always stable\n",
    "\n",
    "# all negative eigenvalues for a single fixed point means a stable fixed point (attractor). At least 1 positive eigenvalue means there is at least one unstable manifold, and that indicates a saddle point if the other eigenvalue is negative.\n",
    "print('fixed point 1 is (B,R)=('+str(b1)+' , '+str(r1)+') and the eigenvalues at this point are '+str(e1)+' ,'+str(e2))\n",
    "print('fixed point 2 is (B,R)=('+str(b2)+' , '+str(r2)+') and the eigenvalues at this point are '+str(ee1)+' ,'+str(ee2))\n",
    "print('fixed point 3 is (B,R)=('+str(b3)+' , '+str(r3)+') and the eigenvalues at this point are '+str(eee1)+' ,'+str(eee2))"
   ]
  },
  {
   "cell_type": "code",
   "execution_count": 4,
   "metadata": {},
   "outputs": [
    {
     "data": {
      "image/png": "[encoded data removed]",
      "text/plain": [
       "<Figure size 793.701x297.638 with 1 Axes>"
      ]
     },
     "metadata": {
      "needs_background": "light"
     },
     "output_type": "display_data"
    }
   ],
   "source": [
    "D_critical=0.4103036 # to see calculation of this value and respective steady state values of other variables, see Appendix section 7 \"Estimation of critical extent of neuronal loss\"\n",
    "\n",
    "d = np.arange(0,1.001,0.05)\n",
    "b = np.arange(-0.0001,1.0001,0.00001)\n",
    "\n",
    "fig = matplotlib.pyplot.gcf()\n",
    "ax = fig.add_subplot(1, 1, 1)\n",
    "\n",
    "for ii in range(0,len(d)):\n",
    "    D=d[ii]\n",
    "    if D<=D_critical:\n",
    "    \n",
    "        b = np.arange(-0.0001,1.0001,0.00001)\n",
    "        out = curve(b)\n",
    "        \n",
    "        ind = np.where(out<0.)[0]\t# when the curve is negative for the first time it means that it has crossed zero just before that\n",
    "        jump_ind = np.where(np.diff(ind)>1.)[0]\t# this finds the index of the value of the curve that forms the saddle point in between the three fixed points\n",
    "\n",
    "        b1 = 0.5*(b[ind[0]]+b[ind[0]-1])\n",
    "        b2 = 0.5*(b[ind[jump_ind]+1]+b[ind[jump_ind]])[0]\n",
    "        b3 = 0.5*(b[ind[jump_ind+1]-1]+b[ind[jump_ind+1]])[0]\n",
    "\n",
    "        r1 = linear_R(b1)\n",
    "        r2 = linear_R(b2)\n",
    "        r3 = linear_R(b3)\n",
    "    \n",
    "        e1, e2 = np.linalg.eigvals(Jac(b1,r1)) # eigenvalues of fixed point 1 closest to the origin\n",
    "        ee1, ee2 = np.linalg.eigvals(Jac(b2,r2)) # eigenvalues of fixed point 2 which is a saddle if it exists\n",
    "        eee1, eee2 = np.linalg.eigvals(Jac(b3,r3)) # eigenvalues of fixed point 3 which is the farthest from the origin and is always stable\n",
    " \n",
    "        col='black'\n",
    "        if e1<0 and e2<0:\n",
    "            plt.plot(b1,D, 'o',color=col, markersize=mrksize/marker_sizer)  \n",
    "        elif (e1<0 and e2>0) or (e1>0 and e2<0):\n",
    "            plt.plot(b1,D, 'o',color=col, markersize=mrksize/marker_sizer)  \n",
    "            plt.plot(b1,D,'o',color='white', markersize=mrksize/marker_sizer-3/marker_sizer)\n",
    "            \n",
    "        if ee1<0 and ee2<0:\n",
    "            plt.plot(b2,D, 'o',color=col, markersize=mrksize/marker_sizer)  \n",
    "        elif (ee1<0 and ee2>0) or (ee1>0 and ee2<0):\n",
    "            plt.plot(b2,D, 'o',color=col, markersize=mrksize/marker_sizer)  \n",
    "            plt.plot(b2,D,'o',color='white', markersize=mrksize/marker_sizer-3/marker_sizer)\n",
    "        \n",
    "        col='grey'    \n",
    "        if eee1<0 and eee2<0:\n",
    "            plt.plot(b3,D, 'o',color=col, markersize=mrksize/marker_sizer)  \n",
    "        elif (e1<0 and e2>0) or (e1>0 and e2<0):\n",
    "            plt.plot(b3,D, 'o',color=col, markersize=mrksize/marker_sizer)  \n",
    "            plt.plot(b3,D,'o',color='white', markersize=mrksize/marker_sizer-3/marker_sizer) \n",
    "            \n",
    "    else:\n",
    "    \n",
    "        b = np.arange(-0.0001,1.0001,0.00001)\n",
    "        out = curve(b)\n",
    "        \n",
    "        ind = np.where(out<0.)[0] # when the curve is negative for the first time it means that it has crossed zero just before that\n",
    "        jump_ind = np.where(np.diff(ind)>1.)[0]\t# this finds the index of the value of the curve that forms the saddle point in between the three fixed points\n",
    "\n",
    "        b1 = 0.5*(b[ind[0]]+b[ind[0]-1])\n",
    "        \n",
    "        r1 = linear_R(b1)\n",
    "        \n",
    "        e1, e2 = np.linalg.eigvals(Jac(b1,r1)) # eigenvalues of the only fixed point\n",
    "        col='gray'\n",
    "\n",
    "        if e1<0 and e2<0:\n",
    "            plt.plot(b1,D, 'o',color=col, markersize=mrksize/marker_sizer)  \n",
    "        elif (e1<0 and e2>0) or (e1>0 and e2<0):\n",
    "            plt.plot(b1,D, 'o',color=col, markersize=mrksize/marker_sizer)  \n",
    "            plt.plot(b1,D,'o',color='white', markersize=mrksize/marker_sizer-3/marker_sizer)\n",
    "\n",
    "mrksize = 14\n",
    "col='black'\n",
    "\n",
    "b_critical=0.0143\n",
    "plt.plot(b_critical,D_critical, 'o',color=col, markersize=mrksize/marker_sizer)         \n",
    "plt.plot(b_critical,D_critical,'o',color='white', markersize=mrksize/marker_sizer-3/marker_sizer)\n",
    "plt.plot(b_critical,D_critical,'x',color=col, markersize=mrksize/marker_sizer-3/marker_sizer)   \n",
    "              \n",
    "plt.ylabel(r'Extent of neuronal loss, $D_{\\textnormal{const}}$')\n",
    "plt.xlabel(r'Extent of BBB disruption, $B^*$')\n",
    "\n",
    "ax.spines['right'].set_visible(False)\n",
    "ax.spines['top'].set_visible(False)\n",
    "\n",
    "plt.gcf().subplots_adjust(bottom=margin)\n",
    "plt.gcf().subplots_adjust(left=margin)\n",
    "plt.gcf().subplots_adjust(top=1-margin/2)\n",
    "plt.gcf().subplots_adjust(right=1-margin/2)\n",
    "set_size(4*w,1.5*w) \n",
    "fig.savefig('../Figures/Supplementary/Fig_A3.pdf')"
   ]
  }
 ],
 "metadata": {
  "kernelspec": {
   "display_name": "Python 3",
   "language": "python",
   "name": "python3"
  },
  "language_info": {
   "codemirror_mode": {
    "name": "ipython",
    "version": 3
   },
   "file_extension": ".py",
   "mimetype": "text/x-python",
   "name": "python",
   "nbconvert_exporter": "python",
   "pygments_lexer": "ipython3",
   "version": "3.7.4"
  }
 },
 "nbformat": 4,
 "nbformat_minor": 2
}
