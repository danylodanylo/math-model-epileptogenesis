{
 "cells": [
  {
   "cell_type": "code",
   "execution_count": 5,
   "metadata": {},
   "outputs": [
    {
     "name": "stdout",
     "output_type": "stream",
     "text": [
      "Once deleted, variables cannot be recovered. Proceed (y/[n])? y\n"
     ]
    }
   ],
   "source": [
    "%reset\n",
    "import numpy as np\n",
    "import matplotlib\n",
    "import matplotlib.pyplot as plt\n",
    "\n",
    "%run ../DataGenerationScripts/load_default_parameters.ipynb # loading model parameters\n",
    "%run ../DataGenerationScripts/dIBDRdt_functions.ipynb # loading time derivative functions \n",
    "%run ../DataGenerationScripts/set_size.ipynb # loading function for pdf output sizer"
   ]
  },
  {
   "cell_type": "code",
   "execution_count": 6,
   "metadata": {},
   "outputs": [],
   "source": [
    "h=2.8*0.393701 #inch\n",
    "w=2.8*0.393701 #inch\n",
    "\n",
    "alpha_value=0.6\n",
    "col='gray'\n",
    "marker_sizer=2.5\n",
    "mrksize=10\n",
    "margin=0.4 #relative\n",
    "\n",
    "font = {'size'   : 8}\n",
    "plt.rc('font', **font)\n",
    "plt.rc('text', usetex=True)"
   ]
  },
  {
   "cell_type": "code",
   "execution_count": 9,
   "metadata": {},
   "outputs": [
    {
     "data": {
      "image/png": "[encoded data removed]",
      "text/plain": [
       "<Figure size 317.48x396.851 with 1 Axes>"
      ]
     },
     "metadata": {
      "needs_background": "light"
     },
     "output_type": "display_data"
    }
   ],
   "source": [
    "params=load_default_parameters('stochastic')\n",
    "Ki2r=np.linspace(0, 6,10001)\n",
    "\n",
    "fig= plt.figure()\n",
    "plt.plot(Ki2r,params['lambda_max']*(np.exp(2*Ki2r)-1)/(np.exp(2*Ki2r)+1),'k')\n",
    "plt.xlabel(r'Seizure promoting factors $I^2+R$')\n",
    "plt.ylabel(r'Seizure rate $\\lambda_s$, $\\frac{\\textnormal{seizures}}{\\textnormal{day}}$')\n",
    "\n",
    "tix= np.arange(0,7)\n",
    "plt.xticks(tix)\n",
    "plt.ylim([0,17])\n",
    "\n",
    "plt.gcf().subplots_adjust(top=1-margin)\n",
    "plt.gcf().subplots_adjust(bottom=margin)\n",
    "plt.gcf().subplots_adjust(left=margin)\n",
    "set_size(2*w,w) \n",
    "fig.savefig('../Figures/Supplementary/Fig_A1.pdf')"
   ]
  }
 ],
 "metadata": {
  "kernelspec": {
   "display_name": "Python 3",
   "language": "python",
   "name": "python3"
  },
  "language_info": {
   "codemirror_mode": {
    "name": "ipython",
    "version": 3
   },
   "file_extension": ".py",
   "mimetype": "text/x-python",
   "name": "python",
   "nbconvert_exporter": "python",
   "pygments_lexer": "ipython3",
   "version": "3.7.4"
  }
 },
 "nbformat": 4,
 "nbformat_minor": 2
}
