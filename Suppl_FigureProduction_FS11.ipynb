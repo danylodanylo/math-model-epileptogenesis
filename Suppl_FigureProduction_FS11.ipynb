{
 "cells": [
  {
   "cell_type": "code",
   "execution_count": 1,
   "metadata": {},
   "outputs": [
    {
     "name": "stdout",
     "output_type": "stream",
     "text": [
      "Once deleted, variables cannot be recovered. Proceed (y/[n])? y\n"
     ]
    }
   ],
   "source": [
    "%reset \n",
    "import numpy as np\n",
    "import matplotlib\n",
    "import matplotlib.pyplot as plt\n",
    "from tqdm import tqdm\n",
    "import os\n",
    "from matplotlib import cm\n",
    "import matplotlib.patches as patches\n",
    "import pylab\n",
    "from scipy.optimize import fsolve\n",
    "\n",
    "\n",
    "DataPath_1='./Data/Suppl_Data_FS11_Stoch_BBBm'\n",
    "DataPath_2='./Data/Suppl_Data_FS11_Stoch_BBBm_dec'\n",
    "DataPath_3='./Data/Suppl_Data_FS11_Stoch_BBBm_short'\n",
    "DataPath_4='./Data/Suppl_Data_FS11_Stoch_BBBm_long'\n",
    "\n",
    "%run ./DataGenerationScripts/load_default_parameters.ipynb # loading model parameters\n",
    "%run ./DataGenerationScripts/set_size.ipynb # loading function for pdf output sizer\n",
    "%run ./DataGenerationScripts/aux_state_space.ipynb # loading auxiliarry functions for state space vizualization\n",
    "%run ./DataGenerationScripts/load_animal_model_data.ipynb # loading function for pdf output sizer\n",
    "%run ./DataGenerationScripts/dIBDRdt_functions.ipynb # loading time derivative functions"
   ]
  },
  {
   "cell_type": "code",
   "execution_count": 2,
   "metadata": {},
   "outputs": [
    {
     "name": "stderr",
     "output_type": "stream",
     "text": [
      "\r",
      "  0%|          | 0/60 [00:00<?, ?it/s]"
     ]
    },
    {
     "name": "stdout",
     "output_type": "stream",
     "text": [
      "Data not found. Running Data Generation script\n"
     ]
    },
    {
     "name": "stderr",
     "output_type": "stream",
     "text": [
      "100%|██████████| 60/60 [01:07<00:00,  1.13s/it]\n",
      "  0%|          | 0/60 [00:00<?, ?it/s]"
     ]
    },
    {
     "name": "stdout",
     "output_type": "stream",
     "text": [
      "Data not found. Running Data Generation script\n"
     ]
    },
    {
     "name": "stderr",
     "output_type": "stream",
     "text": [
      "100%|██████████| 60/60 [01:03<00:00,  1.06s/it]\n",
      "  0%|          | 0/60 [00:00<?, ?it/s]"
     ]
    },
    {
     "name": "stdout",
     "output_type": "stream",
     "text": [
      "Data not found. Running Data Generation script\n"
     ]
    },
    {
     "name": "stderr",
     "output_type": "stream",
     "text": [
      "100%|██████████| 60/60 [00:58<00:00,  1.02it/s]\n",
      "  0%|          | 0/60 [00:00<?, ?it/s]"
     ]
    },
    {
     "name": "stdout",
     "output_type": "stream",
     "text": [
      "Data not found. Running Data Generation script\n"
     ]
    },
    {
     "name": "stderr",
     "output_type": "stream",
     "text": [
      "100%|██████████| 60/60 [00:59<00:00,  1.01it/s]\n"
     ]
    }
   ],
   "source": [
    "##### This cell checks whether data exists. If not, it is being generated #####\n",
    "if not os.path.isdir(DataPath_1):\n",
    "    os.makedirs(DataPath_1)\n",
    "if not os.path.isfile(DataPath_1+'/Sim_1.npy'):\n",
    "    print('Data not found. Running Data Generation script')\n",
    "    RunningFromFigureScript=True\n",
    "    %run ./DataGenerationScripts/Suppl_DataGeneration_FS11_Stoch_BBBm_N60.ipynb\n",
    "if not os.path.isdir(DataPath_2):\n",
    "    os.makedirs(DataPath_2)\n",
    "if not os.path.isfile(DataPath_2+'/Sim_1.npy'):\n",
    "    print('Data not found. Running Data Generation script')\n",
    "    RunningFromFigureScript=True\n",
    "    %run ./DataGenerationScripts/Suppl_DataGeneration_FS11_Stoch_BBBm_dec_N60.ipynb\n",
    "if not os.path.isdir(DataPath_3):\n",
    "    os.makedirs(DataPath_3)\n",
    "if not os.path.isfile(DataPath_3+'/Sim_1.npy'):\n",
    "    print('Data not found. Running Data Generation script')\n",
    "    RunningFromFigureScript=True\n",
    "    %run ./DataGenerationScripts/Suppl_DataGeneration_FS11_Stoch_BBBm_short_N60.ipynb\n",
    "if not os.path.isdir(DataPath_4):\n",
    "    os.makedirs(DataPath_4)\n",
    "if not os.path.isfile(DataPath_4+'/Sim_1.npy'):\n",
    "    print('Data not found. Running Data Generation script')\n",
    "    RunningFromFigureScript=True\n",
    "    %run ./DataGenerationScripts/Suppl_DataGeneration_FS11_Stoch_BBBm_long_N60.ipynb"
   ]
  },
  {
   "cell_type": "code",
   "execution_count": 3,
   "metadata": {},
   "outputs": [],
   "source": [
    "font = {'size'   : 8}\n",
    "# plt.rc('font', family='sans-serif') \n",
    "# plt.rc('font', serif='Helvetica Neue')\n",
    "plt.rc('font',**{'family':'sans-serif','serif':['Helvetica Neue']})\n",
    "plt.rc('font', **font)\n",
    "plt.rc('text', usetex=True)\n",
    "\n",
    "viridis = cm.get_cmap('viridis', 12)\n",
    "color_scheme_5examples = [viridis(0.0)[0:3],viridis(0.3)[0:3],viridis(0.55)[0:3],viridis(0.75)[0:3],viridis(0.95)[0:3]]\n",
    "alpha_value=0.45\n",
    "marker_sizer=2.5\n",
    "dt_vis=30\n",
    "\n",
    "\n",
    "h=2.8*0.393701 #[cm] to  modification [inch] Height of output figure\n",
    "w=2.8*0.393701 #[cm] to  modification [inch] Width of output figure\n",
    "margin=0.4 # [1] margin ratio of output figure layout\n",
    "size_scaler=2.5"
   ]
  },
  {
   "cell_type": "markdown",
   "metadata": {},
   "source": [
    "# Fig S11B top"
   ]
  },
  {
   "cell_type": "code",
   "execution_count": 4,
   "metadata": {},
   "outputs": [],
   "source": [
    "##### Calculating latent period duration for 4 simulated intensities: matched input intensity; decreased via lowering concentration; decreased via shortening; increased via prolongation #####\n",
    "N=60\n",
    "\n",
    "day_first_seiz=np.zeros(N)\n",
    "for ii in range(0,N): # Here we gather and extract data about seizures on respective days \n",
    "    listt=np.load(DataPath_1+'/Sim_'+str(ii+1)+'.npy',allow_pickle=True)\n",
    "    S_vec=listt[1]['S_vec'].copy()\n",
    "    t_vec=listt[1]['t_vec'].copy()\n",
    "    seiz_days=np.ceil(t_vec[S_vec!=0])\n",
    "    day_first_seiz[ii]=seiz_days[0]\n",
    "day_first_seiz_sim=day_first_seiz\n",
    "LP_mean=np.mean(day_first_seiz)   \n",
    "LP_sem=np.std(day_first_seiz)/np.sqrt(N)\n",
    "\n",
    "day_first_seiz=np.zeros(N)\n",
    "for ii in range(0,N): # Here we gather and extract data about seizures on respective days \n",
    "    listt=np.load(DataPath_2+'/Sim_'+str(ii+1)+'.npy',allow_pickle=True)\n",
    "    S_vec=listt[1]['S_vec'].copy()\n",
    "    t_vec=listt[1]['t_vec'].copy()\n",
    "    seiz_days=np.ceil(t_vec[S_vec!=0])\n",
    "    day_first_seiz[ii]=seiz_days[0]\n",
    "day_first_seiz_simdec=day_first_seiz\n",
    "LP_mean_dec=np.mean(day_first_seiz)   \n",
    "LP_sem_dec=np.std(day_first_seiz)/np.sqrt(N)\n",
    "\n",
    "day_first_seiz=np.zeros(N)\n",
    "for ii in range(0,N): # Here we gather and extract data about seizures on respective days \n",
    "    listt=np.load(DataPath_3+'/Sim_'+str(ii+1)+'.npy',allow_pickle=True)\n",
    "    S_vec=listt[1]['S_vec'].copy()\n",
    "    t_vec=listt[1]['t_vec'].copy()\n",
    "    seiz_days=np.ceil(t_vec[S_vec!=0])\n",
    "    day_first_seiz[ii]=seiz_days[0]\n",
    "day_first_seiz_simshort=day_first_seiz\n",
    "LP_mean_short=np.mean(day_first_seiz)   \n",
    "LP_sem_short=np.std(day_first_seiz)/np.sqrt(N)\n",
    "\n",
    "day_first_seiz=np.zeros(N)\n",
    "for ii in range(0,N): # Here we gather and extract data about seizures on respective days \n",
    "    listt=np.load(DataPath_4+'/Sim_'+str(ii+1)+'.npy',allow_pickle=True)\n",
    "    S_vec=listt[1]['S_vec'].copy()\n",
    "    t_vec=listt[1]['t_vec'].copy()\n",
    "    seiz_days=np.ceil(t_vec[S_vec!=0])\n",
    "    day_first_seiz[ii]=seiz_days[0]\n",
    "day_first_seiz_simlong=day_first_seiz\n",
    "LP_mean_long=np.mean(day_first_seiz)   \n",
    "LP_sem_long=np.std(day_first_seiz)/np.sqrt(N)"
   ]
  },
  {
   "cell_type": "code",
   "execution_count": 5,
   "metadata": {},
   "outputs": [
    {
     "data": {
      "image/png": "[encoded data removed]",
      "text/plain": [
       "<Figure size 476.221x165.354 with 1 Axes>"
      ]
     },
     "metadata": {
      "needs_background": "light"
     },
     "output_type": "display_data"
    }
   ],
   "source": [
    "data = load_animal_model_data('Weissberg_et_al_2015')\n",
    "\n",
    "fig, ax = plt.subplots()\n",
    "vec=np.array([1,2,3,4,5])\n",
    "plt.bar(np.array(vec),np.array([data['LatentPeriod_mean'], LP_mean, LP_mean_dec, LP_mean_short, LP_mean_long]), color='grey',\n",
    "       yerr=[data['LatentPeriod_sem'],LP_sem, LP_sem_dec, LP_sem_short, LP_sem_long],\n",
    "       align='center',\n",
    "       alpha=1,\n",
    "       ecolor='grey',\n",
    "       capsize=10/3*2,width=0.8/3*2)\n",
    "\n",
    "plt.xticks(np.array(vec), ['(Weissberg \\n et al., 2015),\\n N = 10',\n",
    "                             r\"$B^E$ = 0.25,\"\"\\n\" r\"$T_\\textnormal{off}$ = 7 days\",\n",
    "                             r\"$B^E \\times 50\\%$\",\n",
    "                             r\"$T_\\textnormal{off} \\times 50\\%$\",\n",
    "                             r\"$T_\\textnormal{off} \\times 150\\%$\"], fontsize=7.5)\n",
    "\n",
    "plt.yticks(np.arange(0,9))\n",
    "plt.ylabel('Latent period duration, days')\n",
    "\n",
    "ax.spines['right'].set_visible(False)\n",
    "ax.spines['top'].set_visible(False)\n",
    "\n",
    "plt.gcf().subplots_adjust(bottom=margin)\n",
    "plt.gcf().subplots_adjust(left=margin)\n",
    "set_size(3*w,w)\n",
    "fig.savefig('Figures/Supplementary/Fig_S11B_top.pdf')"
   ]
  },
  {
   "cell_type": "code",
   "execution_count": 6,
   "metadata": {},
   "outputs": [
    {
     "name": "stdout",
     "output_type": "stream",
     "text": [
      "Statistics DEC=1093.000, p=0.000\n",
      "0.00017687600793497033\n",
      "Statistics SHORT=1714.500, p=0.650\n",
      "0.650100685427575\n",
      "Statistics LONG=1800.000, p=0.998\n",
      "0.9978671566442143\n"
     ]
    }
   ],
   "source": [
    "## STATISTICS U TEST:\n",
    "from scipy.stats import mannwhitneyu\n",
    "stat, p = mannwhitneyu(day_first_seiz_sim, day_first_seiz_simdec,alternative='two-sided')\n",
    "print('Statistics DEC=%.3f, p=%.3f' % (stat, p))\n",
    "print(p)\n",
    "stat, p = mannwhitneyu(day_first_seiz_sim, day_first_seiz_simshort,alternative='two-sided')\n",
    "print('Statistics SHORT=%.3f, p=%.3f' % (stat, p))\n",
    "print(p)\n",
    "stat, p = mannwhitneyu(day_first_seiz_sim, day_first_seiz_simlong,alternative='two-sided')\n",
    "print('Statistics LONG=%.3f, p=%.3f' % (stat, p))\n",
    "print(p)\n",
    "\n",
    "# plt.hist(day_first_seiz_sim,edgecolor='k',alpha=0.25)\n",
    "# plt.hist(day_first_seiz_simdec,alpha=0.25)\n",
    "# plt.hist(day_first_seiz_simlong,alpha=0.25)\n",
    "# plt.hist(day_first_seiz_simshort,alpha=0.25)"
   ]
  },
  {
   "cell_type": "markdown",
   "metadata": {},
   "source": [
    "# Fig S11B bottom"
   ]
  },
  {
   "cell_type": "code",
   "execution_count": 7,
   "metadata": {},
   "outputs": [],
   "source": [
    "##### Calculating seizure frequency on days 4-32 for 4 simulated intensities: matched input intensity; decreased via lowering concentration; decreased via shortening; increased via prolongation #####\n",
    "N=60\n",
    "day_0=4\n",
    "day_end=32\n",
    "\n",
    "for ii in range(0,N): # Here we gather and extract data about seizures on respective days \n",
    "    listt=np.load(DataPath_1+'/Sim_'+str(ii+1)+'.npy',allow_pickle=True)\n",
    "    t_end=listt[0]['t_end']\n",
    "    S_vec=listt[1]['S_vec'].copy()\n",
    "    t_vec=listt[1]['t_vec'].copy()\n",
    "    seiz_days=np.ceil(t_vec[S_vec!=0])\n",
    "    days=np.arange(1,t_end+1)\n",
    "    num_seiz_at_days_tmp=np.arange(1,t_end+1)\n",
    "    for kk in range(0,len(days)):\n",
    "        num_seiz_at_days_tmp[kk]=np.sum(seiz_days==days[kk])\n",
    "    if ii==0:\n",
    "        num_seiz_at_days=num_seiz_at_days_tmp.copy()\n",
    "    else:\n",
    "        num_seiz_at_days=np.vstack([num_seiz_at_days,num_seiz_at_days_tmp])\n",
    "num_seiz_at_days_sim=num_seiz_at_days # this for statistical analysis later\n",
    "# Here we gather average number of seizures per mouse per day \n",
    "avg_num_seiz_per_day = [] \n",
    "for ii in range(0,len(days)):\n",
    "    avg_num_seiz_per_day=np.append(avg_num_seiz_per_day,sum(num_seiz_at_days[:,ii]))\n",
    "avg_num_seiz_per_day=avg_num_seiz_per_day/len(num_seiz_at_days[:,0])\n",
    "SeizFr_mean=np.mean(avg_num_seiz_per_day[day_0-1:day_end])\n",
    "avg_num_seiz_per_day[day_0-1:day_end]\n",
    "SeizFr_sem=np.std(avg_num_seiz_per_day[day_0-1:day_end])/np.sqrt(N)\n",
    "\n",
    "\n",
    "for ii in range(0,N): # Here we gather and extract data about seizures on respective days \n",
    "    listt=np.load(DataPath_2+'/Sim_'+str(ii+1)+'.npy',allow_pickle=True)\n",
    "    t_end=listt[0]['t_end']\n",
    "    S_vec=listt[1]['S_vec'].copy()\n",
    "    t_vec=listt[1]['t_vec'].copy()\n",
    "    seiz_days=np.ceil(t_vec[S_vec!=0])\n",
    "    days=np.arange(1,t_end+1)\n",
    "    num_seiz_at_days_tmp=np.arange(1,t_end+1)\n",
    "    for kk in range(0,len(days)):\n",
    "        num_seiz_at_days_tmp[kk]=np.sum(seiz_days==days[kk])\n",
    "    if ii==0:\n",
    "        num_seiz_at_days=num_seiz_at_days_tmp.copy()\n",
    "    else:\n",
    "        num_seiz_at_days=np.vstack([num_seiz_at_days,num_seiz_at_days_tmp])\n",
    "num_seiz_at_days_simdec=num_seiz_at_days # this for statistical analysis later\n",
    "# Here we gather average number of seizures per mouse per day \n",
    "avg_num_seiz_per_day = [] \n",
    "for ii in range(0,len(days)):\n",
    "    avg_num_seiz_per_day=np.append(avg_num_seiz_per_day,sum(num_seiz_at_days[:,ii]))\n",
    "avg_num_seiz_per_day=avg_num_seiz_per_day/len(num_seiz_at_days[:,0])\n",
    "SeizFr_mean_dec=np.mean(avg_num_seiz_per_day[day_0-1:day_end])\n",
    "SeizFr_sem_dec=np.std(avg_num_seiz_per_day[day_0-1:day_end])/np.sqrt(N)\n",
    "\n",
    "\n",
    "for ii in range(0,N): # Here we gather and extract data about seizures on respective days \n",
    "    listt=np.load(DataPath_3+'/Sim_'+str(ii+1)+'.npy',allow_pickle=True)\n",
    "    t_end=listt[0]['t_end']\n",
    "    S_vec=listt[1]['S_vec'].copy()\n",
    "    t_vec=listt[1]['t_vec'].copy()\n",
    "    seiz_days=np.ceil(t_vec[S_vec!=0])\n",
    "    days=np.arange(1,t_end+1)\n",
    "    num_seiz_at_days_tmp=np.arange(1,t_end+1)\n",
    "    for kk in range(0,len(days)):\n",
    "        num_seiz_at_days_tmp[kk]=np.sum(seiz_days==days[kk])\n",
    "    if ii==0:\n",
    "        num_seiz_at_days=num_seiz_at_days_tmp.copy()\n",
    "    else:\n",
    "        num_seiz_at_days=np.vstack([num_seiz_at_days,num_seiz_at_days_tmp])\n",
    "num_seiz_at_days_simshort=num_seiz_at_days # this for statistical analysis later\n",
    "# Here we gather average number of seizures per mouse per day \n",
    "avg_num_seiz_per_day = [] \n",
    "for ii in range(0,len(days)):\n",
    "    avg_num_seiz_per_day=np.append(avg_num_seiz_per_day,sum(num_seiz_at_days[:,ii]))\n",
    "avg_num_seiz_per_day=avg_num_seiz_per_day/len(num_seiz_at_days[:,0])\n",
    "SeizFr_mean_short=np.mean(avg_num_seiz_per_day[day_0-1:day_end])\n",
    "SeizFr_sem_short=np.std(avg_num_seiz_per_day[day_0-1:day_end])/np.sqrt(N)\n",
    "\n",
    "\n",
    "for ii in range(0,N): # Here we gather and extract data about seizures on respective days \n",
    "    listt=np.load(DataPath_4+'/Sim_'+str(ii+1)+'.npy',allow_pickle=True)\n",
    "    t_end=listt[0]['t_end']\n",
    "    S_vec=listt[1]['S_vec'].copy()\n",
    "    t_vec=listt[1]['t_vec'].copy()\n",
    "    seiz_days=np.ceil(t_vec[S_vec!=0])\n",
    "    days=np.arange(1,t_end+1)\n",
    "    num_seiz_at_days_tmp=np.arange(1,t_end+1)\n",
    "    for kk in range(0,len(days)):\n",
    "        num_seiz_at_days_tmp[kk]=np.sum(seiz_days==days[kk])\n",
    "    if ii==0:\n",
    "        num_seiz_at_days=num_seiz_at_days_tmp.copy()\n",
    "    else:\n",
    "        num_seiz_at_days=np.vstack([num_seiz_at_days,num_seiz_at_days_tmp])\n",
    "num_seiz_at_days_simlong=num_seiz_at_days # this for statistical analysis later\n",
    "# Here we gather average number of seizures per mouse per day \n",
    "avg_num_seiz_per_day = [] \n",
    "for ii in range(0,len(days)):\n",
    "    avg_num_seiz_per_day=np.append(avg_num_seiz_per_day,sum(num_seiz_at_days[:,ii]))\n",
    "avg_num_seiz_per_day=avg_num_seiz_per_day/len(num_seiz_at_days[:,0])\n",
    "SeizFr_mean_long=np.mean(avg_num_seiz_per_day[day_0-1:day_end])\n",
    "SeizFr_sem_long=np.std(avg_num_seiz_per_day[day_0-1:day_end])/np.sqrt(N)"
   ]
  },
  {
   "cell_type": "code",
   "execution_count": 8,
   "metadata": {},
   "outputs": [
    {
     "data": {
      "image/png": "[encoded data removed]",
      "text/plain": [
       "<Figure size 476.221x165.354 with 1 Axes>"
      ]
     },
     "metadata": {
      "needs_background": "light"
     },
     "output_type": "display_data"
    }
   ],
   "source": [
    "data = load_animal_model_data('Weissberg_et_al_2015')\n",
    "\n",
    "fig, ax = plt.subplots()\n",
    "\n",
    "vec=np.array([1,2,3,4,5])\n",
    "plt.bar(vec,np.array([data['Seizure_freq_mean'], SeizFr_mean,SeizFr_mean_dec,SeizFr_mean_short,SeizFr_mean_long]), color='grey',\n",
    "       yerr=[data['Seizure_freq_sem'],SeizFr_sem,SeizFr_sem_dec,SeizFr_sem_short,SeizFr_sem_long],\n",
    "       align='center',\n",
    "       alpha=1,\n",
    "       ecolor='grey',\n",
    "       capsize=10/3*2,width=0.8/3*2)\n",
    "\n",
    "plt.xticks(np.array(vec), ['(Weissberg \\n et al., 2015),\\n N = 10',\n",
    "                             r\"$B^E$ = 0.25,\"\"\\n\" r\"$T_\\textnormal{off}$ = 7 days\",\n",
    "                             r\"$B^E \\times 50\\%$\",\n",
    "                             r\"$T_\\textnormal{off} \\times 50\\%$\",\n",
    "                             r\"$T_\\textnormal{off} \\times 150\\%$\"], fontsize=7.5)\n",
    "\n",
    "plt.yticks(np.arange(0,3,0.5))\n",
    "\n",
    "plt.ylabel(r\"Seizures occurrence $\\frac{\\textnormal{seizures}}{\\textnormal{day}}$\")\n",
    "\n",
    "ax.spines['right'].set_visible(False)\n",
    "ax.spines['top'].set_visible(False)\n",
    "\n",
    "plt.gcf().subplots_adjust(bottom=margin)\n",
    "plt.gcf().subplots_adjust(left=margin)\n",
    "set_size(3*w,w)\n",
    "fig.savefig('Figures/Supplementary/Fig_S11B_bottom.pdf')"
   ]
  },
  {
   "cell_type": "code",
   "execution_count": 9,
   "metadata": {},
   "outputs": [
    {
     "name": "stdout",
     "output_type": "stream",
     "text": [
      "Statistics DEC=3483.500, p=0.000\n",
      "9.771345835433494e-19\n",
      "Statistics DEC=3404.000, p=0.000\n",
      "3.727589342777482e-17\n",
      "Statistics DEC=292.000, p=0.000\n",
      "2.4569361117354675e-15\n"
     ]
    }
   ],
   "source": [
    "## STATISTICS U TEST:\n",
    "from scipy.stats import mannwhitneyu\n",
    "\n",
    "## calculating seiz freq per simulation for 4 different simulation injuries intensitites\n",
    "SeizFr_mean_ProSim=np.mean(num_seiz_at_days_sim[:,day_0-1:day_end],axis=1)\n",
    "SeizFr_mean_ProSim_dec=np.mean(num_seiz_at_days_simdec[:,day_0-1:day_end],axis=1)\n",
    "SeizFr_mean_ProSim_short=np.mean(num_seiz_at_days_simshort[:,day_0-1:day_end],axis=1)\n",
    "SeizFr_mean_ProSim_long=np.mean(num_seiz_at_days_simlong[:,day_0-1:day_end],axis=1)\n",
    "\n",
    "## getting p values\n",
    "stat, p = mannwhitneyu(SeizFr_mean_ProSim,SeizFr_mean_ProSim_dec,alternative='two-sided')\n",
    "print('Statistics DEC=%.3f, p=%.3f' % (stat, p))\n",
    "print(p)\n",
    "stat, p = mannwhitneyu(SeizFr_mean_ProSim,SeizFr_mean_ProSim_short,alternative='two-sided')\n",
    "print('Statistics DEC=%.3f, p=%.3f' % (stat, p))\n",
    "print(p)\n",
    "stat, p = mannwhitneyu(SeizFr_mean_ProSim,SeizFr_mean_ProSim_long,alternative='two-sided')\n",
    "print('Statistics DEC=%.3f, p=%.3f' % (stat, p))\n",
    "print(p)\n",
    "\n",
    "# plt.hist(SeizFr_mean_ProSim,alpha=0.5)\n",
    "# plt.hist(SeizFr_mean_ProSim_dec,alpha=0.5)\n",
    "# plt.hist(SeizFr_mean_ProSim_short,alpha=0.5)\n",
    "# plt.hist(SeizFr_mean_ProSim_long,alpha=0.5)"
   ]
  }
 ],
 "metadata": {
  "kernelspec": {
   "display_name": "Python 3",
   "language": "python",
   "name": "python3"
  },
  "language_info": {
   "codemirror_mode": {
    "name": "ipython",
    "version": 3
   },
   "file_extension": ".py",
   "mimetype": "text/x-python",
   "name": "python",
   "nbconvert_exporter": "python",
   "pygments_lexer": "ipython3",
   "version": "3.7.4"
  }
 },
 "nbformat": 4,
 "nbformat_minor": 2
}
