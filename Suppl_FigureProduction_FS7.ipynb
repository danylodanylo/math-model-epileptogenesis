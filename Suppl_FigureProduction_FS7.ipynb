{
 "cells": [
  {
   "cell_type": "code",
   "execution_count": 1,
   "metadata": {},
   "outputs": [
    {
     "name": "stdout",
     "output_type": "stream",
     "text": [
      "Once deleted, variables cannot be recovered. Proceed (y/[n])? y\n"
     ]
    }
   ],
   "source": [
    "%reset\n",
    "import numpy as np\n",
    "import matplotlib\n",
    "import matplotlib.pyplot as plt\n",
    "\n",
    "%run ./DataGenerationScripts/load_default_parameters.ipynb # loading model parameters\n",
    "%run ./DataGenerationScripts/dIBDRdt_functions.ipynb # loading time derivative functions \n",
    "%run ./DataGenerationScripts/set_size.ipynb # loading function for pdf output sizer"
   ]
  },
  {
   "cell_type": "code",
   "execution_count": 2,
   "metadata": {},
   "outputs": [],
   "source": [
    "h=2.8*0.393701 #inch\n",
    "w=2.8*0.393701 #inch\n",
    "\n",
    "alpha_value=0.6\n",
    "col='gray'\n",
    "marker_sizer=2.5\n",
    "mrksize=10\n",
    "margin=0.4 #relative\n",
    "\n",
    "font = {'size'   : 8}\n",
    "plt.rc('font', **font)\n",
    "plt.rc('text', usetex=True)"
   ]
  },
  {
   "cell_type": "code",
   "execution_count": 3,
   "metadata": {},
   "outputs": [
    {
     "data": {
      "image/png": "[encoded data removed]",
      "text/plain": [
       "<Figure size 317.48x396.851 with 1 Axes>"
      ]
     },
     "metadata": {
      "needs_background": "light"
     },
     "output_type": "display_data"
    }
   ],
   "source": [
    "params=load_default_parameters('stochastic')\n",
    "i2_r=np.linspace(0, 6,10001)\n",
    "\n",
    "kappa_XS_low = 1 # altenative value for k_IS and k_RS\n",
    "kappa_XS_orig = 2 # altenative value for k_IS and k_RS\n",
    "kappa_XS_high = 5 # altenative value for k_IS and k_RS\n",
    "\n",
    "\n",
    "fig= plt.figure()\n",
    "ax = fig.add_subplot(1, 1, 1) \n",
    "plt.plot(i2_r,params['lambda_max']*(np.exp(kappa_XS_low*i2_r)-1)/(np.exp(kappa_XS_low*i2_r)+1),color='grey',label=r'$\\kappa_{\\textnormal{I→S}}=\\kappa_{\\textnormal{R→S}}=1$')\n",
    "plt.plot(i2_r,params['lambda_max']*(np.exp(kappa_XS_orig*i2_r)-1)/(np.exp(kappa_XS_orig*i2_r)+1),'k',label=r'$\\kappa_{\\textnormal{I→S}}=\\kappa_{\\textnormal{R→S}}=2$')\n",
    "plt.plot(i2_r,params['lambda_max']*(np.exp(kappa_XS_high*i2_r)-1)/(np.exp(kappa_XS_high*i2_r)+1),'--',color='grey',label=r'$\\kappa_{\\textnormal{I→S}}=\\kappa_{\\textnormal{R→S}}=5$')\n",
    "plt.xlabel(r'Seizure promoting factors $I^2+R$')\n",
    "plt.ylabel(r'Seizure rate $\\lambda_s$, $\\frac{\\textnormal{seizures}}{\\textnormal{day}}$')\n",
    "\n",
    "ax.legend( loc='lower right')\n",
    "\n",
    "tix= np.arange(0,7)\n",
    "plt.xticks(tix)\n",
    "plt.ylim([0,17])\n",
    "\n",
    "plt.gcf().subplots_adjust(top=1-margin)\n",
    "plt.gcf().subplots_adjust(bottom=margin)\n",
    "plt.gcf().subplots_adjust(left=margin)\n",
    "set_size(2*w,w) \n",
    "fig.savefig('./Figures/Supplementary/Fig_S7.pdf')"
   ]
  }
 ],
 "metadata": {
  "kernelspec": {
   "display_name": "Python 3",
   "language": "python",
   "name": "python3"
  },
  "language_info": {
   "codemirror_mode": {
    "name": "ipython",
    "version": 3
   },
   "file_extension": ".py",
   "mimetype": "text/x-python",
   "name": "python",
   "nbconvert_exporter": "python",
   "pygments_lexer": "ipython3",
   "version": "3.7.4"
  }
 },
 "nbformat": 4,
 "nbformat_minor": 2
}
