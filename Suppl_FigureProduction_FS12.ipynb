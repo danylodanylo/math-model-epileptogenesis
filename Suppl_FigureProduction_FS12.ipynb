{
 "cells": [
  {
   "cell_type": "code",
   "execution_count": 1,
   "metadata": {},
   "outputs": [
    {
     "name": "stdout",
     "output_type": "stream",
     "text": [
      "Once deleted, variables cannot be recovered. Proceed (y/[n])? y\n"
     ]
    }
   ],
   "source": [
    "%reset \n",
    "import numpy as np\n",
    "import matplotlib\n",
    "import matplotlib.pyplot as plt\n",
    "from tqdm import tqdm\n",
    "import os\n",
    "from matplotlib import cm\n",
    "import matplotlib.patches as patches\n",
    "\n",
    "DataPath='./Data/Data_F45_Stoch_TMEVm'\n",
    "\n",
    "\n",
    "%run ./DataGenerationScripts/load_default_parameters.ipynb # loading model parameters\n",
    "%run ./DataGenerationScripts/set_size.ipynb # loading function for pdf output sizer\n",
    "%run ./DataGenerationScripts/load_animal_model_data.ipynb # loading function for pdf output sizer"
   ]
  },
  {
   "cell_type": "code",
   "execution_count": 2,
   "metadata": {},
   "outputs": [],
   "source": [
    "##### This cell checks whether data exists. If not, it is being generated #####\n",
    "if not os.path.isdir(DataPath):\n",
    "    os.makedirs(DataPath)\n",
    "if not os.path.isfile(DataPath+'/Sim_1.npy'):\n",
    "    print('Data not found. Running Data Generation script')\n",
    "    RunningFromFigureScript=True\n",
    "    %run ./DataGenerationScripts/DataGeneration_F45_Stoch_TMEVm.ipynb"
   ]
  },
  {
   "cell_type": "code",
   "execution_count": 3,
   "metadata": {},
   "outputs": [],
   "source": [
    "font = {'size'   : 8}\n",
    "# plt.rc('font', family='sans-serif') \n",
    "# plt.rc('font', serif='Helvetica Neue')\n",
    "plt.rc('font',**{'family':'sans-serif','serif':['Helvetica Neue']})\n",
    "plt.rc('font', **font)\n",
    "plt.rc('text', usetex=True)\n",
    "\n",
    "viridis = cm.get_cmap('viridis', 12)\n",
    "color_scheme_3examples = [viridis(0.05)[0:3],viridis(0.5)[0:3],viridis(0.9)[0:3]]\n",
    "# alpha_value=0.45\n",
    "size_scaler = 2.5\n",
    "alp=0.1 # alpha value for transparent lines N=30\n",
    "\n",
    "h=2.8*0.393701 #[cm] to  modification [inch] Height of output figure\n",
    "w=2.8*0.393701 #[cm] to  modification [inch] Width of output figure\n",
    "margin=0.4 # [1] margin ratio of output figure layout\n",
    "size_scaler=2.5"
   ]
  },
  {
   "cell_type": "code",
   "execution_count": 4,
   "metadata": {},
   "outputs": [
    {
     "data": {
      "image/png": "[encoded data removed]",
      "text/plain": [
       "<Figure size 238.11x396.851 with 1 Axes>"
      ]
     },
     "metadata": {
      "needs_background": "light"
     },
     "output_type": "display_data"
    }
   ],
   "source": [
    "data = load_animal_model_data('Kirkman_et_al_2010')\n",
    "days_vect=data['days_vect']\n",
    "N=30\n",
    "D_array=np.zeros([N,len(days_vect)])\n",
    "\n",
    "for ii in range(0,N): # Here we gather and extract data about N and B values on days 5,7,14,21,35\n",
    "    listt=np.load(DataPath+'/Sim_'+str(ii+1)+'.npy',allow_pickle=True)  \n",
    "    dt=listt[0]['dt']\n",
    "    t_vec=listt[1]['t_vec'].copy()\n",
    "    D_vec=listt[1]['D_vec'].copy()\n",
    "    D_array[ii]=D_vec[np.array((np.array(days_vect)/dt),'i')]\n",
    "    \n",
    "D_mean_vect=np.mean(D_array,axis=0)\n",
    "D_std_vect=np.std(D_array,axis=0)\n",
    "D_sem_vect=D_std_vect/np.sqrt(N)\n",
    "\n",
    "# plotting #\n",
    "\n",
    "fig = matplotlib.pyplot.gcf()\n",
    "ax = fig.add_subplot(1, 1, 1)  \n",
    "\n",
    "plt.bar(days_vect, D_mean_vect,color='white',\n",
    "       yerr=D_sem_vect,\n",
    "       align='center',\n",
    "       alpha=1,\n",
    "       ecolor='darkblue',\n",
    "       capsize=10/size_scaler)\n",
    "plt.plot(days_vect, D_mean_vect,'.',color='darkblue',markersize=15/size_scaler)\n",
    "\n",
    "\n",
    "for ii in range(0,N): # Here we gather and extract data about N and B values on days 5,7,14,21,35\n",
    "    listt=np.load(DataPath+'/Sim_'+str(ii+1)+'.npy',allow_pickle=True)  \n",
    "    dt=listt[0]['dt']\n",
    "    t_vec=listt[1]['t_vec'].copy()\n",
    "    D_vec=listt[1]['D_vec'].copy()\n",
    "    plt.plot(t_vec[0:int(days_vect[-1]/dt)],D_vec[0:int(days_vect[-1]/dt)],color='darkblue',alpha=alp)\n",
    "\n",
    "plt.plot([0,t_vec[int(days_vect[-1]/dt)]],[0.1,0.1],'k--') # plotting horizontal lines for score border values\n",
    "plt.plot([0,t_vec[int(days_vect[-1]/dt)]],[0.3,0.3],'k--')\n",
    "plt.plot([0,t_vec[int(days_vect[-1]/dt)]],[0.6,0.6],'k--')\n",
    "\n",
    "plt.xlim([0,days_vect[-1]+1])\n",
    "plt.ylim([0,1])\n",
    "plt.xticks(np.arange(0,days_vect[-1]+1,5))\n",
    "ax=plt.gca()\n",
    "for tick in ax.xaxis.get_major_ticks():\n",
    "    tick.label.set_rotation(45)\n",
    "\n",
    "plt.xlabel('days post infection')\n",
    "plt.ylabel(r'Extent of neuronal death $D(t)$')\n",
    "plt. title (r'Simulation, N=30',fontsize=font['size'])\n",
    "\n",
    "ax.spines['right'].set_visible(False)\n",
    "ax.spines['top'].set_visible(False)\n",
    "\n",
    "plt.gcf().subplots_adjust(bottom=margin)\n",
    "plt.gcf().subplots_adjust(left=margin)\n",
    "plt.gcf().subplots_adjust(top=1-margin/2)\n",
    "set_size(1.5*w,2*w)  \n",
    "fig.savefig('Figures/Supplementary/Fig_S12.pdf')"
   ]
  },
  {
   "cell_type": "code",
   "execution_count": null,
   "metadata": {},
   "outputs": [],
   "source": []
  }
 ],
 "metadata": {
  "kernelspec": {
   "display_name": "Python 3",
   "language": "python",
   "name": "python3"
  },
  "language_info": {
   "codemirror_mode": {
    "name": "ipython",
    "version": 3
   },
   "file_extension": ".py",
   "mimetype": "text/x-python",
   "name": "python",
   "nbconvert_exporter": "python",
   "pygments_lexer": "ipython3",
   "version": "3.7.4"
  }
 },
 "nbformat": 4,
 "nbformat_minor": 2
}
