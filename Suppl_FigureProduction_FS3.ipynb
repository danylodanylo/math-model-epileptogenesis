{
 "cells": [
  {
   "cell_type": "code",
   "execution_count": 1,
   "metadata": {},
   "outputs": [
    {
     "name": "stdout",
     "output_type": "stream",
     "text": [
      "Once deleted, variables cannot be recovered. Proceed (y/[n])? y\n"
     ]
    }
   ],
   "source": [
    "%reset \n",
    "import numpy as np\n",
    "import matplotlib\n",
    "import matplotlib.pyplot as plt\n",
    "from tqdm import tqdm\n",
    "import os\n",
    "from matplotlib import cm\n",
    "import matplotlib.patches as patches\n",
    "import pylab\n",
    "from scipy.optimize import fsolve\n",
    "\n",
    "\n",
    "DataPath_1='./Data/Suppl_Data_FS3_Stoch_BBBm_timescRatio_1to1'\n",
    "DataPath_2='./Data/Data_F3_Stoch_BBBm'\n",
    "DataPath_3='./Data/Suppl_Data_FS3_Stoch_BBBm_timescRatio_1to20'\n",
    "\n",
    "\n",
    "%run ./DataGenerationScripts/load_default_parameters.ipynb # loading model parameters\n",
    "%run ./DataGenerationScripts/set_size.ipynb # loading function for pdf output sizer\n",
    "%run ./DataGenerationScripts/aux_state_space.ipynb # loading auxiliarry functions for state space vizualization\n",
    "%run ./DataGenerationScripts/load_animal_model_data.ipynb # loading function for pdf output sizer\n",
    "%run ./DataGenerationScripts/dIBDRdt_functions.ipynb # loading time derivative functions"
   ]
  },
  {
   "cell_type": "code",
   "execution_count": 2,
   "metadata": {},
   "outputs": [
    {
     "name": "stderr",
     "output_type": "stream",
     "text": [
      "\r",
      "  0%|          | 0/30 [00:00<?, ?it/s]"
     ]
    },
    {
     "name": "stdout",
     "output_type": "stream",
     "text": [
      "Data not found. Running Data Generation script\n"
     ]
    },
    {
     "name": "stderr",
     "output_type": "stream",
     "text": [
      "100%|██████████| 30/30 [00:29<00:00,  1.01it/s]\n",
      "  0%|          | 0/30 [00:00<?, ?it/s]"
     ]
    },
    {
     "name": "stdout",
     "output_type": "stream",
     "text": [
      "Data not found. Running Data Generation script\n"
     ]
    },
    {
     "name": "stderr",
     "output_type": "stream",
     "text": [
      "100%|██████████| 30/30 [00:31<00:00,  1.05s/it]\n"
     ]
    }
   ],
   "source": [
    "##### This cell checks whether data exists. If not, it is being generated #####\n",
    "if not os.path.isdir(DataPath_1):\n",
    "    os.makedirs(DataPath_1)\n",
    "if not os.path.isfile(DataPath_1+'/Sim_1.npy'):\n",
    "    print('Data not found. Running Data Generation script')\n",
    "    RunningFromFigureScript=True\n",
    "    %run ./DataGenerationScripts/Suppl_DataGeneration_FS3_Stoch_BBBm_timescRatio_1to1.ipynb\n",
    "if not os.path.isdir(DataPath_2):\n",
    "    os.makedirs(DataPath_2)\n",
    "if not os.path.isfile(DataPath_2+'/Sim_1.npy'):\n",
    "    print('Data not found. Running Data Generation script')\n",
    "    RunningFromFigureScript=True\n",
    "    %run ./DataGenerationScripts/DataGeneration_F3_Stoch_BBBm.ipynb\n",
    "if not os.path.isdir(DataPath_3):\n",
    "    os.makedirs(DataPath_3)\n",
    "if not os.path.isfile(DataPath_3+'/Sim_1.npy'):\n",
    "    print('Data not found. Running Data Generation script')\n",
    "    RunningFromFigureScript=True\n",
    "    %run ./DataGenerationScripts/Suppl_DataGeneration_FS3_Stoch_BBBm_timescRatio_1to20.ipynb"
   ]
  },
  {
   "cell_type": "code",
   "execution_count": 3,
   "metadata": {},
   "outputs": [],
   "source": [
    "font = {'size'   : 8}\n",
    "# plt.rc('font', family='sans-serif') \n",
    "# plt.rc('font', serif='Helvetica Neue')\n",
    "plt.rc('font',**{'family':'sans-serif','serif':['Helvetica Neue']})\n",
    "plt.rc('font', **font)\n",
    "plt.rc('text', usetex=True)\n",
    "\n",
    "viridis = cm.get_cmap('viridis', 12)\n",
    "color_scheme_5examples = [viridis(0.0)[0:3],viridis(0.3)[0:3],viridis(0.55)[0:3],viridis(0.75)[0:3],viridis(0.95)[0:3]]\n",
    "alpha_value=0.45\n",
    "marker_sizer=2.5\n",
    "dt_vis=30\n",
    "\n",
    "\n",
    "h=2.8*0.393701 #[cm] to  modification [inch] Height of output figure\n",
    "w=2.8*0.393701 #[cm] to  modification [inch] Width of output figure\n",
    "margin=0.4 # [1] margin ratio of output figure layout\n",
    "size_scaler=2.5"
   ]
  },
  {
   "cell_type": "code",
   "execution_count": 4,
   "metadata": {},
   "outputs": [],
   "source": [
    "##### Calculating latent period duration for 4 simulated intensities: matched input intensity; decreased via lowering concentration; decreased via shortening; increased via prolongation #####\n",
    "N=30\n",
    "\n",
    "day_first_seiz=np.zeros(N)\n",
    "for ii in range(0,N): # Here we gather and extract data about seizures on respective days \n",
    "    listt=np.load(DataPath_1+'/Sim_'+str(ii+1)+'.npy',allow_pickle=True)\n",
    "    S_vec=listt[1]['S_vec'].copy()\n",
    "    t_vec=listt[1]['t_vec'].copy()\n",
    "    seiz_days=np.ceil(t_vec[S_vec!=0])\n",
    "    day_first_seiz[ii]=seiz_days[0]\n",
    "day_first_seiz_sim=day_first_seiz\n",
    "LP_mean_TR1t1=np.mean(day_first_seiz)   \n",
    "LP_sem_TR1t1=np.std(day_first_seiz)/np.sqrt(N)\n",
    "\n",
    "day_first_seiz=np.zeros(N)\n",
    "for ii in range(0,N): # Here we gather and extract data about seizures on respective days \n",
    "    listt=np.load(DataPath_2+'/Sim_'+str(ii+1)+'.npy',allow_pickle=True)\n",
    "    S_vec=listt[1]['S_vec'].copy()\n",
    "    t_vec=listt[1]['t_vec'].copy()\n",
    "    seiz_days=np.ceil(t_vec[S_vec!=0])\n",
    "    day_first_seiz[ii]=seiz_days[0]\n",
    "day_first_seiz_simdec=day_first_seiz\n",
    "LP_mean_TR1t10=np.mean(day_first_seiz)   \n",
    "LP_sem_TR1t10=np.std(day_first_seiz)/np.sqrt(N)\n",
    "\n",
    "day_first_seiz=np.zeros(N)\n",
    "for ii in range(0,N): # Here we gather and extract data about seizures on respective days \n",
    "    listt=np.load(DataPath_3+'/Sim_'+str(ii+1)+'.npy',allow_pickle=True)\n",
    "    S_vec=listt[1]['S_vec'].copy()\n",
    "    t_vec=listt[1]['t_vec'].copy()\n",
    "    seiz_days=np.ceil(t_vec[S_vec!=0])\n",
    "    day_first_seiz[ii]=seiz_days[0]\n",
    "day_first_seiz_simshort=day_first_seiz\n",
    "LP_mean_TR1t20=np.mean(day_first_seiz)   \n",
    "LP_sem_TR1t20=np.std(day_first_seiz)/np.sqrt(N)"
   ]
  },
  {
   "cell_type": "code",
   "execution_count": 5,
   "metadata": {},
   "outputs": [
    {
     "data": {
      "image/png": "[encoded data removed]",
      "text/plain": [
       "<Figure size 380.977x165.354 with 1 Axes>"
      ]
     },
     "metadata": {
      "needs_background": "light"
     },
     "output_type": "display_data"
    }
   ],
   "source": [
    "data = load_animal_model_data('Weissberg_et_al_2015')\n",
    "\n",
    "fig, ax = plt.subplots()\n",
    "\n",
    "vec=np.array([1,3])\n",
    "plt.bar(np.array(vec),np.array([data['LatentPeriod_mean'],LP_mean_TR1t10]), color='black',\n",
    "       yerr=[data['LatentPeriod_sem'], LP_sem_TR1t10],\n",
    "       align='center',\n",
    "       alpha=1,\n",
    "       ecolor='black',\n",
    "       capsize=10/3*2, width=0.75/3*2)\n",
    "vec=np.array([2,4])\n",
    "plt.bar(np.array(vec),np.array([ LP_mean_TR1t1, LP_mean_TR1t20]), color='grey',\n",
    "       yerr=[LP_sem_TR1t1, LP_sem_TR1t20],\n",
    "       align='center',\n",
    "       alpha=1,\n",
    "       ecolor='grey',\n",
    "       capsize=10/3*2, width=0.8/3*2)\n",
    "\n",
    "vec=np.array([1,2,3,4])\n",
    "plt.xticks(np.array(vec), ['(Weissberg \\n et al., 2015),\\n N = 10',\n",
    "                             r\"1~:~1\",\n",
    "                             r\"1~:~10\" \"\\n Original value\",\n",
    "                             r\"1~:~20\"], fontsize=7.5)\n",
    "\n",
    "plt.yticks(np.arange(0,10))\n",
    "plt.ylabel('Latent period duration, days')\n",
    "\n",
    "ax.spines['right'].set_visible(False)\n",
    "ax.spines['top'].set_visible(False)\n",
    "\n",
    "plt.gcf().subplots_adjust(bottom=margin)\n",
    "plt.gcf().subplots_adjust(left=margin)\n",
    "set_size(3/5*4*w,w)\n",
    "fig.savefig('./Figures/Supplementary/Fig_S3.pdf')"
   ]
  },
  {
   "cell_type": "code",
   "execution_count": null,
   "metadata": {},
   "outputs": [],
   "source": []
  }
 ],
 "metadata": {
  "kernelspec": {
   "display_name": "Python 3",
   "language": "python",
   "name": "python3"
  },
  "language_info": {
   "codemirror_mode": {
    "name": "ipython",
    "version": 3
   },
   "file_extension": ".py",
   "mimetype": "text/x-python",
   "name": "python",
   "nbconvert_exporter": "python",
   "pygments_lexer": "ipython3",
   "version": "3.7.4"
  }
 },
 "nbformat": 4,
 "nbformat_minor": 2
}
