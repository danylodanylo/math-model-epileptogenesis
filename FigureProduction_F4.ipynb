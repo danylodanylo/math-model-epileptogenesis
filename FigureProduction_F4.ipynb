{
 "cells": [
  {
   "cell_type": "code",
   "execution_count": 1,
   "metadata": {},
   "outputs": [
    {
     "name": "stdout",
     "output_type": "stream",
     "text": [
      "Once deleted, variables cannot be recovered. Proceed (y/[n])? y\n"
     ]
    }
   ],
   "source": [
    "%reset \n",
    "import numpy as np\n",
    "import matplotlib\n",
    "import matplotlib.pyplot as plt\n",
    "from tqdm import tqdm\n",
    "import os\n",
    "from matplotlib import cm\n",
    "import matplotlib.patches as patches\n",
    "\n",
    "DataPath='./Data/Data_F45_Stoch_TMEVm'\n",
    "\n",
    "\n",
    "%run ./DataGenerationScripts/load_default_parameters.ipynb # loading model parameters\n",
    "%run ./DataGenerationScripts/set_size.ipynb # loading function for pdf output sizer\n",
    "%run ./DataGenerationScripts/load_animal_model_data.ipynb # loading function for pdf output sizer"
   ]
  },
  {
   "cell_type": "code",
   "execution_count": 2,
   "metadata": {},
   "outputs": [],
   "source": [
    "##### This cell checks whether data exists. If not, it is being generated #####\n",
    "if not os.path.isdir(DataPath):\n",
    "    os.makedirs(DataPath)\n",
    "if not os.path.isfile(DataPath+'/Sim_1.npy'):\n",
    "    print('Data not found. Running Data Generation script')\n",
    "    RunningFromFigureScript=True\n",
    "    %run ./DataGenerationScripts/DataGeneration_F45_Stoch_TMEVm.ipynb"
   ]
  },
  {
   "cell_type": "code",
   "execution_count": 3,
   "metadata": {},
   "outputs": [],
   "source": [
    "font = {'size'   : 8}\n",
    "# plt.rc('font', family='sans-serif') \n",
    "# plt.rc('font', serif='Helvetica Neue')\n",
    "plt.rc('font',**{'family':'sans-serif','serif':['Helvetica Neue']})\n",
    "plt.rc('font', **font)\n",
    "plt.rc('text', usetex=True)\n",
    "\n",
    "viridis = cm.get_cmap('viridis', 12)\n",
    "color_scheme_3examples = [viridis(0.05)[0:3],viridis(0.5)[0:3],viridis(0.9)[0:3]]\n",
    "# alpha_value=0.45\n",
    "size_scaler = 2.5\n",
    "alp=0.1 # alpha value for transparent lines N=30\n",
    "\n",
    "h=2.8*0.393701 #[cm] to  modification [inch] Height of output figure\n",
    "w=2.8*0.393701 #[cm] to  modification [inch] Width of output figure\n",
    "margin=0.4 # [1] margin ratio of output figure layout\n",
    "size_scaler=2.5"
   ]
  },
  {
   "cell_type": "markdown",
   "metadata": {},
   "source": [
    "## Figure 4a  "
   ]
  },
  {
   "cell_type": "code",
   "execution_count": 4,
   "metadata": {},
   "outputs": [
    {
     "data": {
      "image/png": "[encoded data removed]",
      "text/plain": [
       "<Figure size 158.74x165.354 with 1 Axes>"
      ]
     },
     "metadata": {
      "needs_background": "light"
     },
     "output_type": "display_data"
    }
   ],
   "source": [
    "##### Plotting left panel with animal model data #####\n",
    "data = load_animal_model_data('Patel_et_al_2017')\n",
    "\n",
    "days_int_1 = 1 # days corresponding to time intervals for data visulization\n",
    "days_int_2 = [2, 7]\n",
    "days_int_3 = [8, 15]\n",
    "days_vect= np.linspace(1,3,3) # 3 time intervals for visualization\n",
    "\n",
    "n_seiz_avg_3intervals=np.zeros(np.shape(days_vect)) # average seizure frequency for all subjects in 3 time windows\n",
    "n_seiz_avg_3intervals[0]=data['seiz_count'][0]/data['N_animals_seiz_observ']\n",
    "n_seiz_avg_3intervals[1]=np.sum(data['seiz_count'][days_int_2[0]-1:days_int_2[1]])/len(data['seiz_count'][days_int_2[0]-1:days_int_2[1]])/data['N_animals_seiz_observ']\n",
    "n_seiz_avg_3intervals[2]=np.sum(data['seiz_count'][days_int_3[0]-1:days_int_3[1]])/len(data['seiz_count'][days_int_3[0]-1:days_int_3[1]])/data['N_animals_seiz_observ']\n",
    "\n",
    "plt.rc('font', **font)\n",
    "\n",
    "fig = matplotlib.pyplot.gcf()\n",
    "ax = fig.add_subplot(1, 1, 1)\n",
    "\n",
    "plt.bar(days_vect, n_seiz_avg_3intervals,color='black')\n",
    "plt.ylim([0,2.5])\n",
    "xtix=['1','2-7','8-15']\n",
    "plt.xticks(days_vect,xtix)\n",
    "plt.xlabel('days post infection')\n",
    "plt.ylabel(r'Seizure occurrence $\\frac{\\textnormal{seizures}}{\\textnormal{day}}$')\n",
    "plt. title ('(Patel et al., 2017), N=11',fontsize=font['size'])\n",
    "\n",
    "ax.spines['right'].set_visible(False)\n",
    "ax.spines['top'].set_visible(False)\n",
    "\n",
    "plt.gcf().subplots_adjust(bottom=margin)\n",
    "plt.gcf().subplots_adjust(left=margin)\n",
    "set_size(w,w) \n",
    "fig.savefig('Figures/Fig4/Fig_4a1.pdf')"
   ]
  },
  {
   "cell_type": "code",
   "execution_count": 5,
   "metadata": {},
   "outputs": [
    {
     "data": {
      "image/png": "[encoded data removed]",
      "text/plain": [
       "<Figure size 158.74x165.354 with 1 Axes>"
      ]
     },
     "metadata": {
      "needs_background": "light"
     },
     "output_type": "display_data"
    }
   ],
   "source": [
    "##### Plotting right panel with simulation data #####\n",
    "# First calculating average seizure frequency for all subjects in 3 time windows #\n",
    "N=30 # number of subjects\n",
    "\n",
    "days_int_1 = 1 # days corresponding to time intervals for data visulization\n",
    "days_int_2 = [2, 7]\n",
    "days_int_3 = [8, 15]\n",
    "days_vect= np.linspace(1,3,3) # 3 time intervals for visualization\n",
    "\n",
    "for ii in range(1,N+1): # Here we gather and extract data about seizures on respective days \n",
    "    listt=np.load(DataPath+'/Sim_'+str(ii)+'.npy',allow_pickle=True)\n",
    "    t_end=listt[0]['t_end']\n",
    "    S_vec=listt[1]['S_vec'].copy()\n",
    "    t_vec=listt[1]['t_vec'].copy()\n",
    "    seiz_days=np.ceil(t_vec[S_vec!=0])\n",
    "    days=np.arange(1,t_end+1)\n",
    "    num_seiz_at_days_tmp=np.arange(1,t_end+1)\n",
    "    for kk in range(0,len(days)):\n",
    "        num_seiz_at_days_tmp[kk]=np.sum(seiz_days==days[kk])\n",
    "    if ii==1:\n",
    "        num_seiz_at_days=num_seiz_at_days_tmp.copy()\n",
    "    else:\n",
    "        num_seiz_at_days=np.vstack([num_seiz_at_days,num_seiz_at_days_tmp])\n",
    "\n",
    "n_seiz_3periods_EachSubj=np.zeros([30,3])\n",
    "n_seiz_3periods_EachSubj[:,0]=num_seiz_at_days[:,0]\n",
    "n_seiz_3periods_EachSubj[:,1]=np.mean(num_seiz_at_days[:,days_int_2[0]-1:days_int_2[1]],axis=1)\n",
    "n_seiz_3periods_EachSubj[:,2]=np.mean(num_seiz_at_days[:,days_int_3[0]-1:days_int_3[1]],axis=1)\n",
    "\n",
    "n_seiz_avg_3periods=np.mean(n_seiz_3periods_EachSubj,axis=0)\n",
    "n_seiz_sem_3periods=np.std(n_seiz_3periods_EachSubj,axis=0)/np.sqrt(N)\n",
    "\n",
    "\n",
    "# plotting #\n",
    "\n",
    "fig = matplotlib.pyplot.gcf()\n",
    "ax = fig.add_subplot(1, 1, 1)\n",
    "# fig.set_size_inches(w,w)\n",
    "\n",
    "plt.bar(days_vect, n_seiz_avg_3periods,color='black',\n",
    "       yerr=n_seiz_sem_3periods,align='center',\n",
    "       alpha=1,\n",
    "       ecolor='black',\n",
    "       capsize=15/size_scaler)\n",
    "\n",
    "plt.xlabel('days post infection')\n",
    "plt.ylabel(r'Seizure occurrence $\\frac{\\textnormal{seizures}}{\\textnormal{day}}$')\n",
    "plt. title ('Simulation, N=30',fontsize=font['size'])\n",
    "plt.ylim([0,2.5])\n",
    "xtix=['1','2-7','8-15']\n",
    "plt.xticks(days_vect,xtix)\n",
    "\n",
    "ax.spines['right'].set_visible(False)\n",
    "ax.spines['top'].set_visible(False)\n",
    "\n",
    "plt.gcf().subplots_adjust(bottom=margin)\n",
    "plt.gcf().subplots_adjust(left=margin)\n",
    "set_size(w,w) \n",
    "fig.savefig('Figures/Fig4/Fig_4a2.pdf')\n"
   ]
  },
  {
   "cell_type": "code",
   "execution_count": 6,
   "metadata": {},
   "outputs": [
    {
     "name": "stdout",
     "output_type": "stream",
     "text": [
      "Latent period duration is 2.8333333333333335+-0.12546210878484684\n"
     ]
    }
   ],
   "source": [
    "# Additional calculation of latent period duration \n",
    "N=30 \n",
    "day_first_seiz=np.zeros(N)\n",
    "for ii in range(1,N+1): # Here we gather and extract data about seizures on respective days \n",
    "    listt=np.load(DataPath+'/Sim_'+str(ii)+'.npy',allow_pickle=True)\n",
    "    S_vec=listt[1]['S_vec'].copy()\n",
    "    t_vec=listt[1]['t_vec'].copy()\n",
    "    seiz_days=np.ceil(t_vec[S_vec!=0])\n",
    "    day_first_seiz[ii-1]=seiz_days[0]\n",
    "day_first_seiz_simdec=day_first_seiz\n",
    "LP_mean=np.mean(day_first_seiz)   \n",
    "LP_sem=np.std(day_first_seiz)/np.sqrt(N)\n",
    "print('Latent period duration is '+str(LP_mean)+'+-'+str(LP_sem))"
   ]
  },
  {
   "cell_type": "markdown",
   "metadata": {},
   "source": [
    "## Figure 4b  "
   ]
  },
  {
   "cell_type": "code",
   "execution_count": null,
   "metadata": {},
   "outputs": [],
   "source": [
    "##### Plotting left panel with animal model data #####\n",
    "data = load_animal_model_data('Patel_et_al_2017')\n",
    "\n",
    "fig = matplotlib.pyplot.gcf()\n",
    "ax = fig.add_subplot(1, 1, 1)\n",
    "fig.set_size_inches(w,w)\n",
    "\n",
    "rects1 = ax.bar(np.arange(0,len(data['days_vect_TNF_observ'])), data['TNF_mean_vect'], color='tab:red')\n",
    "err1, cl, _ = ax.errorbar(np.arange(0,len(data['days_vect_TNF_observ'])), data['TNF_mean_vect'], yerr=data['TNF_sem_vect'], lolims=True, capsize = 15/size_scaler, ls='None', color='k')\n",
    "cl[0].set_marker('_')\n",
    "cl[1].set_marker('')  # to remove the lower cap\n",
    "\n",
    "plt.xticks(np.arange(0,len(data['days_vect_TNF_observ'])), data['days_vect_TNF_observ'])\n",
    "plt.xlabel(r'days post infection')\n",
    "plt.ylabel(r'TNF protein (fold change)')\n",
    "plt.xticks(np.arange(0,len(data['days_vect_TNF_observ'])), data['days_vect_TNF_observ'])\n",
    "\n",
    "plt. title ('(Patel et al., 2017),\\n N=8, 6,  5',fontsize=font['size'])\n",
    "# plt.tight_layout()\n",
    "\n",
    "ax.spines['right'].set_visible(False)\n",
    "ax.spines['top'].set_visible(False)\n",
    "\n",
    "\n",
    "plt.gcf().subplots_adjust(bottom=margin)\n",
    "plt.gcf().subplots_adjust(left=margin)\n",
    "plt.gcf().subplots_adjust(top=1-margin/2)\n",
    "set_size(w,w)\n",
    "fig.savefig('Figures/Fig4/Fig_4b1.pdf')\n"
   ]
  },
  {
   "cell_type": "code",
   "execution_count": null,
   "metadata": {},
   "outputs": [],
   "source": [
    "##### Plotting right panel with simulation data #####\n",
    "# First calculating the statistics for days corresponding to animal model data #\n",
    "data = load_animal_model_data('Patel_et_al_2017')\n",
    "days_vect=data['days_vect_TNF_observ']\n",
    "\n",
    "N=30\n",
    "I_array=np.zeros([N,len(days_vect)])\n",
    "\n",
    "for ii in range(0,N): # Here we gather and extract data about N and B values on days 5,7,14,21,35\n",
    "    listt=np.load(DataPath+'/Sim_'+str(ii+1)+'.npy',allow_pickle=True)  \n",
    "    dt=listt[0]['dt']\n",
    "    t_vec=listt[1]['t_vec'].copy()\n",
    "    I_vec=listt[1]['I_vec'].copy()\n",
    "    I_array[ii]=I_vec[np.array((np.array(days_vect)/dt),'i')]\n",
    "    \n",
    "I_mean_vect=np.mean(I_array,axis=0)\n",
    "I_std_vect=np.std(I_array,axis=0)\n",
    "I_sem_vect=I_std_vect/np.sqrt(N)\n",
    "\n",
    "# plotting #\n",
    "\n",
    "fig = matplotlib.pyplot.gcf()\n",
    "ax = fig.add_subplot(1, 1, 1)\n",
    "# fig.set_size_inches(w,w)\n",
    "\n",
    "rects1 = ax.bar(np.arange(0,len(days_vect)), I_mean_vect, color='tab:red')\n",
    "err1, cl, _ = ax.errorbar(np.arange(0,len(days_vect)), I_mean_vect, yerr=I_sem_vect, lolims=True, capsize = 15/size_scaler, ls='None', color='k')\n",
    "cl[0].set_marker('_')\n",
    "cl[1].set_marker('')  # to remove the lower cap\n",
    "    \n",
    "plt.xticks(np.arange(0,len(days_vect)), days_vect)\n",
    "plt.xlabel('days post infection')\n",
    "plt.ylabel(r'Neuroinflammation intensity $I(t)$')\n",
    "plt. title (r'Simulation, N=30',fontsize=font['size'])\n",
    "\n",
    "ax.spines['right'].set_visible(False)\n",
    "ax.spines['top'].set_visible(False)\n",
    "\n",
    "plt.gcf().subplots_adjust(bottom=margin)\n",
    "plt.gcf().subplots_adjust(left=margin)\n",
    "set_size(w,w) \n",
    "fig.savefig('Figures/Fig4/Fig_4b2.pdf')"
   ]
  },
  {
   "cell_type": "markdown",
   "metadata": {},
   "source": [
    "## Figure 4c "
   ]
  },
  {
   "cell_type": "code",
   "execution_count": null,
   "metadata": {},
   "outputs": [],
   "source": [
    "##### Plotting left panel with animal model data #####\n",
    "data = load_animal_model_data('Kirkman_et_al_2010')\n",
    "\n",
    "# data['days_vect'] = [1,2,3,4,5,7,14,21,35]\n",
    "# data['NeurLoss_mean_vect'] = np.array([0,0,0,0.5, 1.1, 3.8, 4.0, 4.5, 3.8])\n",
    "# data['NeurLoss_sem_vect'] = np.array([0,0,0, 0.3, 0.4, 0.4, 0.7, 0.5, 0.9])\n",
    "        \n",
    "fig = matplotlib.pyplot.gcf()\n",
    "ax = fig.add_subplot(1, 1, 1)  \n",
    "fig.set_size_inches(w, w)\n",
    "\n",
    "rects1 = ax.bar(np.arange(0,len(data['days_vect'])), data['NeurLoss_mean_vect'], color='darkblue')\n",
    "err1, cl, _ = ax.errorbar(np.arange(0,len(data['days_vect'])), data['NeurLoss_mean_vect'], yerr=data['NeurLoss_sem_vect'], lolims=True, capsize = 5/size_scaler, ls='None', color='k')\n",
    "cl[0].set_marker('_')\n",
    "cl[1].set_marker('')  # to remove the lower cap\n",
    "\n",
    "plt.ylim([0,6])\n",
    "plt.xticks(np.arange(0,len(data['days_vect'])), data['days_vect'])\n",
    "ytix=list(np.arange(0,7))\n",
    "plt.yticks(np.arange(0,7),ytix)\n",
    "ax=plt.gca()\n",
    "for tick in ax.xaxis.get_major_ticks():\n",
    "    tick.label.set_fontsize(6) \n",
    "\n",
    "plt.xlabel('days post infection')\n",
    "plt.ylabel('Neuronal loss score')\n",
    "plt. title ('(Kirkman et al., 2010), \\n N=4-13 per group',fontsize=font['size'])\n",
    "# plt.tight_layout()\n",
    "\n",
    "ax.spines['right'].set_visible(False)\n",
    "ax.spines['top'].set_visible(False)\n",
    "\n",
    "plt.gcf().subplots_adjust(bottom=margin)\n",
    "plt.gcf().subplots_adjust(left=margin)\n",
    "plt.gcf().subplots_adjust(top=1-margin/2)\n",
    "set_size(w,w) \n",
    "fig.savefig('Figures/Fig4/Fig_4c1.pdf')"
   ]
  },
  {
   "cell_type": "code",
   "execution_count": null,
   "metadata": {},
   "outputs": [],
   "source": [
    "##### Plotting right panel with simulation data #####\n",
    "# First masking the data and calculating the statistics for days corresponding to animal model data (for masking procedure explained, see Appendix) #\n",
    "data = load_animal_model_data('Kirkman_et_al_2010')\n",
    "days_vect=data['days_vect']\n",
    "\n",
    "N=30\n",
    "D_array=np.zeros([N,len(days_vect)])\n",
    "\n",
    "for ii in range(0,N): # Here we gather and extract data about N and B values on days 5,7,14,21,35\n",
    "    listt=np.load(DataPath+'/Sim_'+str(ii+1)+'.npy',allow_pickle=True)    \n",
    "    dt=listt[0]['dt']\n",
    "    t_vec=listt[1]['t_vec'].copy()\n",
    "    D_vec=listt[1]['D_vec'].copy()   \n",
    "    D_array[ii]=D_vec[np.array((np.array(days_vect)/dt),'i')]\n",
    "\n",
    "# Masking  D_array according to rules from [Kirkman et al., 2010]:\n",
    "D_array[(D_array>=0.6)]=3\n",
    "D_array[(D_array>=0.3)==(D_array<0.6)]=2\n",
    "D_array[(D_array>=0.1)==(D_array<0.3)]=1\n",
    "D_array[D_array<0.1]=0\n",
    "# Doubling everything to the form of  [Kirkman et al., 2010]:\n",
    "D_array=D_array*2\n",
    "    \n",
    "D_mean_vect=np.mean(D_array,axis=0)\n",
    "D_std_vect=np.std(D_array,axis=0)\n",
    "D_sem_vect=D_std_vect/np.sqrt(N)\n",
    "\n",
    "\n",
    "# plotting # \n",
    "\n",
    "fig = matplotlib.pyplot.gcf()\n",
    "ax = fig.add_subplot(1, 1, 1)  \n",
    "\n",
    "rects1 = ax.bar(np.arange(0,len(days_vect)), D_mean_vect, color='darkblue')\n",
    "err1, cl, _ = ax.errorbar(np.arange(0,len(days_vect)), D_mean_vect, yerr=D_sem_vect, lolims=True, capsize = 5/size_scaler, ls='None', color='k')\n",
    "cl[0].set_marker('_')\n",
    "cl[1].set_marker('')  # to remove the lower cap\n",
    "\n",
    "plt.ylim([0,6])\n",
    "plt.xticks(np.arange(0,len(days_vect)), days_vect)\n",
    "ytix=list(np.arange(0,7))\n",
    "plt.yticks(np.arange(0,7),ytix)\n",
    "plt.xticks(np.arange(0,len(days_vect)), days_vect)\n",
    "ax=plt.gca()\n",
    "for tick in ax.xaxis.get_major_ticks():\n",
    "    tick.label.set_fontsize(6) \n",
    "\n",
    "plt.xlabel('days post infection')\n",
    "plt.ylabel('Neuronal loss score')\n",
    "plt. title ('Simulation, N=30',fontsize=font['size'])\n",
    "\n",
    "ax.spines['right'].set_visible(False)\n",
    "ax.spines['top'].set_visible(False)\n",
    "\n",
    "plt.gcf().subplots_adjust(bottom=margin)\n",
    "plt.gcf().subplots_adjust(left=margin)\n",
    "plt.gcf().subplots_adjust(top=1-margin/2)\n",
    "set_size(w,w) \n",
    "fig.savefig('Figures/Fig4/Fig_4c2.pdf')"
   ]
  },
  {
   "cell_type": "markdown",
   "metadata": {},
   "source": [
    "## Figure 4d"
   ]
  },
  {
   "cell_type": "code",
   "execution_count": null,
   "metadata": {},
   "outputs": [],
   "source": [
    "N=30\n",
    "day_0=0\n",
    "day_end=35\n",
    "\n",
    "listt=np.load(DataPath+'/Sim_'+str(1)+'.npy',allow_pickle=True)  \n",
    "rect = patches.Rectangle((listt[0]['IBDR_E_duration'][0],-1),listt[0]['IBDR_E_duration_Complex'][0]-listt[0]['IBDR_E_duration'][0],2,linewidth=1,edgecolor='none',facecolor='tab:red',alpha=0.2)\n",
    "\n",
    "fig = matplotlib.pyplot.gcf()\n",
    "ax = fig.add_subplot(1, 1, 1)    \n",
    "\n",
    "ax.add_patch(rect)\n",
    "plt.plot([day_0, day_end],[listt[0]['Theta'],listt[0]['Theta']],'--',color='tab:red',linewidth = 4.0/size_scaler)\n",
    "\n",
    "for ii in range(0,N):\n",
    "    listt=np.load(DataPath+'/Sim_'+str(ii+1)+'.npy',allow_pickle=True)  \n",
    "    dt=listt[0]['dt']\n",
    "    t_vec=listt[1]['t_vec'].copy()\n",
    "    I_vec=listt[1]['I_vec'].copy()\n",
    "    plt.plot(t_vec[day_0:int(day_end/dt)],I_vec[day_0:int(day_end/dt)],color='tab:red',alpha=alp)\n",
    "    \n",
    "plt.ylim([0,0.5])\n",
    "plt.xlim([day_0,day_end])\n",
    "plt.xticks(np.arange(0,day_end+1,5))\n",
    "plt.xlabel('days post infection')\n",
    "plt.ylabel(r'Neuroinflammation intensity $I(t)$')\n",
    "plt. title (r'Simulation, N=30',fontsize=font['size'])\n",
    "\n",
    "ax.spines['right'].set_visible(False)\n",
    "ax.spines['top'].set_visible(False)\n",
    "\n",
    "plt.gcf().subplots_adjust(bottom=margin)\n",
    "plt.gcf().subplots_adjust(left=margin)\n",
    "set_size(2.5*w,w) \n",
    "fig.savefig('Figures/Fig4/Fig_4d.pdf')"
   ]
  },
  {
   "cell_type": "markdown",
   "metadata": {},
   "source": [
    "## Figure 4e"
   ]
  },
  {
   "cell_type": "code",
   "execution_count": 4,
   "metadata": {},
   "outputs": [
    {
     "name": "stdout",
     "output_type": "stream",
     "text": [
      "coefficient of determination: 0.6525945858993941\n"
     ]
    },
    {
     "data": {
      "image/png": "[encoded data removed]",
      "text/plain": [
       "<Figure size 158.74x198.425 with 1 Axes>"
      ]
     },
     "metadata": {
      "needs_background": "light"
     },
     "output_type": "display_data"
    }
   ],
   "source": [
    "N=30\n",
    "timepoint=35 # dpi for neuornal loss measuring\n",
    "D_timepoint=[]\n",
    "num_seiz_during1week=[]\n",
    "\n",
    "for ii in range(0,N): # Here we gather and extract data about seizures and neuronal loss on respective  time windows \n",
    "    listt=np.load(DataPath+'/Sim_'+str(ii+1)+'.npy',allow_pickle=True)  \n",
    "    dt=listt[0]['dt']\n",
    "    t_end=listt[0]['t_end']\n",
    "    t_vec=listt[1]['t_vec'].copy()\n",
    "    S_vec=listt[1]['S_vec'].copy()\n",
    "    seiz_days=np.floor(t_vec[S_vec!=0])\n",
    "    days=np.arange(1,t_end+1)\n",
    "    num_seiz_at_days_tmp=np.arange(1,t_end+1)\n",
    "    for kk in range(0,len(days)):\n",
    "        num_seiz_at_days_tmp[kk]=np.sum(seiz_days==days[kk])\n",
    "    num_seiz_during1week.append(np.sum(num_seiz_at_days_tmp[0:7]))\n",
    "    D_timepoint.append(listt[1]['D_vec'][int(timepoint/dt)])\n",
    "    \n",
    "    \n",
    "from sklearn.linear_model import LinearRegression # building linear regression model to check the correlation trend\n",
    "y=np.array(D_timepoint)\n",
    "x=np.array(num_seiz_during1week).reshape(-1,1)\n",
    "model = LinearRegression()\n",
    "model.fit(x, y)\n",
    "model = LinearRegression().fit(x, y)\n",
    "r_sq = model.score(x, y)\n",
    "print('coefficient of determination:', r_sq)\n",
    "x_pred = np.array([min(num_seiz_during1week)-2., max(num_seiz_during1week)+1]).reshape(-1,1)\n",
    "y_pred = model.predict(x_pred)\n",
    "\n",
    "# plotting #\n",
    "\n",
    "fig = matplotlib.pyplot.gcf()\n",
    "ax = fig.add_subplot(1, 1, 1)   \n",
    "\n",
    "plt.plot(num_seiz_during1week, D_timepoint,'.',color='darkblue', markersize=10/size_scaler)\n",
    "plt.plot(x_pred,y_pred,'-',color='darkblue',alpha=0.5)\n",
    "plt. title ('Simulation, N=30,\\n 35 days post infection',fontsize=font['size'])\n",
    "ax.text(.3,.82,r'$\\textnormal{R}^2$ = '+str(float(int(r_sq*100))/100),\n",
    "        horizontalalignment='center',\n",
    "        transform=ax.transAxes)\n",
    "\n",
    "plt.xlabel('Number of seizures during \\n first week post infection')\n",
    "plt.ylabel(r'Extent of neuronal loss $D(t)$')\n",
    "plt.yticks([0.36, 0.38, 0.4, 0.42])\n",
    "plt.xticks([5,10,15,20,25])\n",
    "\n",
    "ax.spines['right'].set_visible(False)\n",
    "ax.spines['top'].set_visible(False)\n",
    "\n",
    "plt.gcf().subplots_adjust(bottom=margin)\n",
    "plt.gcf().subplots_adjust(left=margin)\n",
    "plt.gcf().subplots_adjust(top=1-margin/2)\n",
    "set_size(1*w,w)  \n",
    "fig.savefig('Figures/Fig4/Fig_4e.pdf')"
   ]
  },
  {
   "cell_type": "markdown",
   "metadata": {},
   "source": [
    "## Figure 4f"
   ]
  },
  {
   "cell_type": "code",
   "execution_count": 5,
   "metadata": {},
   "outputs": [
    {
     "data": {
      "image/png": "[encoded data removed]",
      "text/plain": [
       "<Figure size 396.851x248.032 with 4 Axes>"
      ]
     },
     "metadata": {
      "needs_background": "light"
     },
     "output_type": "display_data"
    }
   ],
   "source": [
    "# Calculation of data from raw simulated data\n",
    "N=30 # number of subjects\n",
    "for ii in range(0,N): # Here we gather and extract data about seizures on respective days \n",
    "    listt=np.load(DataPath+'/Sim_'+str(ii+1)+'.npy',allow_pickle=True)  \n",
    "    t_end=listt[0]['t_end']\n",
    "    S_vec=listt[1]['S_vec'].copy()\n",
    "    t_vec=listt[1]['t_vec'].copy()\n",
    "    seiz_days=np.ceil(t_vec[S_vec!=0])\n",
    "    days=np.arange(1,t_end+1)\n",
    "    num_seiz_at_days_tmp=np.arange(1,t_end+1)\n",
    "    for kk in range(0,len(days)):\n",
    "        num_seiz_at_days_tmp[kk]=np.sum(seiz_days==days[kk])\n",
    "    if ii==0:\n",
    "        num_seiz_at_days=num_seiz_at_days_tmp.copy()\n",
    "    else:\n",
    "        num_seiz_at_days=np.vstack([num_seiz_at_days,num_seiz_at_days_tmp])\n",
    "        \n",
    "# Here we gather average number of seizures per animal per day \n",
    "avg_num_seiz_per_day = [] \n",
    "for ii in range(0,len(days)):\n",
    "    avg_num_seiz_per_day=np.append(avg_num_seiz_per_day,sum(num_seiz_at_days[:,ii]))\n",
    "avg_num_seiz_per_day=avg_num_seiz_per_day/len(num_seiz_at_days[:,0])\n",
    "\n",
    "\n",
    "\n",
    "# plotting #\n",
    "\n",
    "day_0 = 0 # time interval for visualization on early post injury period\n",
    "day_end = 21\n",
    "day_0_late = 358 # time interval for vizualization on 1 year post injury\n",
    "day_end_late = 365\n",
    "\n",
    "days_vect= np.linspace(day_0, day_end, day_end-day_0+1, endpoint=True)\n",
    "days_vect_late= np.linspace(day_0_late, day_end_late, day_end_late-day_0_late+1, endpoint=True)\n",
    "\n",
    "fig = matplotlib.pyplot.gcf()\n",
    "ax1 = fig.add_subplot(1, 30, (1,21))    \n",
    "\n",
    "im1 = plt.pcolormesh(days_vect, np.arange(0,N+1),num_seiz_at_days[:,day_0:day_end])\n",
    "plt.xticks(np.array([0,7,14,20])+0.5,np.array([0,7,14,20])+1)\n",
    "plt.yticks(np.arange(0,N+1)+0.5,np.arange(0,N+1)+1)\n",
    "plt.xlim([day_0, day_end])\n",
    "plt.ylim([0,N])\n",
    "cbar=plt.colorbar(im1)\n",
    "cbar.set_label(r'$\\frac{\\textnormal{seizures}}{\\textnormal{day}}$', rotation=90,fontsize=6)\n",
    "cbar.ax.tick_params(labelsize=5)\n",
    "plt.xlabel('days post infection')\n",
    "plt.ylabel(' Simulation \\#')\n",
    "# plt. title ('Simulation, N=30',fontsize=font['size'])\n",
    "\n",
    "ax2 = fig.add_subplot(1, 30, (24,30))\n",
    "im2 = plt.pcolormesh(days_vect_late, np.arange(0,N+1),num_seiz_at_days[:,day_0_late:day_end_late])\n",
    "plt.xticks(np.array([358,364])+0.5,np.array([358,364])+1)\n",
    "plt.yticks([])\n",
    "\n",
    "for tick in ax1.yaxis.get_major_ticks():\n",
    "    tick.label.set_fontsize(5) \n",
    "    tick.label.set_rotation('horizontal')\n",
    "    \n",
    "for tick in ax2.yaxis.get_major_ticks():\n",
    "    tick.label.set_fontsize(5) \n",
    "    tick.label.set_rotation('horizontal')    \n",
    "    \n",
    "plt.xlim([day_0_late, day_end_late])\n",
    "plt.ylim([0,N])\n",
    "plt.xlabel('days post infection')\n",
    "cbar=plt.colorbar(im2)\n",
    "cbar.set_label(r'$\\frac{\\textnormal{seizures}}{\\textnormal{day}}$', rotation=90,fontsize=6)\n",
    "cbar.ax.tick_params(labelsize=5)\n",
    "\n",
    "plt.gcf().subplots_adjust(bottom=margin)\n",
    "plt.gcf().subplots_adjust(left=margin)\n",
    "set_size(2.5*w,1.5*w)\n",
    "fig.savefig('Figures/Fig4/Fig_4f.pdf')"
   ]
  }
 ],
 "metadata": {
  "kernelspec": {
   "display_name": "Python 3",
   "language": "python",
   "name": "python3"
  },
  "language_info": {
   "codemirror_mode": {
    "name": "ipython",
    "version": 3
   },
   "file_extension": ".py",
   "mimetype": "text/x-python",
   "name": "python",
   "nbconvert_exporter": "python",
   "pygments_lexer": "ipython3",
   "version": "3.7.4"
  }
 },
 "nbformat": 4,
 "nbformat_minor": 2
}
