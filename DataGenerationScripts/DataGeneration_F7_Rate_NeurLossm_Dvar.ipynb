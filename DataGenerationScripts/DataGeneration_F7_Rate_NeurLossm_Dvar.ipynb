{
 "cells": [
  {
   "cell_type": "code",
   "execution_count": 23,
   "metadata": {},
   "outputs": [
    {
     "name": "stdout",
     "output_type": "stream",
     "text": [
      "Once deleted, variables cannot be recovered. Proceed (y/[n])? y\n"
     ]
    }
   ],
   "source": [
    "##### This code is used for obtaining rate model data for different values oof neuronal loss D_const #####\n",
    "if 'RunningFromFigureScript' in locals(): # Checking where from the script was runned. If from\n",
    "    # figure, the directory path is then different\n",
    "    %run ./DataGenerationScripts/load_default_parameters.ipynb # loading model parameters\n",
    "    %run ./DataGenerationScripts/dIBDRdt_functions.ipynb # loading time derivative functions\n",
    "else:\n",
    "    %reset \n",
    "    %run ../DataGenerationScripts/load_default_parameters.ipynb # loading model parameters\n",
    "    %run ../DataGenerationScripts/dIBDRdt_functions.ipynb # loading time derivative functions \n",
    "    \n",
    "import numpy as np\n",
    "from tqdm import tqdm"
   ]
  },
  {
   "cell_type": "code",
   "execution_count": 24,
   "metadata": {},
   "outputs": [],
   "source": [
    "D0_vect=[0.45, 0.5, 0.6, 0.7, 0.8, 0.9, 1.]"
   ]
  },
  {
   "cell_type": "code",
   "execution_count": 25,
   "metadata": {},
   "outputs": [
    {
     "name": "stderr",
     "output_type": "stream",
     "text": [
      "100%|██████████| 4204800/4204800 [03:29<00:00, 20072.10it/s]\n",
      "100%|██████████| 4204800/4204800 [03:30<00:00, 19989.68it/s]\n",
      "100%|██████████| 4204800/4204800 [03:44<00:00, 18736.60it/s]\n",
      "100%|██████████| 4204800/4204800 [04:20<00:00, 16112.60it/s]\n",
      "100%|██████████| 4204800/4204800 [04:48<00:00, 14565.18it/s]\n",
      "100%|██████████| 4204800/4204800 [03:39<00:00, 19146.33it/s]\n",
      "100%|██████████| 4204800/4204800 [03:08<00:00, 22341.51it/s]\n"
     ]
    }
   ],
   "source": [
    "for ww in range(0,len(D0_vect)):\n",
    "    params=load_default_parameters('rate') # here we define simulation-specific parameters of simulation duration; external input parameters; number of simulation; output location for data  \n",
    "    params['t_end']= 365*40 # 40 years          \n",
    "    params['IBDR_E_duration']= [0,0,0,0]\n",
    "    params['IBDR_E_amplitude']= [0,0,0,0]\n",
    "    params['Complex_input']= 'no'\n",
    "    params['amount_simulations']=  len(D0_vect)\n",
    "    params['number_simulation']= ww+1\n",
    "    params['IC']=[0,0,D0_vect[ww],0] # here we set the D0 as initial condition for D(t)\n",
    "    if 'RunningFromFigureScript' in locals(): # Checking where from the script was runned and creating respective figure path\n",
    "        params['path']= './Data/Data_F7_Rate_NeurLossm_Dvar/Sim_'\n",
    "    else:\n",
    "        params['path']= '../Data/Data_F7_Rate_NeurLossm_Dvar/Sim_'\n",
    "\n",
    "    locals().update(params)\n",
    "\n",
    "    t_vec=np.linspace(0,t_end,int(t_end/dt+1))\n",
    "    I_vec=np.zeros(np.shape(t_vec))\n",
    "    B_vec=np.zeros(np.shape(t_vec))\n",
    "    D_vec=np.zeros(np.shape(t_vec))\n",
    "    R_vec=np.zeros(np.shape(t_vec))\n",
    "\n",
    "    t_lastseiz = []\n",
    "    I_vec[0]=IC[0] #  setting initial conditions\n",
    "    B_vec[0]=IC[1]\n",
    "    D_vec[0]=IC[2]\n",
    "    R_vec[0]=IC[3]\n",
    "\n",
    "    for ii in tqdm(range(1, len(t_vec))): # solving with forward Euler method  \n",
    "\n",
    "        [dIdt, dBdt, dDdt, dRdt] = \\\n",
    "                    dIBDRdt_Rate(t_vec[ii], I_vec[ii-1], B_vec[ii-1], D_vec[ii-1], R_vec[ii-1], params)\n",
    "\n",
    "        I_vec[ii] = I_vec[ii-1] + dIdt * dt\n",
    "        B_vec[ii] = B_vec[ii-1] + dBdt * dt\n",
    "        D_vec[ii] = D_vec[ii-1] + dDdt * dt\n",
    "        R_vec[ii] = R_vec[ii-1] + dRdt * dt\n",
    "\n",
    "\n",
    "    results_dict = {'t_vec': t_vec,\n",
    "                    'I_vec': I_vec,\n",
    "                    'B_vec': B_vec,\n",
    "                    'D_vec': D_vec,\n",
    "                    'R_vec': R_vec}\n",
    "\n",
    "    filename = path + str(number_simulation)\n",
    "    np.save(filename, [params, results_dict])\n",
    "    del ii, filename"
   ]
  },
  {
   "cell_type": "code",
   "execution_count": null,
   "metadata": {},
   "outputs": [],
   "source": []
  }
 ],
 "metadata": {
  "kernelspec": {
   "display_name": "Python 3",
   "language": "python",
   "name": "python3"
  },
  "language_info": {
   "codemirror_mode": {
    "name": "ipython",
    "version": 3
   },
   "file_extension": ".py",
   "mimetype": "text/x-python",
   "name": "python",
   "nbconvert_exporter": "python",
   "pygments_lexer": "ipython3",
   "version": "3.7.4"
  }
 },
 "nbformat": 4,
 "nbformat_minor": 2
}
