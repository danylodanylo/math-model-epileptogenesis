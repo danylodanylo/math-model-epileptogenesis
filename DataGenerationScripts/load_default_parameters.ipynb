{
 "cells": [
  {
   "cell_type": "code",
   "execution_count": 1,
   "metadata": {},
   "outputs": [],
   "source": [
    "def load_default_parameters(rate_or_stochastic): # See Appendix 4\n",
    "    if rate_or_stochastic == 'rate':\n",
    "        params = {'tau_I': 1, #timescale of neuroinflammatory reaction [days]\n",
    "                  'tau_B': 10, #timescale of BBB recovery [days]\n",
    "                  'tau_D': 10,  #timescale of neuronal death process [days]\n",
    "                  'tau_R': 10, #timescale of circuit remodeling [days]\n",
    "                  'k_IB': 0.1, # scaling parameter for effect of neuroinflammation on BBB permeability [-]\n",
    "                  'k_BI': 1., # scaling parameter for proinflammatory effect of BBB leakage [-]\n",
    "                  'k_IS': 2, # scaling parameter for strength of seizure-promoting effects of neuroinflammation [-]\n",
    "                  'k_RS': 2., # scaling parameter for strength of seizure-promoting effects of circuit remodeling [-]\n",
    "                  'k_ID': 8., # scaling parameter for neurotoxic effect of overactivated glia [-]\n",
    "                  'k_BR': 1., # scaling parameter of BBB leakage on circuit remodeling [-]\n",
    "                  'k_DR': 0.0005, # scaling parameter of neuronal loss on circuit remodeling [-]\n",
    "                  'K_SB': 0.875, # scaling parameter for seizure burden on BBB integrity [-]\n",
    "                  'D_m': 1., # maximum possible xtent of neuronal loss [-]\n",
    "                  'Theta': 0.25, # Neurotoxicity threshold of overactivated glia [-]\n",
    "                  'IC': [0,0,0,0], # initial conditions\n",
    "                  'dt': 5/60/24 # integration time step [days]\n",
    "                 }\n",
    "                  \n",
    "\n",
    "    elif rate_or_stochastic=='stochastic':\n",
    "        params = {'tau_I': 1, #timescale of neuroinflammatory reaction [days]\n",
    "                  'tau_B': 10, #timescale of BBB recovery [days]\n",
    "                  'tau_D': 10, #timescale of neuronal death process [days]\n",
    "                  'tau_R': 10,  #timescale of circuit remodeling [days]\n",
    "                  'k_IB': 0.1, # scaling parameter for effect of neuroinflammation on BBB permeability [-]\n",
    "                  'k_BI': 1., # scaling parameter for proinflammatory effect of BBB leakage [-]\n",
    "                  'k_IS': 2, # scaling parameter for strength of seizure-promoting effects of neuroinflammation [-]\n",
    "                  'k_RS': 2., # scaling parameter for strength of seizure-promoting effects of circuit remodeling [-]\n",
    "                  'k_ID': 8., # scaling parameter for neurotoxic effect of overactivated glia [-]\n",
    "                  'k_BR': 1., # scaling parameter of BBB leakage on circuit remodeling [-]\n",
    "                  'k_DR': 0.0005, # scaling parameter of neuronal loss on circuit remodeling [-]\n",
    "                  'K_SB': 0.875, # scaling parameter for seizure burden on BBB integrity [-]\n",
    "                  'D_m': 1., # maximum possible xtent of neuronal loss [-]\n",
    "                  'Theta': 0.25, # Neurotoxicity threshold of overactivated glia [-]\n",
    "                  'IC': [0,0,0,0], # initial conditions\n",
    "                  'dt': 5/60/24, # integration time step [days]\n",
    "        # ...       't_end': 365, # to be defined in the DataGenerationScript\n",
    "                  'seed_value': 1, # seed value for random function     \n",
    "                  'T_seiz': 5/60/24, # seizure duration [days]\n",
    "                  'lambda_max':15 # homeostatic upper bound of daily seizure number  \n",
    "                  }\n",
    "        if params['lambda_max']==0: # here we compute contribution of single seizure to BBB disruption\n",
    "            params['k_SB']=0\n",
    "        else: # here we compute contribution of single seizure to BBB disruption\n",
    "            params['k_SB']=params['K_SB']/params['lambda_max']/params['T_seiz'] # burden of one seizure  #FOR STOCHASTIC VERSION\n",
    "    \n",
    "    \n",
    "    \n",
    "    else: \n",
    "        print('Error: calling default parameters specify argument \\'rate\\' or \\'stochastic\\'.')\n",
    "        params={}\n",
    "\n",
    "    return(params)"
   ]
  },
  {
   "cell_type": "code",
   "execution_count": null,
   "metadata": {},
   "outputs": [],
   "source": []
  }
 ],
 "metadata": {
  "kernelspec": {
   "display_name": "Python 3",
   "language": "python",
   "name": "python3"
  },
  "language_info": {
   "codemirror_mode": {
    "name": "ipython",
    "version": 3
   },
   "file_extension": ".py",
   "mimetype": "text/x-python",
   "name": "python",
   "nbconvert_exporter": "python",
   "pygments_lexer": "ipython3",
   "version": "3.7.4"
  }
 },
 "nbformat": 4,
 "nbformat_minor": 2
}
