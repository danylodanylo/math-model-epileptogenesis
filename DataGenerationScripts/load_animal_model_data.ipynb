{
 "cells": [
  {
   "cell_type": "code",
   "execution_count": null,
   "metadata": {},
   "outputs": [],
   "source": [
    "def load_animal_model_data(paper): # See Appendix 6\n",
    "    data={}\n",
    "    if paper == 'Weissberg_et_al_2015':\n",
    "        data['LatentPeriod_mean'] = 4.9\n",
    "        data['LatentPeriod_sem'] = 1.3\n",
    "        data['Seizure_freq_mean'] = 1.16 # days 4-32\n",
    "        data['Seizure_freq_sem'] = 0.16\n",
    "        \n",
    "    elif paper == 'Patel_et_al_2017':\n",
    "        data['N_animals_seiz_observ']=11 # number of animals in daily seizure count experiment\n",
    "        data['seiz_count'] = np.array([0, 27, 30, 19, 12, 33, 20, 3, 4, 2, 7, 1, 1, 1, 4]) # seizures count on each day after infection\n",
    "        \n",
    "        data['N_aminals_TNF_observ'] = [8,6,5]\n",
    "        data['TNF_mean_vect']  = [6.9, 206.2, 34.8]\n",
    "        data['TNF_sem_vect'] = [0.6, 14.9, 7.1]\n",
    "        data['days_vect_TNF_observ'] = [1,5,14]\n",
    "    elif paper == 'Kirkman_et_al_2010':\n",
    "        data['days_vect'] = [1,2,3,4,5,7,14,21,35]\n",
    "        data['NeurLoss_mean_vect'] = np.array([0,0,0,0.5, 1.1, 3.8, 4.0, 4.5, 3.8])\n",
    "        data['NeurLoss_sem_vect'] = np.array([0,0,0, 0.3, 0.4, 0.4, 0.7, 0.5, 0.9])\n",
    "    \n",
    "    elif paper == 'Brackhan_et_al_2016':\n",
    "        data['days_vect'] = [0,2,5,14]\n",
    "        data['microglial_act_mean_vect'] = [0, 1.13, 1.61, 1.61]\n",
    "        data['microglial_act_sem_vect'] = [0, 0.08, 0.09, 0.2]\n",
    "        data['NeurLoss_mean_vect'] = np.array([0, 1.82, 2.15, 1.89])\n",
    "        data['NeurLoss_sem_vect'] = np.array([0.  , 0.36, 0.27, 0.36])\n",
    "\n",
    "    elif paper == 'Zhang_et_al_2015': \n",
    "        data['days_vect'] = [0,7,60]\n",
    "        data['NeuN_immunoreact_mean_vect'] = np.array([105.45, 83.21, 11.68])\n",
    "        data['NeuN_immunoreact_sem_vect'] = np.array([2.94, 4.38, 0.73])\n",
    "    else: \n",
    "        print('Error: Animal model data not found')\n",
    "\n",
    "    return(data)"
   ]
  }
 ],
 "metadata": {
  "kernelspec": {
   "display_name": "Python 3",
   "language": "python",
   "name": "python3"
  },
  "language_info": {
   "codemirror_mode": {
    "name": "ipython",
    "version": 3
   },
   "file_extension": ".py",
   "mimetype": "text/x-python",
   "name": "python",
   "nbconvert_exporter": "python",
   "pygments_lexer": "ipython3",
   "version": "3.7.4"
  }
 },
 "nbformat": 4,
 "nbformat_minor": 2
}
