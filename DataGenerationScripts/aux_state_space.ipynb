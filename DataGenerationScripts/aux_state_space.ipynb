{
 "cells": [
  {
   "cell_type": "code",
   "execution_count": 2,
   "metadata": {},
   "outputs": [],
   "source": [
    "def fixedpointsfinder(fun, a, b, n): # Results of this heuristic approach are validated by analysis described in Appendix 3\n",
    "    output=list([])\n",
    "    x=np.linspace(a,b,n+1)\n",
    "    for ii in range(1,len(x)-1):\n",
    "        if fun(x[ii])<=0:\n",
    "            if fun(x[ii-1])>0 and fun(x[ii+1])<0:\n",
    "                output.append([x[ii],'Stable'])\n",
    "            if fun(x[ii-1])<0 and fun(x[ii+1])>0:\n",
    "                output.append([x[ii],'Unstable'])\n",
    "        if fun(x[ii])<=0:        \n",
    "            if fun(x[ii-1])>0 and fun(x[ii+1])>0:\n",
    "                output.append([x[ii],'Semistable'])\n",
    "        if fun(x[ii])>=0:\n",
    "            if fun(x[ii-1])<0 and fun(x[ii+1])<0:\n",
    "                output.append([x[ii],'Semistable'])\n",
    "    return output"
   ]
  }
 ],
 "metadata": {
  "kernelspec": {
   "display_name": "Python 3",
   "language": "python",
   "name": "python3"
  },
  "language_info": {
   "codemirror_mode": {
    "name": "ipython",
    "version": 3
   },
   "file_extension": ".py",
   "mimetype": "text/x-python",
   "name": "python",
   "nbconvert_exporter": "python",
   "pygments_lexer": "ipython3",
   "version": "3.7.4"
  }
 },
 "nbformat": 4,
 "nbformat_minor": 2
}
