{
 "cells": [
  {
   "cell_type": "code",
   "execution_count": null,
   "metadata": {},
   "outputs": [],
   "source": [
    "##### This code is used for obtaining the separatrix line #####\n",
    "# The heuristic approach underlies in simulation of dynamical system state development with different initial conditions (values taken from a B-R grid with certain discretisation step) and observing which initial condition corresponds to atttion to either healthy or epileptic steady state\n",
    "if 'RunningFromFigureScript' in locals(): # Checking where from the script was runned. If from figure, the directory path is then different\n",
    "    %run ./DataGenerationScripts/load_default_parameters.ipynb # loading model parameters\n",
    "    %run ./DataGenerationScripts/dIBDRdt_functions.ipynb # loading time derivative functions \n",
    "else:\n",
    "    %reset \n",
    "    %run ../DataGenerationScripts/load_default_parameters.ipynb # loading model parameters\n",
    "    %run ../DataGenerationScripts/dIBDRdt_functions.ipynb # loading time derivative functions \n",
    "    \n",
    "import numpy as np\n",
    "from tqdm import tqdm\n"
   ]
  },
  {
   "cell_type": "code",
   "execution_count": null,
   "metadata": {},
   "outputs": [],
   "source": [
    "params=load_default_parameters('rate')\n",
    "params['IBDR_E_duration']= [0,0,0,0]\n",
    "params['IBDR_E_amplitude']= [0,0,0,0] \n",
    "params['Complex_input']= 'no'             \n",
    "t_end= 10000\n",
    "dt=1\n",
    "\n",
    "Rmax = 0.175\n",
    "Bmax = 0.175\n",
    "Rmin = -0.1\n",
    "Bmin = -0.1\n",
    "\n",
    "n_disc = 170\n",
    "\n",
    "B_grid = np.linspace(Bmin, Bmax, n_disc) # defining B-R grid \n",
    "R_grid = np.linspace(Rmin, Rmax, n_disc)\n",
    "t_vect = np.linspace(0, t_end, int(t_end/dt)+1)#, retstep=True)\n",
    "\n",
    "IBDR_4d=np.zeros([len(t_vect),n_disc,n_disc,4]) # dimensions: time, init cond B, init cond R, IBDR values\n",
    "\n",
    "for ii in range(0,n_disc):\n",
    "    for jj in range(0,n_disc):\n",
    "        IBDR_4d[0,ii,jj,:]=[B_grid[ii],B_grid[ii],0,R_grid[jj]] # setting each value of the grid to be an initial condition\n",
    "\n",
    "for tt in tqdm(range(1,len(t_vect))):\n",
    "    for ii in range(0,n_disc):\n",
    "        for jj in range(0,n_disc):\n",
    "            IBDR_4d[tt,ii,jj,:]=IBDR_4d[tt-1,ii,jj,:]+dt*dIBDRdt_Rate(t_vect[tt],IBDR_4d[tt-1,ii,jj,0],IBDR_4d[tt-1,ii,jj,1],IBDR_4d[tt-1,ii,jj,2],IBDR_4d[tt-1,ii,jj,3], params)\n",
    "            "
   ]
  },
  {
   "cell_type": "code",
   "execution_count": null,
   "metadata": {},
   "outputs": [],
   "source": [
    "# Here, we check where did the system state developed (to epileptic or healthy attractor) for respective initial conditions. The separatrix line is obtained as a border between points leading to different outcomes\n",
    "B_sep=[]\n",
    "R_sep=[]\n",
    "for ii in range(0,n_disc):\n",
    "    for jj in range(0,n_disc):\n",
    "        if (IBDR_4d[-1,ii,jj-1,1]<0.1) and (IBDR_4d[-1,ii,jj,1]>=0.1):\n",
    "            B_sep.append(B_grid[ii])\n",
    "            if jj==0:\n",
    "                R_sep.append(R_grid[jj])\n",
    "            else:\n",
    "                R_sep.append((R_grid[jj]+R_grid[jj-1])/2)\n",
    "      \n",
    "if 'RunningFromFigureScript' in locals():\n",
    "    np.save('./Data/Data_F1b_Separatrix/SeparatrixLine', [params, B_sep, R_sep, n_disc])  \n",
    "else:\n",
    "    np.save('../Data/Data_F1b_Separatrix/SeparatrixLine', [params, B_sep, R_sep, n_disc])  "
   ]
  }
 ],
 "metadata": {
  "kernelspec": {
   "display_name": "Python 3",
   "language": "python",
   "name": "python3"
  },
  "language_info": {
   "codemirror_mode": {
    "name": "ipython",
    "version": 3
   },
   "file_extension": ".py",
   "mimetype": "text/x-python",
   "name": "python",
   "nbconvert_exporter": "python",
   "pygments_lexer": "ipython3",
   "version": "3.7.4"
  }
 },
 "nbformat": 4,
 "nbformat_minor": 2
}
