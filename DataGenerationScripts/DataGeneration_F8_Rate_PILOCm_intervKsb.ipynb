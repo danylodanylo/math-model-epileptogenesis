{
 "cells": [
  {
   "cell_type": "code",
   "execution_count": 58,
   "metadata": {},
   "outputs": [
    {
     "name": "stdout",
     "output_type": "stream",
     "text": [
      "Once deleted, variables cannot be recovered. Proceed (y/[n])? y\n"
     ]
    }
   ],
   "source": [
    "##### This code is used for obtaining Pilocarpine model data with rate model for 6 interventions with K_SB suppression #####\n",
    "if 'RunningFromFigureScript' in locals(): # Checking where from the script was runned. If from\n",
    "    # figure, the directory path is then different\n",
    "    %run ./DataGenerationScripts/load_default_parameters.ipynb # loading model parameters\n",
    "    %run ./DataGenerationScripts/dIBDRdt_functions.ipynb # loading time derivative functions\n",
    "else:\n",
    "    %reset \n",
    "    %run ../DataGenerationScripts/load_default_parameters.ipynb # loading model parameters\n",
    "    %run ../DataGenerationScripts/dIBDRdt_functions.ipynb # loading time derivative functions \n",
    "    \n",
    "import numpy as np\n",
    "from tqdm import tqdm"
   ]
  },
  {
   "cell_type": "code",
   "execution_count": 59,
   "metadata": {},
   "outputs": [],
   "source": [
    "t_interv_windows=np.array([[-0.1,-0.01],# no intervention\n",
    "                            [0,365*10], # permanent (until t_end)\n",
    "                            [0,10*7], # 10 weeks\n",
    "                            [0,2*7], # 2 weeks\n",
    "                            [0,5*7], # 5 weeks\n",
    "                            [2*7,7*7], # 5 weeks with 2 weeks delay\n",
    "                            [5*7,10*7]]) # 5 weeks with 5 weeks delay "
   ]
  },
  {
   "cell_type": "code",
   "execution_count": 60,
   "metadata": {},
   "outputs": [
    {
     "name": "stderr",
     "output_type": "stream",
     "text": [
      "100%|██████████| 7/7 [05:16<00:00, 45.27s/it]\n"
     ]
    }
   ],
   "source": [
    "for ww in tqdm(range(0,len(t_interv_windows[:,0]))):\n",
    "    params=load_default_parameters('rate')  # heree we define simulation-specific parameters of simulation duration; external input parameters; number of simulation; output location for data \n",
    "    params['t_end']= 365*10          \n",
    "    params['IBDR_E_duration']= [0,2,2,0]\n",
    "    params['IBDR_E_amplitude']= [0,1.65,1.,0]\n",
    "    params['Complex_input']= 'no'\n",
    "    params['amount_simulations']=  len(t_interv_windows[:,0])\n",
    "    params['number_simulation']= ww+1\n",
    "    if 'RunningFromFigureScript' in locals(): # Checking where from the script was runned and creating respective figure path\n",
    "        params['path']= './Data/Data_F8_Rate_PILOCm_intervKsb/Sim_'\n",
    "    else:\n",
    "        params['path']= '../Data/Data_F8_Rate_PILOCm_intervKsb/Sim_'\n",
    "\n",
    "    locals().update(params)\n",
    "\n",
    "    t_vec=np.linspace(0,t_end,int(t_end/dt+1))\n",
    "    I_vec=np.zeros(np.shape(t_vec))\n",
    "    B_vec=np.zeros(np.shape(t_vec))\n",
    "    D_vec=np.zeros(np.shape(t_vec))\n",
    "    R_vec=np.zeros(np.shape(t_vec))\n",
    "\n",
    "    t_lastseiz = []\n",
    "    I_vec[0]=IC[0] #  setting initial conditions\n",
    "    B_vec[0]=IC[1]\n",
    "    D_vec[0]=IC[2]\n",
    "    R_vec[0]=IC[3]\n",
    "    \n",
    "    K_SB_def = params['K_SB']\n",
    "\n",
    "    for ii in range(1, len(t_vec)): # solving with forward Euler method  \n",
    "        \n",
    "        if t_vec[ii]<t_interv_windows[ww,0] or t_vec[ii]>t_interv_windows[ww,1]:\n",
    "            params['K_SB'] = K_SB_def\n",
    "        else: \n",
    "            params['K_SB'] = 0.01*K_SB_def # supression of K_SB during the intervention time window\n",
    "        \n",
    "        [dIdt, dBdt, dDdt, dRdt] = \\\n",
    "                    dIBDRdt_Rate(t_vec[ii], I_vec[ii-1], B_vec[ii-1], D_vec[ii-1], R_vec[ii-1], params)\n",
    "\n",
    "        I_vec[ii] = I_vec[ii-1] + dIdt * dt\n",
    "        B_vec[ii] = B_vec[ii-1] + dBdt * dt\n",
    "        D_vec[ii] = D_vec[ii-1] + dDdt * dt\n",
    "        R_vec[ii] = R_vec[ii-1] + dRdt * dt\n",
    "\n",
    "\n",
    "    results_dict = {'t_vec': t_vec,\n",
    "                    'I_vec': I_vec,\n",
    "                    'B_vec': B_vec,\n",
    "                    'D_vec': D_vec,\n",
    "                    'R_vec': R_vec}\n",
    "\n",
    "    filename = path + str(number_simulation)\n",
    "    np.save(filename, [params, results_dict])\n",
    "    del ii, filename"
   ]
  }
 ],
 "metadata": {
  "kernelspec": {
   "display_name": "Python 3",
   "language": "python",
   "name": "python3"
  },
  "language_info": {
   "codemirror_mode": {
    "name": "ipython",
    "version": 3
   },
   "file_extension": ".py",
   "mimetype": "text/x-python",
   "name": "python",
   "nbconvert_exporter": "python",
   "pygments_lexer": "ipython3",
   "version": "3.7.4"
  }
 },
 "nbformat": 4,
 "nbformat_minor": 2
}
