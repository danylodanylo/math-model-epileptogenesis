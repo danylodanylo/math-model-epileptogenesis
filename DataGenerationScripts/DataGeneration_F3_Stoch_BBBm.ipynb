{
 "cells": [
  {
   "cell_type": "code",
   "execution_count": 5,
   "metadata": {},
   "outputs": [
    {
     "name": "stdout",
     "output_type": "stream",
     "text": [
      "Once deleted, variables cannot be recovered. Proceed (y/[n])? y\n"
     ]
    }
   ],
   "source": [
    "##### This code is used for obtaining BBB disruption model data with stochastic model #####\n",
    "if 'RunningFromFigureScript' in locals(): # Checking where from the script was runned. If from\n",
    "    # figure, the directory path is then different\n",
    "    %run ./DataGenerationScripts/load_default_parameters.ipynb # loading model parameters\n",
    "    %run ./DataGenerationScripts/dIBDRdt_functions.ipynb # loading time derivative functions\n",
    "else:\n",
    "    %reset \n",
    "    %run ../DataGenerationScripts/load_default_parameters.ipynb # loading model parameters\n",
    "    %run ../DataGenerationScripts/dIBDRdt_functions.ipynb # loading time derivative functions \n",
    "    \n",
    "import numpy as np\n",
    "from tqdm import tqdm"
   ]
  },
  {
   "cell_type": "code",
   "execution_count": 6,
   "metadata": {},
   "outputs": [],
   "source": [
    " # In this cell we define simulation-specific parameters of simulation \n",
    "        # duration; external input parameters; number of simulation; output location for data  \n",
    "params=load_default_parameters('stochastic')\n",
    "params['t_end']= 90          \n",
    "params['IBDR_E_duration']= [0,7,0,0]\n",
    "params['IBDR_E_amplitude']= [0,0.25,0,0]\n",
    "params['Complex_input']= 'no' \n",
    "params['amount_simulations']=  30\n",
    "params['number_simulation']= 0\n",
    "if 'RunningFromFigureScript' in locals(): # Checking where from the script was runned and creating respective figure path\n",
    "    params['path']= './Data/Data_F3_Stoch_BBBm/Sim_'\n",
    "else:\n",
    "    params['path']= '../Data/Data_F3_Stoch_BBBm/Sim_'"
   ]
  },
  {
   "cell_type": "code",
   "execution_count": 7,
   "metadata": {},
   "outputs": [
    {
     "name": "stderr",
     "output_type": "stream",
     "text": [
      "100%|██████████| 30/30 [01:37<00:00,  3.26s/it]\n"
     ]
    }
   ],
   "source": [
    "locals().update(params)\n",
    "np.random.seed(seed_value)\n",
    "\n",
    "t_vec=np.linspace(0,t_end,int(t_end/dt+1))\n",
    "I_vec=np.zeros(np.shape(t_vec))\n",
    "B_vec=np.zeros(np.shape(t_vec))\n",
    "D_vec=np.zeros(np.shape(t_vec))\n",
    "R_vec=np.zeros(np.shape(t_vec))\n",
    "S_vec=np.zeros(np.shape(t_vec)) # seizure vector: 1- seizure onset, 2-seizure is still active (for cases T_seiz>dt)\n",
    "lambda_vec=np.zeros(np.shape(t_vec)) # seiz rate vector\n",
    "\n",
    "t_lastseiz = []\n",
    "I_vec[0]=IC[0] #  setting initial conditions\n",
    "B_vec[0]=IC[1]\n",
    "D_vec[0]=IC[2]\n",
    "R_vec[0]=IC[3]\n",
    "\n",
    "for sim_number in tqdm(range(1, amount_simulations + 1)): # performing N simulations\n",
    "    params['number_simulation'] = sim_number\n",
    "    \n",
    "    \n",
    "    for ii in range(1, len(t_vec)): # solving with forward Euler method  \n",
    "        [dIdt, dBdt, dDdt, dRdt, S_vec[ii], t_lastseiz] = \\\n",
    "                dIBDRdt_Stoch(t_vec[ii], I_vec[ii-1], B_vec[ii-1], D_vec[ii-1], R_vec[ii-1], S_vec[ii-1], lambda_vec[ii-1], t_lastseiz , params)\n",
    "                \n",
    "        I_vec[ii] = I_vec[ii-1] + dIdt * dt\n",
    "        B_vec[ii] = B_vec[ii-1] + dBdt * dt\n",
    "        D_vec[ii] = D_vec[ii-1] + dDdt * dt\n",
    "        R_vec[ii] = R_vec[ii-1] + dRdt * dt\n",
    "        \n",
    "        lambda_vec[ii]=SeizureRate(I_vec[ii],R_vec[ii], params)\n",
    "\n",
    "    results_dict = {'t_vec': t_vec,\n",
    "                    'I_vec': I_vec,\n",
    "                    'B_vec': B_vec,\n",
    "                    'D_vec': D_vec,\n",
    "                    'R_vec': R_vec,\n",
    "                    'S_vec': S_vec,\n",
    "                    'lambda_vec': lambda_vec}\n",
    "\n",
    "    filename = path + str(sim_number)\n",
    "    np.save(filename, [params, results_dict])\n",
    "    del ii, filename"
   ]
  },
  {
   "cell_type": "code",
   "execution_count": null,
   "metadata": {},
   "outputs": [],
   "source": []
  }
 ],
 "metadata": {
  "kernelspec": {
   "display_name": "Python 3",
   "language": "python",
   "name": "python3"
  },
  "language_info": {
   "codemirror_mode": {
    "name": "ipython",
    "version": 3
   },
   "file_extension": ".py",
   "mimetype": "text/x-python",
   "name": "python",
   "nbconvert_exporter": "python",
   "pygments_lexer": "ipython3",
   "version": "3.7.4"
  }
 },
 "nbformat": 4,
 "nbformat_minor": 2
}
