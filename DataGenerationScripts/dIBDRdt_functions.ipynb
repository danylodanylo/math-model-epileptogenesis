{
 "cells": [
  {
   "cell_type": "markdown",
   "metadata": {},
   "source": [
    "## Rate version "
   ]
  },
  {
   "cell_type": "code",
   "execution_count": null,
   "metadata": {},
   "outputs": [],
   "source": [
    "def dIBDRdt_Rate(t, I0, B0, D0, R0, params_dict): # calculating time derivative at time step t \n",
    "    inp = np.zeros(len(params_dict['IBDR_E_duration'])) # defining vector of external input at this timestep\n",
    "    \n",
    "    for ww in range(0, len(inp)): # calculating external input at this timestep. Input may be simple (from time step 0 to T_off) or complex (with delay from time step 0 to T_on)\n",
    "        if t <= params_dict['IBDR_E_duration'][ww]:\n",
    "            inp[ww] = params_dict['IBDR_E_amplitude'][ww]\n",
    "        else:\n",
    "            if params_dict['Complex_input']=='yes':\n",
    "                if t <= params_dict['IBDR_E_duration_Complex'][ww]: \n",
    "                    inp[ww] = params_dict['IBDR_E_amplitude_Complex'][ww]\n",
    "                    \n",
    "    S = SeizureBurden(I0, R0, params_dict)\n",
    "    dIdt = 1 / params_dict['tau_I'] * (-I0 + params_dict['k_BI']*B0 + inp[0])\n",
    "    dBdt = 1 / params_dict['tau_B'] * (-B0 + params_dict['k_IB'] *I0 + S + inp[1])\n",
    "    dDdt = 1 / params_dict['tau_D'] * (\n",
    "                (1 - D0 / params_dict['D_m']) * params_dict['k_ID'] * np.max([0, I0 - params_dict['Theta']]) +\n",
    "                inp[2])\n",
    "    dRdt = 1 / params_dict['tau_R'] * (-R0 + params_dict['k_BR']*B0 + params_dict['k_DR']*D0 + inp[3])\n",
    "    return ([dIdt, dBdt, dDdt, dRdt])"
   ]
  },
  {
   "cell_type": "code",
   "execution_count": null,
   "metadata": {},
   "outputs": [],
   "source": [
    "def SeizureBurden(I,R, par_dict): # defining seizure burden function (Eq.4) depending on neuroinflammation and circuit remodeling\n",
    "    return par_dict['K_SB']*(np.exp(par_dict['k_IS']*I*I+par_dict['k_RS']*R)-1)\\\n",
    "                           /(np.exp(par_dict['k_IS']*I*I+par_dict['k_RS']*R)+1)"
   ]
  },
  {
   "cell_type": "code",
   "execution_count": null,
   "metadata": {},
   "outputs": [],
   "source": [
    "def fun_dbdt(x): # function db/dt, where D=D_const; R(t) is expressed as R=kappa_BR*B+kappa_DR*D_const; I is expressed as I=kappa_BI*B\n",
    "...     return -x+k_IB*k_BI*x+K_SB*(np.exp(k_IS*k_BI*k_BI*x*x+k_RS*k_BR*x+k_RS*k_DR*D_const)-1)\\\n",
    "                                     /(np.exp(k_IS*k_BI*k_BI*x*x+k_RS*k_BR*x+k_RS*k_DR*D_const)+1)"
   ]
  },
  {
   "cell_type": "markdown",
   "metadata": {},
   "source": [
    "## Stochastic version"
   ]
  },
  {
   "cell_type": "code",
   "execution_count": null,
   "metadata": {},
   "outputs": [],
   "source": [
    "def dIBDRdt_Stoch(t, I0, B0, D0, R0, S0, lambda0, t_lastseiz , params):\n",
    "        dt=params['dt']\n",
    "        T_seiz=params['T_seiz']\n",
    "        \n",
    "        if S0 == 0:\n",
    "            if np.random.rand(1) > lambda0 * dt:\n",
    "                S = 0\n",
    "                dIBDRdt = dIBDRdt_NoSeiz(t, I0, B0, D0, R0, params)\n",
    "            else:\n",
    "                S = 2\n",
    "                t_lastseiz = t\n",
    "                dIBDRdt = dIBDRdt_Seiz(t, I0, B0, D0, R0, params)\n",
    "        else:\n",
    "            if t > t_lastseiz + T_seiz - dt:\n",
    "                if np.random.rand(1) > lambda0 * dt:\n",
    "                    S = 0\n",
    "                    dIBDRdt = dIBDRdt_NoSeiz(t, I0, B0, D0, R0, params)\n",
    "                else:\n",
    "                    S = 2\n",
    "                    t_lastseiz = t\n",
    "                    dIBDRdt = dIBDRdt_Seiz(t, I0, B0, D0, R0, params)\n",
    "            else:\n",
    "                S = 1\n",
    "                dIBDRdt = dIBDRdt_Seiz(t, I0, B0, D0, R0, params)\n",
    "                \n",
    "        return(dIBDRdt[0], dIBDRdt[1], dIBDRdt[2], dIBDRdt[3], S, t_lastseiz)"
   ]
  },
  {
   "cell_type": "code",
   "execution_count": null,
   "metadata": {},
   "outputs": [],
   "source": [
    "def dIBDRdt_NoSeiz(t, I0, B0, D0, R0, params_dict): # calculating time derivative at time step t for case no seizure occuring on this time step\n",
    "    inp = np.zeros(len(params_dict['IBDR_E_duration'])) # defining vector of external input at this timestep\n",
    "    for ww in range(0, len(inp)): # calculating external input at this timestep. Input may be simple (from time step 0 to T_off) or complex (with delay from time step 0 to T_on)\n",
    "        if t <= params_dict['IBDR_E_duration'][ww]:\n",
    "            inp[ww] = params_dict['IBDR_E_amplitude'][ww]\n",
    "        else:\n",
    "            if params_dict['Complex_input']=='yes':\n",
    "                if t <= params_dict['IBDR_E_duration_Complex'][ww]: \n",
    "                    inp[ww] = params_dict['IBDR_E_amplitude_Complex'][ww]\n",
    "            \n",
    "    dIdt = 1 / params_dict['tau_I'] * (-I0 + params_dict['k_BI']*B0 + inp[0])\n",
    "    dBdt = 1 / params_dict['tau_B'] * (-B0 + params_dict['k_IB'] *I0 + inp[1])\n",
    "    dDdt = 1 / params_dict['tau_D'] * (\n",
    "                (1 - D0 / params_dict['D_m']) * params_dict['k_ID'] * np.max([0, I0 - params_dict['Theta']]) +\n",
    "                inp[2])\n",
    "    dRdt = 1 / params_dict['tau_R'] * (-R0 + params_dict['k_BR']*B0 + params_dict['k_DR']*D0 + inp[3])\n",
    "    return ([dIdt, dBdt, dDdt, dRdt])"
   ]
  },
  {
   "cell_type": "code",
   "execution_count": null,
   "metadata": {},
   "outputs": [],
   "source": [
    "def dIBDRdt_Seiz(t, I0, B0, D0, R0, params_dict): # calculating time derivative at time step t for case of seizure occuring on this time step\n",
    "    inp = np.zeros(len(params_dict['IBDR_E_duration'])) # defining vector of external input at this timestep\n",
    "    for ww in range(0, len(inp)): # calculating external input at this timestep. Input may be simple (from time step 0 to T_off) or complex (with delay from time step 0 to T_on)\n",
    "        if t <= params_dict['IBDR_E_duration'][ww]:\n",
    "            inp[ww] = params_dict['IBDR_E_amplitude'][ww]\n",
    "        else:\n",
    "            if params_dict['Complex_input']=='yes':\n",
    "                if t <= params_dict['IBDR_E_duration_Complex'][ww]: \n",
    "                    inp[ww] = params_dict['IBDR_E_amplitude_Complex'][ww]\n",
    "            \n",
    "    dIdt = 1 / params_dict['tau_I'] * (-I0 + params_dict['k_BI']*B0 + inp[0])\n",
    "    dBdt = 1 / params_dict['tau_B'] * (-B0 + params_dict['k_IB'] *I0 + params_dict['k_SB']+ inp[1])\n",
    "    dDdt = 1 / params_dict['tau_D'] * (\n",
    "                (1 - D0 / params_dict['D_m']) * params_dict['k_ID'] * np.max([0, I0 - params_dict['Theta']]) +\n",
    "                inp[2])\n",
    "    dRdt = 1 / params_dict['tau_R'] * (-R0 + params_dict['k_BR']*B0 + params_dict['k_DR']*D0 + inp[3])\n",
    "    return ([dIdt, dBdt, dDdt, dRdt])"
   ]
  },
  {
   "cell_type": "code",
   "execution_count": null,
   "metadata": {},
   "outputs": [],
   "source": [
    "def SeizureRate(I,R, par_dict): # defining seizure burden function (Eq. 2) depending on neuroinflammation and circuit remodeling\n",
    "    return par_dict['lambda_max']*(np.exp(par_dict['k_IS']*I*I+par_dict['k_RS']*R)-1)\\\n",
    "                                 /(np.exp(par_dict['k_IS']*I*I+par_dict['k_RS']*R)+1)"
   ]
  }
 ],
 "metadata": {
  "kernelspec": {
   "display_name": "Python 3",
   "language": "python",
   "name": "python3"
  },
  "language_info": {
   "codemirror_mode": {
    "name": "ipython",
    "version": 3
   },
   "file_extension": ".py",
   "mimetype": "text/x-python",
   "name": "python",
   "nbconvert_exporter": "python",
   "pygments_lexer": "ipython3",
   "version": "3.7.4"
  }
 },
 "nbformat": 4,
 "nbformat_minor": 2
}
