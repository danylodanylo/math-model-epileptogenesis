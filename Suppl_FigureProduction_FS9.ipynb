{
 "cells": [
  {
   "cell_type": "code",
   "execution_count": 1,
   "metadata": {},
   "outputs": [
    {
     "name": "stdout",
     "output_type": "stream",
     "text": [
      "Once deleted, variables cannot be recovered. Proceed (y/[n])? y\n"
     ]
    }
   ],
   "source": [
    "%reset \n",
    "import numpy as np\n",
    "import matplotlib\n",
    "import matplotlib.pyplot as plt\n",
    "from tqdm import tqdm\n",
    "import os\n",
    "from matplotlib import cm\n",
    "import matplotlib.patches as patches\n",
    "import pylab\n",
    "from scipy.optimize import fsolve\n",
    "\n",
    "\n",
    "DataPath_1='./Data/Suppl_Data_FS9_Stoch_TMEVm_kID5'\n",
    "DataPath_2='./Data/Suppl_Data_FS9_Stoch_TMEVm_kID15'\n",
    "\n",
    "\n",
    "%run ./DataGenerationScripts/load_default_parameters.ipynb # loading model parameters\n",
    "%run ./DataGenerationScripts/set_size.ipynb # loading function for pdf output sizer\n",
    "%run ./DataGenerationScripts/aux_state_space.ipynb # loading auxiliarry functions for state space vizualization\n",
    "%run ./DataGenerationScripts/load_animal_model_data.ipynb # loading function for pdf output sizer\n",
    "%run ./DataGenerationScripts/dIBDRdt_functions.ipynb # loading time derivative functions"
   ]
  },
  {
   "cell_type": "code",
   "execution_count": 2,
   "metadata": {},
   "outputs": [
    {
     "name": "stdout",
     "output_type": "stream",
     "text": [
      "Data not found. Running Data Generation script\n"
     ]
    },
    {
     "name": "stderr",
     "output_type": "stream",
     "text": [
      "100%|██████████| 30/30 [02:23<00:00,  4.78s/it]\n",
      "  0%|          | 0/30 [00:00<?, ?it/s]"
     ]
    },
    {
     "name": "stdout",
     "output_type": "stream",
     "text": [
      "Data not found. Running Data Generation script\n"
     ]
    },
    {
     "name": "stderr",
     "output_type": "stream",
     "text": [
      "100%|██████████| 30/30 [02:11<00:00,  4.39s/it]\n"
     ]
    }
   ],
   "source": [
    "##### This cell checks whether data exists. If not, it is being generated #####\n",
    "if not os.path.isdir(DataPath_1):\n",
    "    os.makedirs(DataPath_1)\n",
    "if not os.path.isfile(DataPath_1+'/Sim_1.npy'):\n",
    "    print('Data not found. Running Data Generation script')\n",
    "    RunningFromFigureScript=True\n",
    "    %run ./DataGenerationScripts/Suppl_DataGeneration_FS9_Stoch_TMEVm_kID5.ipynb\n",
    "if not os.path.isdir(DataPath_2):\n",
    "    os.makedirs(DataPath_2)\n",
    "if not os.path.isfile(DataPath_2+'/Sim_1.npy'):\n",
    "    print('Data not found. Running Data Generation script')\n",
    "    RunningFromFigureScript=True\n",
    "    %run ./DataGenerationScripts/Suppl_DataGeneration_FS9_Stoch_TMEVm_kID15.ipynb"
   ]
  },
  {
   "cell_type": "code",
   "execution_count": 3,
   "metadata": {},
   "outputs": [],
   "source": [
    "font = {'size'   : 8}\n",
    "# plt.rc('font', family='sans-serif') \n",
    "# plt.rc('font', serif='Helvetica Neue')\n",
    "plt.rc('font',**{'family':'sans-serif','serif':['Helvetica Neue']})\n",
    "plt.rc('font', **font)\n",
    "plt.rc('text', usetex=True)\n",
    "\n",
    "viridis = cm.get_cmap('viridis', 12)\n",
    "color_scheme_5examples = [viridis(0.0)[0:3],viridis(0.3)[0:3],viridis(0.55)[0:3],viridis(0.75)[0:3],viridis(0.95)[0:3]]\n",
    "alpha_value=0.45\n",
    "marker_sizer=2.5\n",
    "dt_vis=30\n",
    "\n",
    "\n",
    "h=2.8*0.393701 #[cm] to  modification [inch] Height of output figure\n",
    "w=2.8*0.393701 #[cm] to  modification [inch] Width of output figure\n",
    "margin=0.4 # [1] margin ratio of output figure layout\n",
    "size_scaler=2.5"
   ]
  },
  {
   "cell_type": "code",
   "execution_count": 4,
   "metadata": {},
   "outputs": [],
   "source": [
    "##### Plotting right panel with simulation data #####\n",
    "# First masking the data and calculating the statistics for days corresponding to animal model data (for masking procedure explained, see Appendix) #\n",
    "data = load_animal_model_data('Kirkman_et_al_2010')\n",
    "days_vect=data['days_vect']\n",
    "N=30"
   ]
  },
  {
   "cell_type": "code",
   "execution_count": 5,
   "metadata": {},
   "outputs": [
    {
     "data": {
      "image/png": "[encoded data removed]",
      "text/plain": [
       "<Figure size 158.74x198.425 with 1 Axes>"
      ]
     },
     "metadata": {
      "needs_background": "light"
     },
     "output_type": "display_data"
    }
   ],
   "source": [
    "DataPath=DataPath_1\n",
    "\n",
    "D_array=np.zeros([N,len(days_vect)])\n",
    "\n",
    "for ii in range(0,N): # Here we gather and extract data about N and B values on days 5,7,14,21,35\n",
    "    listt=np.load(DataPath+'/Sim_'+str(ii+1)+'.npy',allow_pickle=True)    \n",
    "    dt=listt[0]['dt']\n",
    "    t_vec=listt[1]['t_vec'].copy()\n",
    "    D_vec=listt[1]['D_vec'].copy()   \n",
    "    D_array[ii]=D_vec[np.array((np.array(days_vect)/dt),'i')]\n",
    "\n",
    "# Masking  D_array according to rules from [Kirkman et al., 2010]:\n",
    "D_array[(D_array>=0.6)]=3\n",
    "D_array[(D_array>=0.3)==(D_array<0.6)]=2\n",
    "D_array[(D_array>=0.1)==(D_array<0.3)]=1\n",
    "D_array[D_array<0.1]=0\n",
    "# Doubling everything to the form of  [Kirkman et al., 2010]:\n",
    "D_array=D_array*2\n",
    "    \n",
    "D_mean_vect=np.mean(D_array,axis=0)\n",
    "D_std_vect=np.std(D_array,axis=0)\n",
    "D_sem_vect=D_std_vect/np.sqrt(N)\n",
    "\n",
    "\n",
    "# plotting # \n",
    "\n",
    "fig = matplotlib.pyplot.gcf()\n",
    "ax = fig.add_subplot(1, 1, 1)  \n",
    "\n",
    "rects1 = ax.bar(np.arange(0,len(days_vect)), D_mean_vect, color='grey')\n",
    "err1, cl, _ = ax.errorbar(np.arange(0,len(days_vect)), D_mean_vect, yerr=D_sem_vect, lolims=True, capsize = 5/size_scaler, ls='None', color='grey')\n",
    "cl[0].set_marker('_')\n",
    "cl[1].set_marker('')  # to remove the lower cap\n",
    "\n",
    "plt.ylim([0,6])\n",
    "plt.xticks(np.arange(0,len(days_vect)), days_vect)\n",
    "ytix=list(np.arange(0,7))\n",
    "plt.yticks(np.arange(0,7),ytix)\n",
    "plt.xticks(np.arange(0,len(days_vect)), days_vect)\n",
    "ax=plt.gca()\n",
    "for tick in ax.xaxis.get_major_ticks():\n",
    "    tick.label.set_fontsize(6) \n",
    "\n",
    "plt.xlabel('days post infection')\n",
    "plt.ylabel('Neuronal loss score')\n",
    "plt. title ('Simulation, N=30',fontsize=font['size'])\n",
    "\n",
    "ax.spines['right'].set_visible(False)\n",
    "ax.spines['top'].set_visible(False)\n",
    "\n",
    "plt.gcf().subplots_adjust(bottom=margin)\n",
    "plt.gcf().subplots_adjust(left=margin)\n",
    "plt.gcf().subplots_adjust(top=1-margin/2)\n",
    "set_size(w,w) \n",
    "fig.savefig('./Figures/Supplementary/Fig_S9B.pdf')"
   ]
  },
  {
   "cell_type": "code",
   "execution_count": 6,
   "metadata": {},
   "outputs": [
    {
     "data": {
      "image/png": "[encoded data removed]",
      "text/plain": [
       "<Figure size 158.74x198.425 with 1 Axes>"
      ]
     },
     "metadata": {
      "needs_background": "light"
     },
     "output_type": "display_data"
    }
   ],
   "source": [
    "DataPath=DataPath_2\n",
    "\n",
    "D_array=np.zeros([N,len(days_vect)])\n",
    "\n",
    "for ii in range(0,N): # Here we gather and extract data about N and B values on days 5,7,14,21,35\n",
    "    listt=np.load(DataPath+'/Sim_'+str(ii+1)+'.npy',allow_pickle=True)    \n",
    "    dt=listt[0]['dt']\n",
    "    t_vec=listt[1]['t_vec'].copy()\n",
    "    D_vec=listt[1]['D_vec'].copy()   \n",
    "    D_array[ii]=D_vec[np.array((np.array(days_vect)/dt),'i')]\n",
    "\n",
    "# Masking  D_array according to rules from [Kirkman et al., 2010]:\n",
    "D_array[(D_array>=0.6)]=3\n",
    "D_array[(D_array>=0.3)==(D_array<0.6)]=2\n",
    "D_array[(D_array>=0.1)==(D_array<0.3)]=1\n",
    "D_array[D_array<0.1]=0\n",
    "# Doubling everything to the form of  [Kirkman et al., 2010]:\n",
    "D_array=D_array*2\n",
    "    \n",
    "D_mean_vect=np.mean(D_array,axis=0)\n",
    "D_std_vect=np.std(D_array,axis=0)\n",
    "D_sem_vect=D_std_vect/np.sqrt(N)\n",
    "\n",
    "\n",
    "# plotting # \n",
    "\n",
    "fig = matplotlib.pyplot.gcf()\n",
    "ax = fig.add_subplot(1, 1, 1)  \n",
    "\n",
    "rects1 = ax.bar(np.arange(0,len(days_vect)), D_mean_vect, color='grey')\n",
    "err1, cl, _ = ax.errorbar(np.arange(0,len(days_vect)), D_mean_vect, yerr=D_sem_vect, lolims=True, capsize = 5/size_scaler, ls='None', color='grey')\n",
    "cl[0].set_marker('_')\n",
    "cl[1].set_marker('')  # to remove the lower cap\n",
    "\n",
    "plt.ylim([0,6])\n",
    "plt.xticks(np.arange(0,len(days_vect)), days_vect)\n",
    "ytix=list(np.arange(0,7))\n",
    "plt.yticks(np.arange(0,7),ytix)\n",
    "plt.xticks(np.arange(0,len(days_vect)), days_vect)\n",
    "ax=plt.gca()\n",
    "for tick in ax.xaxis.get_major_ticks():\n",
    "    tick.label.set_fontsize(6) \n",
    "\n",
    "plt.xlabel('days post infection')\n",
    "plt.ylabel('Neuronal loss score')\n",
    "plt. title ('Simulation, N=30',fontsize=font['size'])\n",
    "\n",
    "ax.spines['right'].set_visible(False)\n",
    "ax.spines['top'].set_visible(False)\n",
    "\n",
    "plt.gcf().subplots_adjust(bottom=margin)\n",
    "plt.gcf().subplots_adjust(left=margin)\n",
    "plt.gcf().subplots_adjust(top=1-margin/2)\n",
    "set_size(w,w) \n",
    "fig.savefig('./Figures/Supplementary/Fig_S9D.pdf')"
   ]
  },
  {
   "cell_type": "code",
   "execution_count": null,
   "metadata": {},
   "outputs": [],
   "source": []
  }
 ],
 "metadata": {
  "kernelspec": {
   "display_name": "Python 3",
   "language": "python",
   "name": "python3"
  },
  "language_info": {
   "codemirror_mode": {
    "name": "ipython",
    "version": 3
   },
   "file_extension": ".py",
   "mimetype": "text/x-python",
   "name": "python",
   "nbconvert_exporter": "python",
   "pygments_lexer": "ipython3",
   "version": "3.7.4"
  }
 },
 "nbformat": 4,
 "nbformat_minor": 2
}
