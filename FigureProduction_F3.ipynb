{
 "cells": [
  {
   "cell_type": "code",
   "execution_count": 1,
   "metadata": {},
   "outputs": [
    {
     "name": "stdout",
     "output_type": "stream",
     "text": [
      "Once deleted, variables cannot be recovered. Proceed (y/[n])? y\n"
     ]
    }
   ],
   "source": [
    "%reset \n",
    "import numpy as np\n",
    "import matplotlib\n",
    "import matplotlib.pyplot as plt\n",
    "from tqdm import tqdm\n",
    "import os\n",
    "from matplotlib import cm\n",
    "import matplotlib.patches as patches\n",
    "import pylab\n",
    "from scipy.optimize import fsolve\n",
    "\n",
    "\n",
    "DataPath_1='./Data/Data_F3_Stoch_BBBm'\n",
    "DataPath_2='./Data/Data_F3_Stoch_BBBm_dec'\n",
    "DataPath_3='./Data/Data_F3_Stoch_BBBm_short'\n",
    "DataPath_4='./Data/Data_F3_Stoch_BBBm_long'\n",
    "DataPath_rate='./Data/Data_F3_Rate_BBBm_4injuries'\n",
    "\n",
    "\n",
    "%run ./DataGenerationScripts/load_default_parameters.ipynb # loading model parameters\n",
    "%run ./DataGenerationScripts/set_size.ipynb # loading function for pdf output sizer\n",
    "%run ./DataGenerationScripts/aux_state_space.ipynb # loading auxiliarry functions for state space vizualization\n",
    "%run ./DataGenerationScripts/load_animal_model_data.ipynb # loading function for pdf output sizer\n",
    "%run ./DataGenerationScripts/dIBDRdt_functions.ipynb # loading time derivative functions"
   ]
  },
  {
   "cell_type": "code",
   "execution_count": 2,
   "metadata": {},
   "outputs": [],
   "source": [
    "##### This cell checks whether data exists. If not, it is being generated #####\n",
    "if not os.path.isdir(DataPath_1):\n",
    "    os.makedirs(DataPath_1)\n",
    "if not os.path.isfile(DataPath_1+'/Sim_1.npy'):\n",
    "    print('Data not found. Running Data Generation script')\n",
    "    RunningFromFigureScript=True\n",
    "    %run ./DataGenerationScripts/DataGeneration_F3_Stoch_BBBm.ipynb\n",
    "if not os.path.isdir(DataPath_2):\n",
    "    os.makedirs(DataPath_2)\n",
    "if not os.path.isfile(DataPath_2+'/Sim_1.npy'):\n",
    "    print('Data not found. Running Data Generation script')\n",
    "    RunningFromFigureScript=True\n",
    "    %run ./DataGenerationScripts/DataGeneration_F3_Stoch_BBBm_dec.ipynb\n",
    "if not os.path.isdir(DataPath_3):\n",
    "    os.makedirs(DataPath_3)\n",
    "if not os.path.isfile(DataPath_3+'/Sim_1.npy'):\n",
    "    print('Data not found. Running Data Generation script')\n",
    "    RunningFromFigureScript=True\n",
    "    %run ./DataGenerationScripts/DataGeneration_F3_Stoch_BBBm_short.ipynb\n",
    "if not os.path.isdir(DataPath_4):\n",
    "    os.makedirs(DataPath_4)\n",
    "if not os.path.isfile(DataPath_4+'/Sim_1.npy'):\n",
    "    print('Data not found. Running Data Generation script')\n",
    "    RunningFromFigureScript=True\n",
    "    %run ./DataGenerationScripts/DataGeneration_F3_Stoch_BBBm_long.ipynb\n",
    "if not os.path.isdir(DataPath_rate):\n",
    "    os.makedirs(DataPath_rate)\n",
    "if not os.path.isfile(DataPath_rate+'/Sim_1.npy'):\n",
    "    print('Data not found. Running Data Generation script')\n",
    "    RunningFromFigureScript=True\n",
    "    %run ./DataGenerationScripts/DataGeneration_F3_Rate_BBBm_4injuries.ipynb"
   ]
  },
  {
   "cell_type": "code",
   "execution_count": 3,
   "metadata": {},
   "outputs": [],
   "source": [
    "font = {'size'   : 8}\n",
    "# plt.rc('font', family='sans-serif') \n",
    "# plt.rc('font', serif='Helvetica Neue')\n",
    "plt.rc('font',**{'family':'sans-serif','serif':['Helvetica Neue']})\n",
    "plt.rc('font', **font)\n",
    "plt.rc('text', usetex=True)\n",
    "\n",
    "viridis = cm.get_cmap('viridis', 12)\n",
    "color_scheme_5examples = [viridis(0.0)[0:3],viridis(0.3)[0:3],viridis(0.55)[0:3],viridis(0.75)[0:3],viridis(0.95)[0:3]]\n",
    "alpha_value=0.45\n",
    "marker_sizer=2.5\n",
    "dt_vis=30\n",
    "\n",
    "\n",
    "h=2.8*0.393701 #[cm] to  modification [inch] Height of output figure\n",
    "w=2.8*0.393701 #[cm] to  modification [inch] Width of output figure\n",
    "margin=0.4 # [1] margin ratio of output figure layout\n",
    "size_scaler=2.5"
   ]
  },
  {
   "cell_type": "markdown",
   "metadata": {},
   "source": [
    "## Figure 3a  "
   ]
  },
  {
   "cell_type": "code",
   "execution_count": 4,
   "metadata": {},
   "outputs": [],
   "source": [
    "##### Calculating latent period duration for 4 simulated intensities: matched input intensity; decreased via lowering concentration; decreased via shortening; increased via prolongation #####\n",
    "N=30\n",
    "\n",
    "day_first_seiz=np.zeros(N)\n",
    "for ii in range(0,N): # Here we gather and extract data about seizures on respective days \n",
    "    listt=np.load(DataPath_1+'/Sim_'+str(ii+1)+'.npy',allow_pickle=True)\n",
    "    S_vec=listt[1]['S_vec'].copy()\n",
    "    t_vec=listt[1]['t_vec'].copy()\n",
    "    seiz_days=np.ceil(t_vec[S_vec!=0])\n",
    "    day_first_seiz[ii]=seiz_days[0]\n",
    "day_first_seiz_sim=day_first_seiz\n",
    "LP_mean=np.mean(day_first_seiz)   \n",
    "LP_sem=np.std(day_first_seiz)/np.sqrt(N)\n",
    "\n",
    "day_first_seiz=np.zeros(N)\n",
    "for ii in range(0,N): # Here we gather and extract data about seizures on respective days \n",
    "    listt=np.load(DataPath_2+'/Sim_'+str(ii+1)+'.npy',allow_pickle=True)\n",
    "    S_vec=listt[1]['S_vec'].copy()\n",
    "    t_vec=listt[1]['t_vec'].copy()\n",
    "    seiz_days=np.ceil(t_vec[S_vec!=0])\n",
    "    day_first_seiz[ii]=seiz_days[0]\n",
    "day_first_seiz_simdec=day_first_seiz\n",
    "LP_mean_dec=np.mean(day_first_seiz)   \n",
    "LP_sem_dec=np.std(day_first_seiz)/np.sqrt(N)\n",
    "\n",
    "day_first_seiz=np.zeros(N)\n",
    "for ii in range(0,N): # Here we gather and extract data about seizures on respective days \n",
    "    listt=np.load(DataPath_3+'/Sim_'+str(ii+1)+'.npy',allow_pickle=True)\n",
    "    S_vec=listt[1]['S_vec'].copy()\n",
    "    t_vec=listt[1]['t_vec'].copy()\n",
    "    seiz_days=np.ceil(t_vec[S_vec!=0])\n",
    "    day_first_seiz[ii]=seiz_days[0]\n",
    "day_first_seiz_simshort=day_first_seiz\n",
    "LP_mean_short=np.mean(day_first_seiz)   \n",
    "LP_sem_short=np.std(day_first_seiz)/np.sqrt(N)\n",
    "\n",
    "day_first_seiz=np.zeros(N)\n",
    "for ii in range(0,N): # Here we gather and extract data about seizures on respective days \n",
    "    listt=np.load(DataPath_4+'/Sim_'+str(ii+1)+'.npy',allow_pickle=True)\n",
    "    S_vec=listt[1]['S_vec'].copy()\n",
    "    t_vec=listt[1]['t_vec'].copy()\n",
    "    seiz_days=np.ceil(t_vec[S_vec!=0])\n",
    "    day_first_seiz[ii]=seiz_days[0]\n",
    "day_first_seiz_simlong=day_first_seiz\n",
    "LP_mean_long=np.mean(day_first_seiz)   \n",
    "LP_sem_long=np.std(day_first_seiz)/np.sqrt(N)"
   ]
  },
  {
   "cell_type": "code",
   "execution_count": 6,
   "metadata": {},
   "outputs": [
    {
     "name": "stdout",
     "output_type": "stream",
     "text": [
      "4.966666666666667\n",
      "0.3349405696316664\n",
      "[ 8.  8. 10.]\n",
      "2.0\n"
     ]
    }
   ],
   "source": [
    "print(LP_mean)\n",
    "print(LP_sem)\n",
    "print(day_first_seiz_sim[day_first_seiz_sim>7])\n",
    "print(min(day_first_seiz_sim))"
   ]
  },
  {
   "cell_type": "code",
   "execution_count": 6,
   "metadata": {},
   "outputs": [
    {
     "data": {
      "image/png": "[encoded data removed]",
      "text/plain": [
       "<Figure size 476.221x165.354 with 1 Axes>"
      ]
     },
     "metadata": {
      "needs_background": "light"
     },
     "output_type": "display_data"
    }
   ],
   "source": [
    "data = load_animal_model_data('Weissberg_et_al_2015')\n",
    "\n",
    "fig, ax = plt.subplots()\n",
    "vec=np.array([1,2,3,4,5])\n",
    "plt.bar(np.array(vec),np.array([data['LatentPeriod_mean'], LP_mean, LP_mean_dec, LP_mean_short, LP_mean_long]), color='black',\n",
    "       yerr=[data['LatentPeriod_sem'],LP_sem, LP_sem_dec, LP_sem_short, LP_sem_long],\n",
    "       align='center',\n",
    "       alpha=1,\n",
    "       ecolor='black',\n",
    "       capsize=10/3*2,width=0.8/3*2)\n",
    "\n",
    "plt.xticks(np.array(vec), ['(Weissberg \\n et al., 2015),\\n N = 10',\n",
    "                             r\"$B^E$ = 0.25,\"\"\\n\" r\"$T_\\textnormal{off}$ = 7 days\",\n",
    "                             r\"$B^E \\times 50\\%$\",\n",
    "                             r\"$T_\\textnormal{off} \\times 50\\%$\",\n",
    "                             r\"$T_\\textnormal{off} \\times 150\\%$\"], fontsize=7.5)\n",
    "\n",
    "plt.yticks(np.arange(0,9))\n",
    "plt.ylabel('Latent period duration, days')\n",
    "\n",
    "ax.spines['right'].set_visible(False)\n",
    "ax.spines['top'].set_visible(False)\n",
    "\n",
    "plt.gcf().subplots_adjust(bottom=margin)\n",
    "plt.gcf().subplots_adjust(left=margin)\n",
    "set_size(3*w,w)\n",
    "fig.savefig('Figures/Fig3/Fig_3a.pdf')"
   ]
  },
  {
   "cell_type": "code",
   "execution_count": 7,
   "metadata": {},
   "outputs": [
    {
     "name": "stdout",
     "output_type": "stream",
     "text": [
      "Statistics DEC=266.500, p=0.006\n",
      "0.005858818189238063\n",
      "Statistics SHORT=431.000, p=0.777\n",
      "0.7771826955666062\n",
      "Statistics LONG=450.000, p=0.994\n",
      "0.9938709023254123\n"
     ]
    }
   ],
   "source": [
    "## STATISTICS U TEST:\n",
    "from scipy.stats import mannwhitneyu\n",
    "stat, p = mannwhitneyu(day_first_seiz_sim, day_first_seiz_simdec,alternative='two-sided')\n",
    "print('Statistics DEC=%.3f, p=%.3f' % (stat, p))\n",
    "print(p)\n",
    "stat, p = mannwhitneyu(day_first_seiz_sim, day_first_seiz_simshort,alternative='two-sided')\n",
    "print('Statistics SHORT=%.3f, p=%.3f' % (stat, p))\n",
    "print(p)\n",
    "stat, p = mannwhitneyu(day_first_seiz_sim, day_first_seiz_simlong,alternative='two-sided')\n",
    "print('Statistics LONG=%.3f, p=%.3f' % (stat, p))\n",
    "print(p)\n",
    "\n",
    "# plt.hist(day_first_seiz_sim,edgecolor='k',alpha=0.25)\n",
    "# plt.hist(day_first_seiz_simdec,alpha=0.25)\n",
    "# plt.hist(day_first_seiz_simlong,alpha=0.25)\n",
    "# plt.hist(day_first_seiz_simshort,alpha=0.25)"
   ]
  },
  {
   "cell_type": "markdown",
   "metadata": {},
   "source": [
    "## Figure 3b"
   ]
  },
  {
   "cell_type": "code",
   "execution_count": 8,
   "metadata": {},
   "outputs": [],
   "source": [
    "##### Calculating seizure frequency on days 4-32 for 4 simulated intensities: matched input intensity; decreased via lowering concentration; decreased via shortening; increased via prolongation #####\n",
    "N=30\n",
    "day_0=4\n",
    "day_end=32\n",
    "\n",
    "for ii in range(0,N): # Here we gather and extract data about seizures on respective days \n",
    "    listt=np.load(DataPath_1+'/Sim_'+str(ii+1)+'.npy',allow_pickle=True)\n",
    "    t_end=listt[0]['t_end']\n",
    "    S_vec=listt[1]['S_vec'].copy()\n",
    "    t_vec=listt[1]['t_vec'].copy()\n",
    "    seiz_days=np.ceil(t_vec[S_vec!=0])\n",
    "    days=np.arange(1,t_end+1)\n",
    "    num_seiz_at_days_tmp=np.arange(1,t_end+1)\n",
    "    for kk in range(0,len(days)):\n",
    "        num_seiz_at_days_tmp[kk]=np.sum(seiz_days==days[kk])\n",
    "    if ii==0:\n",
    "        num_seiz_at_days=num_seiz_at_days_tmp.copy()\n",
    "    else:\n",
    "        num_seiz_at_days=np.vstack([num_seiz_at_days,num_seiz_at_days_tmp])\n",
    "num_seiz_at_days_sim=num_seiz_at_days # this for statistical analysis later\n",
    "# Here we gather average number of seizures per mouse per day \n",
    "avg_num_seiz_per_day = [] \n",
    "for ii in range(0,len(days)):\n",
    "    avg_num_seiz_per_day=np.append(avg_num_seiz_per_day,sum(num_seiz_at_days[:,ii]))\n",
    "avg_num_seiz_per_day=avg_num_seiz_per_day/len(num_seiz_at_days[:,0])\n",
    "SeizFr_mean=np.mean(avg_num_seiz_per_day[day_0-1:day_end])\n",
    "avg_num_seiz_per_day[day_0-1:day_end]\n",
    "SeizFr_sem=np.std(avg_num_seiz_per_day[day_0-1:day_end])/np.sqrt(N)\n",
    "\n",
    "\n",
    "for ii in range(0,N): # Here we gather and extract data about seizures on respective days \n",
    "    listt=np.load(DataPath_2+'/Sim_'+str(ii+1)+'.npy',allow_pickle=True)\n",
    "    t_end=listt[0]['t_end']\n",
    "    S_vec=listt[1]['S_vec'].copy()\n",
    "    t_vec=listt[1]['t_vec'].copy()\n",
    "    seiz_days=np.ceil(t_vec[S_vec!=0])\n",
    "    days=np.arange(1,t_end+1)\n",
    "    num_seiz_at_days_tmp=np.arange(1,t_end+1)\n",
    "    for kk in range(0,len(days)):\n",
    "        num_seiz_at_days_tmp[kk]=np.sum(seiz_days==days[kk])\n",
    "    if ii==0:\n",
    "        num_seiz_at_days=num_seiz_at_days_tmp.copy()\n",
    "    else:\n",
    "        num_seiz_at_days=np.vstack([num_seiz_at_days,num_seiz_at_days_tmp])\n",
    "num_seiz_at_days_simdec=num_seiz_at_days # this for statistical analysis later\n",
    "# Here we gather average number of seizures per mouse per day \n",
    "avg_num_seiz_per_day = [] \n",
    "for ii in range(0,len(days)):\n",
    "    avg_num_seiz_per_day=np.append(avg_num_seiz_per_day,sum(num_seiz_at_days[:,ii]))\n",
    "avg_num_seiz_per_day=avg_num_seiz_per_day/len(num_seiz_at_days[:,0])\n",
    "SeizFr_mean_dec=np.mean(avg_num_seiz_per_day[day_0-1:day_end])\n",
    "SeizFr_sem_dec=np.std(avg_num_seiz_per_day[day_0-1:day_end])/np.sqrt(N)\n",
    "\n",
    "\n",
    "for ii in range(0,N): # Here we gather and extract data about seizures on respective days \n",
    "    listt=np.load(DataPath_3+'/Sim_'+str(ii+1)+'.npy',allow_pickle=True)\n",
    "    t_end=listt[0]['t_end']\n",
    "    S_vec=listt[1]['S_vec'].copy()\n",
    "    t_vec=listt[1]['t_vec'].copy()\n",
    "    seiz_days=np.ceil(t_vec[S_vec!=0])\n",
    "    days=np.arange(1,t_end+1)\n",
    "    num_seiz_at_days_tmp=np.arange(1,t_end+1)\n",
    "    for kk in range(0,len(days)):\n",
    "        num_seiz_at_days_tmp[kk]=np.sum(seiz_days==days[kk])\n",
    "    if ii==0:\n",
    "        num_seiz_at_days=num_seiz_at_days_tmp.copy()\n",
    "    else:\n",
    "        num_seiz_at_days=np.vstack([num_seiz_at_days,num_seiz_at_days_tmp])\n",
    "num_seiz_at_days_simshort=num_seiz_at_days # this for statistical analysis later\n",
    "# Here we gather average number of seizures per mouse per day \n",
    "avg_num_seiz_per_day = [] \n",
    "for ii in range(0,len(days)):\n",
    "    avg_num_seiz_per_day=np.append(avg_num_seiz_per_day,sum(num_seiz_at_days[:,ii]))\n",
    "avg_num_seiz_per_day=avg_num_seiz_per_day/len(num_seiz_at_days[:,0])\n",
    "SeizFr_mean_short=np.mean(avg_num_seiz_per_day[day_0-1:day_end])\n",
    "SeizFr_sem_short=np.std(avg_num_seiz_per_day[day_0-1:day_end])/np.sqrt(N)\n",
    "\n",
    "\n",
    "for ii in range(0,N): # Here we gather and extract data about seizures on respective days \n",
    "    listt=np.load(DataPath_4+'/Sim_'+str(ii+1)+'.npy',allow_pickle=True)\n",
    "    t_end=listt[0]['t_end']\n",
    "    S_vec=listt[1]['S_vec'].copy()\n",
    "    t_vec=listt[1]['t_vec'].copy()\n",
    "    seiz_days=np.ceil(t_vec[S_vec!=0])\n",
    "    days=np.arange(1,t_end+1)\n",
    "    num_seiz_at_days_tmp=np.arange(1,t_end+1)\n",
    "    for kk in range(0,len(days)):\n",
    "        num_seiz_at_days_tmp[kk]=np.sum(seiz_days==days[kk])\n",
    "    if ii==0:\n",
    "        num_seiz_at_days=num_seiz_at_days_tmp.copy()\n",
    "    else:\n",
    "        num_seiz_at_days=np.vstack([num_seiz_at_days,num_seiz_at_days_tmp])\n",
    "num_seiz_at_days_simlong=num_seiz_at_days # this for statistical analysis later\n",
    "# Here we gather average number of seizures per mouse per day \n",
    "avg_num_seiz_per_day = [] \n",
    "for ii in range(0,len(days)):\n",
    "    avg_num_seiz_per_day=np.append(avg_num_seiz_per_day,sum(num_seiz_at_days[:,ii]))\n",
    "avg_num_seiz_per_day=avg_num_seiz_per_day/len(num_seiz_at_days[:,0])\n",
    "SeizFr_mean_long=np.mean(avg_num_seiz_per_day[day_0-1:day_end])\n",
    "SeizFr_sem_long=np.std(avg_num_seiz_per_day[day_0-1:day_end])/np.sqrt(N)"
   ]
  },
  {
   "cell_type": "code",
   "execution_count": 9,
   "metadata": {},
   "outputs": [
    {
     "data": {
      "image/png": "[encoded data removed]",
      "text/plain": [
       "<Figure size 476.221x165.354 with 1 Axes>"
      ]
     },
     "metadata": {
      "needs_background": "light"
     },
     "output_type": "display_data"
    }
   ],
   "source": [
    "data = load_animal_model_data('Weissberg_et_al_2015')\n",
    "\n",
    "fig, ax = plt.subplots()\n",
    "\n",
    "vec=np.array([1,2,3,4,5])\n",
    "plt.bar(vec,np.array([data['Seizure_freq_mean'], SeizFr_mean,SeizFr_mean_dec,SeizFr_mean_short,SeizFr_mean_long]), color='black',\n",
    "       yerr=[data['Seizure_freq_sem'],SeizFr_sem,SeizFr_sem_dec,SeizFr_sem_short,SeizFr_sem_long],\n",
    "       align='center',\n",
    "       alpha=1,\n",
    "       ecolor='black',\n",
    "       capsize=10/3*2,width=0.8/3*2)\n",
    "\n",
    "plt.xticks(np.array(vec), ['(Weissberg \\n et al., 2015),\\n N = 10',\n",
    "                             r\"$B^E$ = 0.25,\"\"\\n\" r\"$T_\\textnormal{off}$ = 7 days\",\n",
    "                             r\"$B^E \\times 50\\%$\",\n",
    "                             r\"$T_\\textnormal{off} \\times 50\\%$\",\n",
    "                             r\"$T_\\textnormal{off} \\times 150\\%$\"], fontsize=7.5)\n",
    "\n",
    "plt.yticks(np.arange(0,3,0.5))\n",
    "\n",
    "plt.ylabel(r\"Seizures occurrence $\\frac{\\textnormal{seizures}}{\\textnormal{day}}$\")\n",
    "\n",
    "ax.spines['right'].set_visible(False)\n",
    "ax.spines['top'].set_visible(False)\n",
    "\n",
    "plt.gcf().subplots_adjust(bottom=margin)\n",
    "plt.gcf().subplots_adjust(left=margin)\n",
    "set_size(3*w,w)\n",
    "fig.savefig('Figures/Fig3/Fig_3b.pdf')"
   ]
  },
  {
   "cell_type": "code",
   "execution_count": 10,
   "metadata": {},
   "outputs": [
    {
     "name": "stdout",
     "output_type": "stream",
     "text": [
      "Statistics DEC=887.000, p=0.000\n",
      "1.0661540128194368e-10\n",
      "Statistics DEC=869.500, p=0.000\n",
      "5.648804323230198e-10\n",
      "Statistics DEC=64.000, p=0.000\n",
      "1.1774292315173832e-08\n"
     ]
    }
   ],
   "source": [
    "## STATISTICS U TEST:\n",
    "from scipy.stats import mannwhitneyu\n",
    "\n",
    "## calculating seiz freq per simulation for 4 different simulation injuries intensitites\n",
    "SeizFr_mean_ProSim=np.mean(num_seiz_at_days_sim[:,day_0-1:day_end],axis=1)\n",
    "SeizFr_mean_ProSim_dec=np.mean(num_seiz_at_days_simdec[:,day_0-1:day_end],axis=1)\n",
    "SeizFr_mean_ProSim_short=np.mean(num_seiz_at_days_simshort[:,day_0-1:day_end],axis=1)\n",
    "SeizFr_mean_ProSim_long=np.mean(num_seiz_at_days_simlong[:,day_0-1:day_end],axis=1)\n",
    "\n",
    "## getting p values\n",
    "stat, p = mannwhitneyu(SeizFr_mean_ProSim,SeizFr_mean_ProSim_dec,alternative='two-sided')\n",
    "print('Statistics DEC=%.3f, p=%.3f' % (stat, p))\n",
    "print(p)\n",
    "stat, p = mannwhitneyu(SeizFr_mean_ProSim,SeizFr_mean_ProSim_short,alternative='two-sided')\n",
    "print('Statistics DEC=%.3f, p=%.3f' % (stat, p))\n",
    "print(p)\n",
    "stat, p = mannwhitneyu(SeizFr_mean_ProSim,SeizFr_mean_ProSim_long,alternative='two-sided')\n",
    "print('Statistics DEC=%.3f, p=%.3f' % (stat, p))\n",
    "print(p)\n",
    "\n",
    "# plt.hist(SeizFr_mean_ProSim,alpha=0.5)\n",
    "# plt.hist(SeizFr_mean_ProSim_dec,alpha=0.5)\n",
    "# plt.hist(SeizFr_mean_ProSim_short,alpha=0.5)\n",
    "# plt.hist(SeizFr_mean_ProSim_long,alpha=0.5)"
   ]
  },
  {
   "cell_type": "markdown",
   "metadata": {},
   "source": [
    "## Figure 3c"
   ]
  },
  {
   "cell_type": "code",
   "execution_count": 11,
   "metadata": {},
   "outputs": [],
   "source": [
    "# Calculation of data from raw simulated data\n",
    "N=30 \n",
    "for ii in range(1,N+1): # Here we gather and extract data about seizures on respective days \n",
    "    listt=np.load(DataPath_1+'/Sim_'+str(ii)+'.npy',allow_pickle=True)\n",
    "    t_end=listt[0]['t_end']\n",
    "    S_vec=listt[1]['S_vec'].copy()\n",
    "    t_vec=listt[1]['t_vec'].copy()\n",
    "    seiz_days=np.ceil(t_vec[S_vec!=0])\n",
    "    days=np.arange(1,t_end+1)\n",
    "    num_seiz_at_days_tmp=np.arange(1,t_end+1)\n",
    "    for kk in range(0,len(days)):\n",
    "        num_seiz_at_days_tmp[kk]=np.sum(seiz_days==days[kk])\n",
    "    if ii==1:\n",
    "        num_seiz_at_days=num_seiz_at_days_tmp.copy()\n",
    "    else:\n",
    "        num_seiz_at_days=np.vstack([num_seiz_at_days,num_seiz_at_days_tmp])\n",
    "        \n",
    "# Here we gather average number of seizures per mouse per day \n",
    "avg_num_seiz_per_day = [] \n",
    "for ii in range(0,len(days)):\n",
    "    avg_num_seiz_per_day=np.append(avg_num_seiz_per_day,sum(num_seiz_at_days[:,ii]))\n",
    "avg_num_seiz_per_day=avg_num_seiz_per_day/len(num_seiz_at_days[:,0])"
   ]
  },
  {
   "cell_type": "code",
   "execution_count": 12,
   "metadata": {},
   "outputs": [
    {
     "data": {
      "image/png": "[encoded data removed]",
      "text/plain": [
       "<Figure size 396.851x248.032 with 2 Axes>"
      ]
     },
     "metadata": {
      "needs_background": "light"
     },
     "output_type": "display_data"
    }
   ],
   "source": [
    "day_0 = 0\n",
    "day_end = 32\n",
    "days_vect= np.linspace(day_0, day_end, day_end-day_0+1, endpoint=True)\n",
    "\n",
    "fig, ax = plt.subplots()\n",
    "\n",
    "im = plt.pcolormesh(days_vect, np.arange(0,N+1),num_seiz_at_days[:,day_0:day_end])\n",
    "cbar=plt.colorbar(im)\n",
    "cbar.set_label(r'$\\frac{\\textnormal{seizures}}{\\textnormal{day}}$', rotation=90)\n",
    "\n",
    "plt.xticks(days_vect[0:-1:7]+0.5,days_vect[0:-1:7].astype(int)+1)\n",
    "plt.yticks(np.arange(0,N+1)+0.5,np.arange(0,N+1)+1)\n",
    "for tick in ax.yaxis.get_major_ticks():\n",
    "    tick.label.set_fontsize(5) \n",
    "    tick.label.set_rotation('horizontal')\n",
    "plt.xlim([day_0, day_end])\n",
    "plt.ylim([0,N])\n",
    "\n",
    "plt.xlabel('days post pump implantation')\n",
    "plt.ylabel(' Animal \\#')\n",
    "plt. title ('Simulation, N=30', fontsize=font['size'])\n",
    "\n",
    "plt.gcf().subplots_adjust(bottom=margin)\n",
    "plt.gcf().subplots_adjust(left=margin)\n",
    "set_size(2.5*w,1.5*w)\n",
    "fig.savefig('Figures/Fig3/Fig_3c.pdf')"
   ]
  },
  {
   "cell_type": "markdown",
   "metadata": {},
   "source": [
    "## Figure 3d"
   ]
  },
  {
   "cell_type": "code",
   "execution_count": 13,
   "metadata": {},
   "outputs": [
    {
     "data": {
      "image/png": "[encoded data removed]",
      "text/plain": [
       "<Figure size 396.851x165.354 with 1 Axes>"
      ]
     },
     "metadata": {
      "needs_background": "light"
     },
     "output_type": "display_data"
    }
   ],
   "source": [
    "N=30\n",
    "day_0=0\n",
    "day_end=90\n",
    "\n",
    "\n",
    "listt=np.load(DataPath_1+'/Sim_'+str(1)+'.npy',allow_pickle=True)\n",
    "rect = patches.Rectangle((0,-1),listt[0]['IBDR_E_duration'][1],2,linewidth=1,edgecolor='none',facecolor='darkorange',alpha=0.2)\n",
    "\n",
    "fig = matplotlib.pyplot.gcf()\n",
    "ax = fig.add_subplot(1, 1, 1) \n",
    "\n",
    "ax.add_patch(rect)\n",
    "plt.plot([day_0, day_end],[listt[0]['Theta'],listt[0]['Theta']],'--',color='tab:red',linewidth = 4.0/size_scaler)\n",
    "\n",
    "for ii in range(0,N):\n",
    "    listt=np.load(DataPath_1+'/Sim_'+str(ii+1)+'.npy',allow_pickle=True)\n",
    "    dt=listt[0]['dt']\n",
    "    t_vec=listt[1]['t_vec'].copy()\n",
    "    I_vec=listt[1]['I_vec'].copy()\n",
    "    plt.plot(t_vec[day_0:int(day_end/dt)],I_vec[day_0:int(day_end/dt)],color='tab:red',alpha=0.1)\n",
    "    \n",
    "plt.ylim([0,0.27])\n",
    "plt.xlim([day_0,day_end])\n",
    "plt.xticks(np.arange(0,day_end+1,20))\n",
    "plt.xlabel('days post pump implantation')\n",
    "plt.ylabel(r'Neuroinflammation intensity $I(t)$')\n",
    "plt. title (r'Simulation, N=30',fontsize=font['size'])\n",
    "\n",
    "ax.spines['right'].set_visible(False)\n",
    "ax.spines['top'].set_visible(False)\n",
    "\n",
    "plt.gcf().subplots_adjust(bottom=margin)\n",
    "plt.gcf().subplots_adjust(left=margin)\n",
    "set_size(2.5*w,1*w) \n",
    "fig.savefig('Figures/Fig3/Fig_3d.pdf')"
   ]
  },
  {
   "cell_type": "markdown",
   "metadata": {},
   "source": [
    "## Figure 3e"
   ]
  },
  {
   "cell_type": "code",
   "execution_count": 14,
   "metadata": {},
   "outputs": [
    {
     "name": "stderr",
     "output_type": "stream",
     "text": [
      "/opt/anaconda3/lib/python3.7/site-packages/ipykernel_launcher.py:37: UserWarning: Creating legend with loc=\"best\" can be slow with large amounts of data.\n",
      "/opt/anaconda3/lib/python3.7/site-packages/IPython/core/events.py:88: UserWarning: Creating legend with loc=\"best\" can be slow with large amounts of data.\n",
      "  func(*args, **kwargs)\n",
      "/opt/anaconda3/lib/python3.7/site-packages/IPython/core/pylabtools.py:128: UserWarning: Creating legend with loc=\"best\" can be slow with large amounts of data.\n",
      "  fig.canvas.print_figure(bytes_io, **kw)\n"
     ]
    },
    {
     "data": {
      "image/png": "[encoded data removed]",
      "text/plain": [
       "<Figure size 317.48x198.425 with 1 Axes>"
      ]
     },
     "metadata": {
      "needs_background": "light"
     },
     "output_type": "display_data"
    }
   ],
   "source": [
    "N=4\n",
    "labels=[r'$T_\\textnormal{off}$ = 7 days',r'$T_\\textnormal{off} \\times 150\\%$',r'$T_\\textnormal{off} \\times 50\\%$',r'$T_\\textnormal{off} \\times 25\\%$']\n",
    "t_dvis=365 # scalar for time to be in [years]\n",
    "lambda_max=np.load(DataPath_1+'/Sim_1.npy',allow_pickle=True)[0]['lambda_max']\n",
    "color_index=np.array([3,4,1,0])\n",
    "\n",
    "fig1 = plt.figure()\n",
    "ax = fig1.add_subplot(1, 1, 1)   \n",
    "\n",
    "for ii in range(0,N):\n",
    "    listt=np.load(DataPath_rate+'/Sim_'+str(ii+1)+'.npy',allow_pickle=True)\n",
    "    listt[0]['lambda_max']=lambda_max\n",
    "    dt=listt[0]['dt']\n",
    "    t_vec=listt[1]['t_vec'].copy()\n",
    "    I_vec=listt[1]['I_vec'].copy()\n",
    "    R_vec=listt[1]['R_vec'].copy()\n",
    "    plt.plot(t_vec/t_dvis, SeizureRate(I_vec,R_vec, listt[0]), color=color_scheme_5examples[color_index[ii]], alpha=alpha_value,linewidth=3/size_scaler,label=labels[ii])\n",
    "\n",
    "\n",
    "plt.ylim([0,15])\n",
    "plt.xlim([0,4])\n",
    "plt.yticks([0,5,10,15])\n",
    "plt.xticks(np.arange(0,5,1))\n",
    "\n",
    "plt.xlabel('years post pump implantation')\n",
    "plt.ylabel(r'Seizure rate, $\\frac{\\textnormal{seizures}}{\\textnormal{day}}$')\n",
    "ax.legend(bbox_to_anchor=(1,0.75),fontsize=6)\n",
    "\n",
    "\n",
    "ax.spines['right'].set_visible(False)\n",
    "ax.spines['top'].set_visible(False)\n",
    "\n",
    "plt.gcf().subplots_adjust(bottom=margin)\n",
    "plt.gcf().subplots_adjust(left=margin)\n",
    "plt.gcf().subplots_adjust(top=1-margin/2)\n",
    "set_size(2*w,w)\n",
    "fig1.savefig('Figures/Fig3/Fig_3e.pdf') "
   ]
  },
  {
   "cell_type": "markdown",
   "metadata": {},
   "source": [
    "## Figure 3f"
   ]
  },
  {
   "cell_type": "code",
   "execution_count": 15,
   "metadata": {},
   "outputs": [
    {
     "data": {
      "image/png": "[encoded data removed]",
      "text/plain": [
       "<Figure size 158.74x165.354 with 1 Axes>"
      ]
     },
     "metadata": {
      "needs_background": "light"
     },
     "output_type": "display_data"
    }
   ],
   "source": [
    "N=4\n",
    "color_index=np.array([3,4,1,0])\n",
    "\n",
    "params=load_default_parameters('rate')\n",
    "locals().update(params)\n",
    "IC_SET = [-0.5,0,0.1,0.2,0.5, 0.7, 2] # set of initial condintions for steady state coordinates search\n",
    "D_const=0\n",
    "\n",
    "B_max = 1.1\n",
    "R_max = 1.1\n",
    "B_min = -0.1\n",
    "R_min = -0.1\n",
    "    \n",
    "R,B = np.mgrid[R_min:R_max:5000j, B_min:B_max:5000j]\n",
    "   \n",
    "FP=[];\n",
    "f = K_SB*(np.exp(k_IS*np.square(k_BI*B)+k_RS*R)-1)/(np.exp(k_IS*np.square(k_BI*B)+k_RS*R)+1)\n",
    "U = 1./tau_B*(-B+k_IB*k_BI*B+f)\n",
    "V = 1./tau_R*(-R+k_BR*B+k_DR*D_const) \n",
    "#     velocity = np.sqrt(U*U + V*V)                \n",
    "FP=fixedpointsfinder(fun_dbdt,-0.1,1,100000) # Here we will check for steady states on given interval with given discritization step\n",
    "    \n",
    "pylab.ion()\n",
    "fig0= plt.figure()\n",
    "ax0 = fig0.add_subplot(1, 1, 1)\n",
    "strm = ax0.streamplot(B, R, U, V, linewidth=1/marker_sizer, color=[0.75,0.75,0.75], density=[0.5,1.5])\n",
    "\n",
    "for cc in range(len(FP)):\n",
    "    if FP[cc][0]>=Theta:\n",
    "        if D_const == D_m:\n",
    "            col='black' # globally stable since here dD_dt = 0 , despite B>=Theta\n",
    "        else:\n",
    "            col='grey' # stable only with D holded at const\n",
    "    else:\n",
    "        col='black' # globally stabe since dD_dt = 0 due to B<Theta\n",
    "\n",
    "    mrksize = 10\n",
    "    if FP[cc][1]=='Unstable':\n",
    "        plt.plot(FP[cc][0],FP[cc][0]+k_DR*D_const, 'o',color=col, markersize=mrksize/marker_sizer)\n",
    "        plt.plot(FP[cc][0],FP[cc][0]+k_DR*D_const,'o',color='white', markersize=mrksize/marker_sizer-3/marker_sizer)\n",
    "    if FP[cc][1]=='Semistable':\n",
    "        plt.plot(FP[cc][0],FP[cc][0]+k_DR*D_const, 'o',color=col, markersize=mrksize/marker_sizer)\n",
    "        plt.plot(FP[cc][0],FP[cc][0]+k_DR*D_const,'o',color='white', markersize=mrksize/marker_sizer-3/marker_sizer)\n",
    "        plt.plot(FP[cc][0],FP[cc][0]+k_DR*D_const,'x',color=col, markersize=mrksize/marker_sizer-3/marker_sizer)\n",
    "    if FP[cc][1]=='Stable':\n",
    "        plt.plot(FP[cc][0],FP[cc][0]+k_DR*D_const, 'o',color=col, markersize=mrksize/marker_sizer)\n",
    "\n",
    "for ii in [2,0,1,3]:\n",
    "    listt=np.load(DataPath_rate+'/Sim_'+str(ii+1)+'.npy',allow_pickle=True)\n",
    "    dt=listt[0]['dt']\n",
    "    B_vec=listt[1]['B_vec'].copy()\n",
    "    R_vec=listt[1]['R_vec'].copy()\n",
    "    plt.plot(B_vec, R_vec, color=color_scheme_5examples[color_index[ii]], alpha=alpha_value+0.2,linewidth=4/size_scaler)        \n",
    "        \n",
    "        \n",
    "threshold_position = Theta/k_BI\n",
    "plt.plot([threshold_position, threshold_position],[R_min,R_max],'--',color='tab:red',linewidth = 3.0/marker_sizer)\n",
    "\n",
    "plt.xlabel(\"Extent of blood-brain \\n\" \n",
    "           r\"barrier disruption $B \\approx I$\")\n",
    "plt.ylabel(\"Degree of circuit \\n\"\n",
    "           r\"remodeling $R$\")\n",
    "plt.title('$D$='+str(D_const),fontsize=font['size'])\n",
    "\n",
    "ax0.set_xlim([B_min,B_max])\n",
    "ax0.set_ylim([R_min,R_max])\n",
    "\n",
    "plt.gcf().subplots_adjust(bottom=margin)\n",
    "plt.gcf().subplots_adjust(left=margin)\n",
    "set_size(1.0*w,1.0*w)\n",
    "fig0.savefig('Figures/Fig3/Fig_3f1.pdf')  "
   ]
  },
  {
   "cell_type": "code",
   "execution_count": 16,
   "metadata": {},
   "outputs": [
    {
     "data": {
      "image/png": "[encoded data removed]",
      "text/plain": [
       "<Figure size 158.74x165.354 with 1 Axes>"
      ]
     },
     "metadata": {
      "needs_background": "light"
     },
     "output_type": "display_data"
    }
   ],
   "source": [
    "N=4\n",
    "color_index=np.array([3,4,1,0])\n",
    "\n",
    "params=load_default_parameters('rate')\n",
    "locals().update(params)\n",
    "IC_SET = [-0.5,0,0.1,0.2,0.5, 0.7, 2] # set of initial condintions for steady state coordinates search\n",
    "D_const=0\n",
    "\n",
    "B_max = 0.21\n",
    "R_max = 0.21\n",
    "B_min = -0.01\n",
    "R_min = -0.01\n",
    "dt_vis=30\n",
    "    \n",
    "R,B = np.mgrid[R_min:R_max:5000j, B_min:B_max:5000j]\n",
    "   \n",
    "FP=[];\n",
    "f = K_SB*(np.exp(k_IS*np.square(k_BI*B)+k_RS*R)-1)/(np.exp(k_IS*np.square(k_BI*B)+k_RS*R)+1)\n",
    "U = 1./tau_B*(-B+k_IB*k_BI*B+f)\n",
    "V = 1./tau_R*(-R+k_BR*B+k_DR*D_const) \n",
    "#     velocity = np.sqrt(U*U + V*V)                \n",
    "FP=fixedpointsfinder(fun_dbdt,-0.1,1,100000) # Here we will check for steady states on given interval with given discritization step\n",
    "    \n",
    "pylab.ion()\n",
    "fig0= plt.figure()\n",
    "ax0 = fig0.add_subplot(1, 1, 1)\n",
    "strm = ax0.streamplot(B, R, U, V, linewidth=1/marker_sizer, color=[0.75,0.75,0.75], density=[0.5,1.5])\n",
    "\n",
    "for cc in range(len(FP)):\n",
    "    if FP[cc][0]>=Theta:\n",
    "        if D_const == D_m:\n",
    "            col='black' # globally stable since here dD_dt = 0 , despite B>=Theta\n",
    "        else:\n",
    "            col='grey' # stable only with D holded at const\n",
    "    else:\n",
    "        col='black' # globally stabe since dD_dt = 0 due to B<Theta\n",
    "\n",
    "    mrksize = 10\n",
    "    if FP[cc][1]=='Unstable':\n",
    "        plt.plot(FP[cc][0],FP[cc][0]+k_DR*D_const, 'o',color=col, markersize=mrksize/marker_sizer)\n",
    "        plt.plot(FP[cc][0],FP[cc][0]+k_DR*D_const,'o',color='white', markersize=mrksize/marker_sizer-3/marker_sizer)\n",
    "    if FP[cc][1]=='Semistable':\n",
    "        plt.plot(FP[cc][0],FP[cc][0]+k_DR*D_const, 'o',color=col, markersize=mrksize/marker_sizer)\n",
    "        plt.plot(FP[cc][0],FP[cc][0]+k_DR*D_const,'o',color='white', markersize=mrksize/marker_sizer-3/marker_sizer)\n",
    "        plt.plot(FP[cc][0],FP[cc][0]+k_DR*D_const,'x',color=col, markersize=mrksize/marker_sizer-3/marker_sizer)\n",
    "    if FP[cc][1]=='Stable':\n",
    "        plt.plot(FP[cc][0],FP[cc][0]+k_DR*D_const, 'o',color=col, markersize=mrksize/marker_sizer)\n",
    "\n",
    "# for ii in range(0,N):\n",
    "for ii in [2,0,1,3]:\n",
    "    listt=np.load(DataPath_rate+'/Sim_'+str(ii+1)+'.npy',allow_pickle=True)\n",
    "    dt=listt[0]['dt']\n",
    "    t_vec=listt[1]['t_vec'].copy()\n",
    "    B_vec=listt[1]['B_vec'].copy()\n",
    "    R_vec=listt[1]['R_vec'].copy()\n",
    "    plt.plot(B_vec, R_vec, color=color_scheme_5examples[color_index[ii]], alpha=alpha_value+0.2,linewidth=4/size_scaler)        \n",
    "    for kk in range(1,int(np.floor(t_vec[-1]/dt_vis+1))):\n",
    "        plt.plot(B_vec[kk*int(dt_vis/dt)],R_vec[kk*int(dt_vis/dt)],'.',markersize=3, color=color_scheme_5examples[color_index[ii]], alpha=1, linewidth=4/size_scaler)  \n",
    "        \n",
    "threshold_position = Theta/k_BI\n",
    "plt.plot([threshold_position, threshold_position],[R_min,R_max],'--',color='tab:red',linewidth = 3.0/marker_sizer)\n",
    "\n",
    "# plt.xlabel(\"Extent of blood-brain \\n\" \n",
    "#            r\"barrier disruption $B \\approx I$\")\n",
    "# plt.ylabel(\"Degree of circuit \\n\"\n",
    "#            r\"remodeling $R$\")\n",
    "# plt.title('$D$='+str(D_const),fontsize=font['size'])\n",
    "\n",
    "ax0.set_xlim([B_min,B_max])\n",
    "ax0.set_ylim([R_min,R_max])\n",
    "\n",
    "plt.gcf().subplots_adjust(bottom=margin)\n",
    "plt.gcf().subplots_adjust(left=margin)\n",
    "set_size(1.0*w,1.0*w)\n",
    "fig0.savefig('Figures/Fig3/Fig_3f2.pdf')  "
   ]
  }
 ],
 "metadata": {
  "kernelspec": {
   "display_name": "Python 3",
   "language": "python",
   "name": "python3"
  },
  "language_info": {
   "codemirror_mode": {
    "name": "ipython",
    "version": 3
   },
   "file_extension": ".py",
   "mimetype": "text/x-python",
   "name": "python",
   "nbconvert_exporter": "python",
   "pygments_lexer": "ipython3",
   "version": "3.7.4"
  }
 },
 "nbformat": 4,
 "nbformat_minor": 2
}
