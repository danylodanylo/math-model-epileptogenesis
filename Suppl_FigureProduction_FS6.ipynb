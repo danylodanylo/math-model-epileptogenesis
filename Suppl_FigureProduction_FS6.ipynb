{
 "cells": [
  {
   "cell_type": "code",
   "execution_count": 1,
   "metadata": {},
   "outputs": [
    {
     "name": "stdout",
     "output_type": "stream",
     "text": [
      "Once deleted, variables cannot be recovered. Proceed (y/[n])? y\n"
     ]
    }
   ],
   "source": [
    "%reset \n",
    "import numpy as np\n",
    "import matplotlib\n",
    "import matplotlib.pyplot as plt\n",
    "from tqdm import tqdm\n",
    "import os\n",
    "from matplotlib import cm\n",
    "import matplotlib.patches as patches\n",
    "import pylab\n",
    "from scipy.optimize import fsolve\n",
    "\n",
    "%run ./DataGenerationScripts/load_default_parameters.ipynb # loading model parameters\n",
    "%run ./DataGenerationScripts/set_size.ipynb # loading function for pdf output sizer\n",
    "%run ./DataGenerationScripts/aux_state_space.ipynb # loading auxiliarry functions for state space vizualization\n",
    "%run ./DataGenerationScripts/load_animal_model_data.ipynb # loading function for pdf output sizer\n",
    "%run ./DataGenerationScripts/dIBDRdt_functions.ipynb # loading time derivative functions"
   ]
  },
  {
   "cell_type": "code",
   "execution_count": 2,
   "metadata": {},
   "outputs": [],
   "source": [
    "font = {'size'   : 8}\n",
    "# plt.rc('font', family='sans-serif') \n",
    "# plt.rc('font', serif='Helvetica Neue')\n",
    "plt.rc('font',**{'family':'sans-serif','serif':['Helvetica Neue']})\n",
    "plt.rc('font', **font)\n",
    "plt.rc('text', usetex=True)\n",
    "\n",
    "viridis = cm.get_cmap('viridis', 12)\n",
    "color_scheme_5examples = [viridis(0.0)[0:3],viridis(0.3)[0:3],viridis(0.55)[0:3],viridis(0.75)[0:3],viridis(0.95)[0:3]]\n",
    "alpha_value=0.45\n",
    "marker_sizer=2.5\n",
    "dt_vis=30\n",
    "\n",
    "\n",
    "h=2.8*0.393701 #[cm] to  modification [inch] Height of output figure\n",
    "w=2.8*0.393701 #[cm] to  modification [inch] Width of output figure\n",
    "margin=0.4 # [1] margin ratio of output figure layout\n",
    "size_scaler=2.5"
   ]
  },
  {
   "cell_type": "code",
   "execution_count": 3,
   "metadata": {},
   "outputs": [],
   "source": [
    "D_vis_vect=[0]"
   ]
  },
  {
   "cell_type": "code",
   "execution_count": 4,
   "metadata": {},
   "outputs": [
    {
     "data": {
      "image/png": "[encoded data removed]",
      "text/plain": [
       "<Figure size 158.74x165.354 with 1 Axes>"
      ]
     },
     "metadata": {
      "needs_background": "light"
     },
     "output_type": "display_data"
    }
   ],
   "source": [
    "params=load_default_parameters('rate')\n",
    "\n",
    "params['k_IB']=0.3\n",
    "\n",
    "locals().update(params)\n",
    "\n",
    "B_max = 2\n",
    "R_max = 2\n",
    "B_min = -1\n",
    "R_min = -1\n",
    "\n",
    "for ii in range(0,len(D_vis_vect)):\n",
    "    \n",
    "    D_const=D_vis_vect[ii]\n",
    "\n",
    "\n",
    "    R,B = np.mgrid[R_min:R_max:5000j, B_min:B_max:5000j]\n",
    "\n",
    "    FP=[];\n",
    "    f = K_SB*(np.exp(k_IS*np.square(k_BI*B)+k_RS*R)-1)/(np.exp(k_IS*np.square(k_BI*B)+k_RS*R)+1)\n",
    "    U = 1./tau_B*(-B+k_IB*k_BI*B+f)\n",
    "    V = 1./tau_R*(-R+k_BR*B+k_DR*D_const) \n",
    "\n",
    "#     velocity = np.sqrt(U*U + V*V)                \n",
    "    FP=fixedpointsfinder(fun_dbdt,B_min,B_max,100000) # Here we will check for steady states on given interval with given discritization step\n",
    "\n",
    "    \n",
    "    pylab.ion()\n",
    "    fig0= plt.figure()\n",
    "    ax0 = fig0.add_subplot(1, 1, 1)\n",
    "    strm = ax0.streamplot(B, R, U, V, linewidth=1/marker_sizer, color=[0.75,0.75,0.75], density=[0.5,1.5])\n",
    "\n",
    "    for cc in range(len(FP)):\n",
    "        if FP[cc][0]>=Theta:\n",
    "            col='grey'\n",
    "        else:\n",
    "            col='black' \n",
    "\n",
    "        mrksize = 10\n",
    "        if FP[cc][1]=='Unstable':\n",
    "            plt.plot(FP[cc][0],FP[cc][0]+k_DR*D_const, 'o',color=col, markersize=mrksize/marker_sizer)\n",
    "            plt.plot(FP[cc][0],FP[cc][0]+k_DR*D_const,'o',color='white', markersize=mrksize/marker_sizer-3/marker_sizer)\n",
    "        if FP[cc][1]=='Semistable':\n",
    "            plt.plot(FP[cc][0],FP[cc][0]+k_DR*D_const, 'o',color=col, markersize=mrksize/marker_sizer)\n",
    "            plt.plot(FP[cc][0],FP[cc][0]+k_DR*D_const,'o',color='white', markersize=mrksize/marker_sizer-3/marker_sizer)\n",
    "            plt.plot(FP[cc][0],FP[cc][0]+k_DR*D_const,'x',color=col, markersize=mrksize/marker_sizer-3/marker_sizer)\n",
    "        if FP[cc][1]=='Stable':\n",
    "            plt.plot(FP[cc][0],FP[cc][0]+k_DR*D_const, 'o',color=col, markersize=mrksize/marker_sizer)\n",
    "    \n",
    "    ax0.contour(B,R,U,levels=[0.],colors='gray',linewidths=1.0)\n",
    "    ax0.contour(B,R,V,levels=[0.],colors='gray',linewidths=1.0)\n",
    "    \n",
    "    threshold_position = Theta/k_BI\n",
    "    plt.plot([threshold_position, threshold_position],[R_min,R_max],'--',color='tab:red',linewidth = 3.0/marker_sizer)\n",
    "    \n",
    "\n",
    "    plt.xlabel(\"Extent of blood-brain \\n\" \n",
    "               r\"barrier disruption $B \\approx I$\")\n",
    "    plt.ylabel(\"Degree of circuit \\n\"\n",
    "               r\"remodeling $R$\")\n",
    "    plt.title('$D$='+str(np.round(D_const*100)/100),fontsize=font['size'])\n",
    "\n",
    "params['k_IB']=0.1 # resetting original value\n",
    "    \n",
    "locals().update(params)\n",
    "\n",
    "for ii in range(0,len(D_vis_vect)):\n",
    "    \n",
    "    D_const=D_vis_vect[ii]\n",
    "\n",
    "    f = K_SB*(np.exp(k_IS*np.square(k_BI*B)+k_RS*R)-1)/(np.exp(k_IS*np.square(k_BI*B)+k_RS*R)+1)\n",
    "    U = 1./tau_B*(-B+k_IB*k_BI*B+f)\n",
    "    V = 1./tau_R*(-R+k_BR*B+k_DR*D_const) \n",
    "\n",
    "    strm = ax0.streamplot(B, R, U, V, linewidth=1/marker_sizer, color=[0.75,0.75,0.75], density=[0.,0.])\n",
    "    \n",
    "    ax0.contour(B,R,U,levels=[0.],colors='black',linewidths=1.0,linestyles='dashed')\n",
    "    ax0.contour(B,R,V,levels=[0.],colors='black',linewidths=1.0,linestyles='dashed')\n",
    "\n",
    "ax0.set_xlim([B_min,B_max])\n",
    "ax0.set_ylim([R_min,R_max])\n",
    "\n",
    "plt.gcf().subplots_adjust(bottom=margin)\n",
    "plt.gcf().subplots_adjust(left=margin)\n",
    "set_size(1.0*w,1.0*w)\n",
    "fig0.savefig('./Figures/Supplementary/Fig_S6A.pdf')      "
   ]
  },
  {
   "cell_type": "code",
   "execution_count": 5,
   "metadata": {},
   "outputs": [],
   "source": [
    "FP_kIBalt=FP"
   ]
  },
  {
   "cell_type": "code",
   "execution_count": 6,
   "metadata": {},
   "outputs": [
    {
     "data": {
      "image/png": "[encoded data removed]",
      "text/plain": [
       "<Figure size 158.74x165.354 with 1 Axes>"
      ]
     },
     "metadata": {
      "needs_background": "light"
     },
     "output_type": "display_data"
    }
   ],
   "source": [
    "params=load_default_parameters('rate')\n",
    "\n",
    "params['k_IB']=0.3\n",
    "params['K_SB']=0.68\n",
    "\n",
    "locals().update(params)\n",
    "\n",
    "B_max = 2\n",
    "R_max = 2\n",
    "B_min = -1\n",
    "R_min = -1\n",
    "\n",
    "for ii in range(0,len(D_vis_vect)):\n",
    "    \n",
    "    D_const=D_vis_vect[ii]\n",
    "\n",
    "\n",
    "    R,B = np.mgrid[R_min:R_max:5000j, B_min:B_max:5000j]\n",
    "\n",
    "    FP=[];\n",
    "    f = K_SB*(np.exp(k_IS*np.square(k_BI*B)+k_RS*R)-1)/(np.exp(k_IS*np.square(k_BI*B)+k_RS*R)+1)\n",
    "    U = 1./tau_B*(-B+k_IB*k_BI*B+f)\n",
    "    V = 1./tau_R*(-R+k_BR*B+k_DR*D_const) \n",
    "\n",
    "#     velocity = np.sqrt(U*U + V*V)                \n",
    "    FP=fixedpointsfinder(fun_dbdt,B_min,B_max,100000) # Here we will check for steady states on given interval with given discritization step\n",
    "\n",
    "    \n",
    "    pylab.ion()\n",
    "    fig0= plt.figure()\n",
    "    ax0 = fig0.add_subplot(1, 1, 1)\n",
    "    strm = ax0.streamplot(B, R, U, V, linewidth=1/marker_sizer, color=[0.75,0.75,0.75], density=[0.5,1.5])\n",
    "\n",
    "    for cc in range(len(FP)):\n",
    "        if FP[cc][0]>=Theta:\n",
    "            col='grey'\n",
    "        else:\n",
    "            col='black' \n",
    "\n",
    "        mrksize = 10\n",
    "        if FP[cc][1]=='Unstable':\n",
    "            plt.plot(FP[cc][0],FP[cc][0]+k_DR*D_const, 'o',color=col, markersize=mrksize/marker_sizer)\n",
    "            plt.plot(FP[cc][0],FP[cc][0]+k_DR*D_const,'o',color='white', markersize=mrksize/marker_sizer-3/marker_sizer)\n",
    "        if FP[cc][1]=='Semistable':\n",
    "            plt.plot(FP[cc][0],FP[cc][0]+k_DR*D_const, 'o',color=col, markersize=mrksize/marker_sizer)\n",
    "            plt.plot(FP[cc][0],FP[cc][0]+k_DR*D_const,'o',color='white', markersize=mrksize/marker_sizer-3/marker_sizer)\n",
    "            plt.plot(FP[cc][0],FP[cc][0]+k_DR*D_const,'x',color=col, markersize=mrksize/marker_sizer-3/marker_sizer)\n",
    "        if FP[cc][1]=='Stable':\n",
    "            plt.plot(FP[cc][0],FP[cc][0]+k_DR*D_const, 'o',color=col, markersize=mrksize/marker_sizer)\n",
    "    \n",
    "    ax0.contour(B,R,U,levels=[0.],colors='gray',linewidths=1.0)\n",
    "    ax0.contour(B,R,V,levels=[0.],colors='gray',linewidths=1.0)\n",
    "    \n",
    "    threshold_position = Theta/k_BI\n",
    "    plt.plot([threshold_position, threshold_position],[R_min,R_max],'--',color='tab:red',linewidth = 3.0/marker_sizer)\n",
    "    \n",
    "\n",
    "    plt.xlabel(\"Extent of blood-brain \\n\" \n",
    "               r\"barrier disruption $B \\approx I$\")\n",
    "    plt.ylabel(\"Degree of circuit \\n\"\n",
    "               r\"remodeling $R$\")\n",
    "    plt.title('$D$='+str(np.round(D_const*100)/100),fontsize=font['size'])\n",
    "\n",
    "params['k_IB']=0.1 # resetting original values\n",
    "params['K_SB']=0.875 # resetting original values\n",
    "    \n",
    "locals().update(params)\n",
    "\n",
    "for ii in range(0,len(D_vis_vect)):\n",
    "    \n",
    "    D_const=D_vis_vect[ii]\n",
    "\n",
    "    f = K_SB*(np.exp(k_IS*np.square(k_BI*B)+k_RS*R)-1)/(np.exp(k_IS*np.square(k_BI*B)+k_RS*R)+1)\n",
    "    U = 1./tau_B*(-B+k_IB*k_BI*B+f)\n",
    "    V = 1./tau_R*(-R+k_BR*B+k_DR*D_const) \n",
    "\n",
    "    strm = ax0.streamplot(B, R, U, V, linewidth=1/marker_sizer, color=[0.75,0.75,0.75], density=[0.,0.])\n",
    "    \n",
    "    ax0.contour(B,R,U,levels=[0.],colors='black',linewidths=1.0,linestyles='dashed')\n",
    "    ax0.contour(B,R,V,levels=[0.],colors='black',linewidths=1.0,linestyles='dashed')\n",
    "\n",
    "ax0.set_xlim([B_min,B_max])\n",
    "ax0.set_ylim([R_min,R_max])\n",
    "\n",
    "plt.gcf().subplots_adjust(bottom=margin)\n",
    "plt.gcf().subplots_adjust(left=margin)\n",
    "set_size(1.0*w,1.0*w)\n",
    "fig0.savefig('./Figures/Supplementary/Fig_S6B.pdf')      "
   ]
  },
  {
   "cell_type": "code",
   "execution_count": 7,
   "metadata": {},
   "outputs": [],
   "source": [
    "FP_kIBalt_KsbAdjust=FP"
   ]
  },
  {
   "cell_type": "code",
   "execution_count": 8,
   "metadata": {},
   "outputs": [],
   "source": [
    "params=load_default_parameters('rate')\n",
    "\n",
    "locals().update(params)\n",
    "\n",
    "B_max = 2\n",
    "R_max = 2\n",
    "B_min = -1\n",
    "R_min = -1\n",
    "\n",
    "for ii in range(0,len(D_vis_vect)):\n",
    "    \n",
    "    D_const=D_vis_vect[ii]\n",
    "\n",
    "\n",
    "    R,B = np.mgrid[R_min:R_max:5000j, B_min:B_max:5000j]\n",
    "\n",
    "    FP=[];\n",
    "    f = K_SB*(np.exp(k_IS*np.square(k_BI*B)+k_RS*R)-1)/(np.exp(k_IS*np.square(k_BI*B)+k_RS*R)+1)\n",
    "    U = 1./tau_B*(-B+k_IB*k_BI*B+f)\n",
    "    V = 1./tau_R*(-R+k_BR*B+k_DR*D_const) \n",
    "               \n",
    "    FP=fixedpointsfinder(fun_dbdt,B_min,B_max,100000) # Here we will check for steady states on given interval with given discritization step      "
   ]
  },
  {
   "cell_type": "code",
   "execution_count": 9,
   "metadata": {},
   "outputs": [],
   "source": [
    "FP_orig=FP"
   ]
  },
  {
   "cell_type": "code",
   "execution_count": 10,
   "metadata": {},
   "outputs": [
    {
     "data": {
      "text/plain": [
       "[2.0000000000131024e-05, 0.028850000000000042, 0.91571]"
      ]
     },
     "execution_count": 10,
     "metadata": {},
     "output_type": "execute_result"
    }
   ],
   "source": [
    "FP_B_orig=[FP_orig[0][0],FP_orig[1][0],FP_orig[2][0]]\n",
    "FP_B_orig"
   ]
  },
  {
   "cell_type": "code",
   "execution_count": 11,
   "metadata": {},
   "outputs": [
    {
     "data": {
      "text/plain": [
       "[-0.19350999999999996, -9.99999999995449e-06, 1.2404000000000002]"
      ]
     },
     "execution_count": 11,
     "metadata": {},
     "output_type": "execute_result"
    }
   ],
   "source": [
    "FP_B_alt=[FP_kIBalt[0][0],FP_kIBalt[1][0],FP_kIBalt[2][0]]\n",
    "FP_B_alt"
   ]
  },
  {
   "cell_type": "code",
   "execution_count": 12,
   "metadata": {},
   "outputs": [
    {
     "data": {
      "text/plain": [
       "[2.0000000000131024e-05, 0.02971999999999997, 0.9146000000000001]"
      ]
     },
     "execution_count": 12,
     "metadata": {},
     "output_type": "execute_result"
    }
   ],
   "source": [
    "FP_B_adj=[FP_kIBalt_KsbAdjust[0][0],FP_kIBalt_KsbAdjust[1][0],FP_kIBalt_KsbAdjust[2][0]]\n",
    "FP_B_adj"
   ]
  },
  {
   "cell_type": "code",
   "execution_count": 13,
   "metadata": {},
   "outputs": [
    {
     "data": {
      "text/plain": [
       "[[2.0000000000131024e-05, 0.028850000000000042, 0.91571],\n",
       " [-0.19350999999999996, -9.99999999995449e-06, 1.2404000000000002],\n",
       " [2.0000000000131024e-05, 0.02971999999999997, 0.9146000000000001]]"
      ]
     },
     "execution_count": 13,
     "metadata": {},
     "output_type": "execute_result"
    }
   ],
   "source": [
    "FP_B_array=[[FP_orig[0][0],FP_orig[1][0],FP_orig[2][0]],[FP_kIBalt[0][0],FP_kIBalt[1][0],FP_kIBalt[2][0]],[FP_kIBalt_KsbAdjust[0][0],FP_kIBalt_KsbAdjust[1][0],FP_kIBalt_KsbAdjust[2][0]]]\n",
    "FP_B_array"
   ]
  },
  {
   "cell_type": "code",
   "execution_count": 14,
   "metadata": {},
   "outputs": [
    {
     "data": {
      "image/png": "[encoded data removed]",
      "text/plain": [
       "<Figure size 396.851x165.354 with 1 Axes>"
      ]
     },
     "metadata": {
      "needs_background": "light"
     },
     "output_type": "display_data"
    }
   ],
   "source": [
    "mrksize = 10\n",
    "\n",
    "fig = matplotlib.pyplot.gcf()\n",
    "ax = fig.add_subplot(1, 1, 1)\n",
    "\n",
    "plt.plot([0,0],[0.5,3.5],'-',color='green')\n",
    "\n",
    "for ii in range(3):\n",
    "    plt.plot(FP_B_array[ii][0],3-ii, 'o',color='black', markersize=mrksize/marker_sizer)\n",
    "    \n",
    "    plt.plot(FP_B_array[ii][1],3-ii, 'o',color='black', markersize=mrksize/marker_sizer)\n",
    "    plt.plot(FP_B_array[ii][1],3-ii, 'o',color='white', markersize=mrksize/marker_sizer*0.66)\n",
    "    \n",
    "    plt.plot(FP_B_array[ii][2],3-ii, 'o',color='black', markersize=mrksize/marker_sizer)\n",
    "    \n",
    "\n",
    "plt.ylim([0.5,3.5])\n",
    "plt.xlim([-0.3,1.35])  \n",
    "\n",
    "plt.xticks([-0.2,0,0.2,0.4,0.6,0.8,1,1.2]) \n",
    "plt.yticks([1,2,3],['','',''])  \n",
    "\n",
    "plt.xlabel(r'Extent of BBB disruption, $B^*$')\n",
    "\n",
    "plt.gcf().subplots_adjust(bottom=margin)\n",
    "plt.gcf().subplots_adjust(left=margin)\n",
    "set_size(2.5*w,1.0*w)\n",
    "fig.savefig('./Figures/Supplementary/Fig_S6C.pdf') "
   ]
  },
  {
   "cell_type": "code",
   "execution_count": null,
   "metadata": {},
   "outputs": [],
   "source": []
  }
 ],
 "metadata": {
  "kernelspec": {
   "display_name": "Python 3",
   "language": "python",
   "name": "python3"
  },
  "language_info": {
   "codemirror_mode": {
    "name": "ipython",
    "version": 3
   },
   "file_extension": ".py",
   "mimetype": "text/x-python",
   "name": "python",
   "nbconvert_exporter": "python",
   "pygments_lexer": "ipython3",
   "version": "3.7.4"
  }
 },
 "nbformat": 4,
 "nbformat_minor": 2
}
