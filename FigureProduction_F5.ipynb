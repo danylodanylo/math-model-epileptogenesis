{
 "cells": [
  {
   "cell_type": "code",
   "execution_count": 1,
   "metadata": {},
   "outputs": [
    {
     "name": "stdout",
     "output_type": "stream",
     "text": [
      "Once deleted, variables cannot be recovered. Proceed (y/[n])? y\n"
     ]
    }
   ],
   "source": [
    "%reset \n",
    "import numpy as np\n",
    "import matplotlib\n",
    "import matplotlib.pyplot as plt\n",
    "from tqdm import tqdm\n",
    "import os\n",
    "from matplotlib import cm\n",
    "import matplotlib.patches as patches\n",
    "\n",
    "DataPath='./Data/Data_F45_Stoch_TMEVm'\n",
    "\n",
    "\n",
    "%run ./DataGenerationScripts/load_default_parameters.ipynb # loading model parameters\n",
    "%run ./DataGenerationScripts/set_size.ipynb # loading function for pdf output sizer\n",
    "%run ./DataGenerationScripts/load_animal_model_data.ipynb # loading function for pdf output sizer"
   ]
  },
  {
   "cell_type": "code",
   "execution_count": 2,
   "metadata": {},
   "outputs": [],
   "source": [
    "##### This cell checks whether data exists. If not, it is being generated #####\n",
    "if not os.path.isdir(DataPath):\n",
    "    os.makedirs(DataPath)\n",
    "if not os.path.isfile(DataPath+'/Sim_1.npy'):\n",
    "    print('Data not found. Running Data Generation script')\n",
    "    RunningFromFigureScript=True\n",
    "    %run ./DataGenerationScripts/DataGeneration_F45_Stoch_TMEVm.ipynb"
   ]
  },
  {
   "cell_type": "code",
   "execution_count": 3,
   "metadata": {},
   "outputs": [],
   "source": [
    " Num_sims=[14,19,20] # numbers of show-case simulations"
   ]
  },
  {
   "cell_type": "code",
   "execution_count": 4,
   "metadata": {},
   "outputs": [],
   "source": [
    "font = {'size'   : 8}\n",
    "# plt.rc('font', family='sans-serif') \n",
    "# plt.rc('font', serif='Helvetica Neue')\n",
    "plt.rc('font',**{'family':'sans-serif','serif':['Helvetica Neue']})\n",
    "plt.rc('font', **font)\n",
    "plt.rc('text', usetex=True)\n",
    "\n",
    "viridis = cm.get_cmap('viridis', 12)\n",
    "color_scheme_3examples = [viridis(0.05)[0:3],viridis(0.5)[0:3],viridis(0.9)[0:3]]\n",
    "alpha_value=0.45\n",
    "size_scaler = 2.5\n",
    "dt_vis = 7\n",
    "alp=0.1 # alpha value for transparent lines N=30\n",
    "\n",
    "h=2.8*0.393701 #[cm] to  modification [inch] Height of output figure\n",
    "w=2.8*0.393701 #[cm] to  modification [inch] Width of output figure\n",
    "margin=0.4 # [1] margin ratio of output figure layout\n",
    "size_scaler=2.5"
   ]
  },
  {
   "cell_type": "markdown",
   "metadata": {},
   "source": [
    "## Figure 5a  "
   ]
  },
  {
   "cell_type": "code",
   "execution_count": 5,
   "metadata": {},
   "outputs": [
    {
     "data": {
      "image/png": "[encoded data removed]",
      "text/plain": [
       "<Figure size 317.48x198.425 with 1 Axes>"
      ]
     },
     "metadata": {
      "needs_background": "light"
     },
     "output_type": "display_data"
    }
   ],
   "source": [
    "N=30\n",
    "f_seiz_1year=[]\n",
    "\n",
    "for ii in range(0,N): # Here we gather and extract data about seizures on respective days \n",
    "    listt=np.load(DataPath+'/Sim_'+str(ii+1)+'.npy',allow_pickle=True)  \n",
    "    f_seiz_1year.append(listt[1]['lambda_vec'][-1])\n",
    "    \n",
    "n_bin= listt[0]['lambda_max']*2+1\n",
    "\n",
    "fig = matplotlib.pyplot.gcf()\n",
    "ax = fig.add_subplot(1, 1, 1) \n",
    "\n",
    "plt.hist(f_seiz_1year,bins=n_bin, edgecolor='black', color='white',linewidth=2/size_scaler)\n",
    "n, bins, patches = plt.hist(f_seiz_1year,bins=n_bin, edgecolor='black', color='white',alpha=alpha_value,linewidth=2/size_scaler)\n",
    "patches[0].set_fc(color_scheme_3examples[0])\n",
    "for x in range(1,30):\n",
    "    patches[x].set_fc(color_scheme_3examples[1])\n",
    "for x in range(30,31):\n",
    "    patches[x].set_fc(color_scheme_3examples[2])\n",
    "\n",
    "plt.plot(0,0,color=color_scheme_3examples[0],alpha=alpha_value,label=r'seizure rate $\\rightarrow$ 0',linewidth=4)\n",
    "plt.plot(0,0,color=color_scheme_3examples[1],alpha=alpha_value,label=r'0 $<$ seizure rate $< \\lambda_\\textnormal{max}$',linewidth=4)\n",
    "plt.plot(0,0,color=color_scheme_3examples[2],alpha=alpha_value,label=r'seizure rate $\\rightarrow \\lambda_\\textnormal{max}$',linewidth=4)\n",
    "ax.legend(bbox_to_anchor=(0.1,1.15), loc='upper left', prop={'size': 8})\n",
    "\n",
    "plt.ylim(0,13)\n",
    "plt.yticks([0,2,4,6,8,10,12])\n",
    "xtix=list([0,5,10,15])\n",
    "# ytix.append(r'$P_{\\textnormal{max}}$')\n",
    "plt.xticks([0,5,10,listt[0]['lambda_max']],xtix)\n",
    "plt.ylabel('Number of simulations')\n",
    "plt.xlabel(r'Seizure rate, $\\frac{\\textnormal{seizures}}{\\textnormal{day}}$')\n",
    "\n",
    "ax.spines['right'].set_visible(False)\n",
    "ax.spines['top'].set_visible(False)\n",
    "\n",
    "plt.gcf().subplots_adjust(bottom=margin)\n",
    "plt.gcf().subplots_adjust(left=margin)\n",
    "plt.gcf().subplots_adjust(top=1-margin/2)\n",
    "set_size(2*w,w)\n",
    "fig.savefig('Figures/Fig5/Fig_5a.pdf')"
   ]
  },
  {
   "cell_type": "markdown",
   "metadata": {},
   "source": [
    "## Figure 5b"
   ]
  },
  {
   "cell_type": "code",
   "execution_count": 6,
   "metadata": {},
   "outputs": [
    {
     "name": "stdout",
     "output_type": "stream",
     "text": [
      "0.0028276849144774404\n",
      "1.6906652514181195\n",
      "13.688985879222791\n"
     ]
    },
    {
     "data": {
      "image/png": "[encoded data removed]",
      "text/plain": [
       "<Figure size 317.48x198.425 with 1 Axes>"
      ]
     },
     "metadata": {
      "needs_background": "light"
     },
     "output_type": "display_data"
    }
   ],
   "source": [
    "labels=['Simulation \\#'+str(Num_sims[0]),'Simulation \\#'+str(Num_sims[1]),'Simulation \\#'+str(Num_sims[2])]\n",
    "\n",
    "f_seiz_1year=[]\n",
    "\n",
    "fig1 = plt.figure(figsize=[2*w,1.25*w])\n",
    "ax = fig1.add_subplot(1, 1, 1)\n",
    "\n",
    "for ii in range(0,len(Num_sims)):    \n",
    "    listt=np.load(DataPath+'/Sim_'+str(Num_sims[ii])+'.npy',allow_pickle=True) \n",
    "    params_dict=listt[0]\n",
    "    t_vec = listt[1]['t_vec']\n",
    "    I_vec = listt[1]['I_vec']\n",
    "    B_vec = listt[1]['B_vec']\n",
    "    D_vec = listt[1]['D_vec']\n",
    "    R_vec = listt[1]['R_vec']\n",
    "    lambda_vec = listt[1]['lambda_vec']\n",
    "    S_vec = listt[1]['S_vec']\n",
    "    dt=listt[0]['dt']\n",
    "\n",
    "    if ii==0:\n",
    "        ax.set_ybound(0,params_dict['lambda_max']*1.05)\n",
    "    ymin, ymax = plt.ylim()  # return the current ylim\n",
    "    \n",
    "    plt.plot(t_vec[S_vec!=0],(ymax+0.25)*np.ones(len(t_vec[S_vec!=0])),marker='|',color=color_scheme_3examples[ii],alpha=0.5, markersize=10/size_scaler, label=None,linewidth=0)\n",
    "    plt.xlabel('days post infection')\n",
    "    plt.ylabel(r'Seizure rate, $\\frac{\\textnormal{seizures}}{\\textnormal{day}}$')\n",
    "    \n",
    "    plt.plot(t_vec,lambda_vec,color=color_scheme_3examples[ii],alpha=alpha_value,label=labels[ii],linewidth=3/size_scaler)\n",
    "    print(lambda_vec[-1])\n",
    "    ymin, ymax = plt.ylim()  # return the current ylim\n",
    "    ax.set_ybound(0,ymax)\n",
    "    plt.xlim(0,params_dict['t_end'])\n",
    "    plt.yticks([0,5,10,15])\n",
    "\n",
    "ax.legend(bbox_to_anchor=(0.005, 0.75), loc='upper left', prop={'size': 7})\n",
    "ax.spines['right'].set_visible(False)\n",
    "ax.spines['top'].set_visible(False)\n",
    "\n",
    "plt.gcf().subplots_adjust(bottom=margin)\n",
    "plt.gcf().subplots_adjust(left=margin)\n",
    "plt.gcf().subplots_adjust(top=1-margin/2)\n",
    "set_size(2*w,w) \n",
    "fig1.savefig('Figures/Fig5/Fig_5b.pdf')"
   ]
  },
  {
   "cell_type": "markdown",
   "metadata": {},
   "source": [
    "## Figure 5c"
   ]
  },
  {
   "cell_type": "code",
   "execution_count": 15,
   "metadata": {},
   "outputs": [
    {
     "data": {
      "image/png": "[encoded data removed]",
      "text/plain": [
       "<Figure size 158.74x198.425 with 1 Axes>"
      ]
     },
     "metadata": {
      "needs_background": "light"
     },
     "output_type": "display_data"
    }
   ],
   "source": [
    "labels=['Simulation \\#'+str(Num_sims[0]),'Simulation \\#'+str(Num_sims[1]),'Simulation \\#'+str(Num_sims[2])]\n",
    "\n",
    "f_seiz_1year=[]\n",
    "\n",
    "fig1 = plt.figure(figsize=[2*w,1.25*w])\n",
    "ax = fig1.add_subplot(1, 1, 1)\n",
    "\n",
    "B_max = 1\n",
    "R_max = 1\n",
    "B_min = -0.1\n",
    "R_min = -0.1\n",
    "\n",
    "for ii in reversed(range(0,len(Num_sims))):    \n",
    "    listt=np.load(DataPath+'/Sim_'+str(Num_sims[ii])+'.npy',allow_pickle=True) \n",
    "    t_vec=listt[1]['t_vec'].copy()\n",
    "    B_vec=listt[1]['B_vec'].copy()\n",
    "    R_vec=listt[1]['R_vec'].copy()\n",
    "    plt.plot(B_vec,R_vec,color=color_scheme_3examples[ii],alpha=alpha_value)\n",
    "#     for kk in range(1,int(np.floor(t_vec[-1]/dt_vis+1))):\n",
    "#         plt.plot(B_vec[kk*int(dt_vis/dt)],R_vec[kk*int(dt_vis/dt)],'.',color=color_scheme_3examples[ii],markersize=5/size_scaler)\n",
    "\n",
    "plt.xlabel(\"Extent of blood-brain \\n\" \n",
    "           r\"barrier disruption $B$\")\n",
    "plt.ylabel(\"Degree of circuit \\n\"\n",
    "       r\"remodeling $R$\")\n",
    "ax.set_xlim([B_min,B_max])\n",
    "ax.set_ylim([R_min,R_max])\n",
    "\n",
    "plt.gcf().subplots_adjust(bottom=margin)\n",
    "plt.gcf().subplots_adjust(left=margin)\n",
    "plt.gcf().subplots_adjust(top=1-margin/2)\n",
    "set_size(1*w,w)\n",
    "    \n",
    "fig1.savefig('Figures/Fig5/Fig_5c1.pdf')"
   ]
  },
  {
   "cell_type": "code",
   "execution_count": 16,
   "metadata": {},
   "outputs": [
    {
     "data": {
      "image/png": "[encoded data removed]",
      "text/plain": [
       "<Figure size 158.74x198.425 with 1 Axes>"
      ]
     },
     "metadata": {
      "needs_background": "light"
     },
     "output_type": "display_data"
    }
   ],
   "source": [
    "labels=['Simulation \\#'+str(Num_sims[0]),'Simulation \\#'+str(Num_sims[1]),'Simulation \\#'+str(Num_sims[2])]\n",
    "\n",
    "f_seiz_1year=[]\n",
    "\n",
    "fig1 = plt.figure(figsize=[2*w,1.25*w])\n",
    "ax = fig1.add_subplot(1, 1, 1)\n",
    "\n",
    "B_max = 0.16\n",
    "R_max = 0.16\n",
    "B_min = -0.01\n",
    "R_min = -0.01\n",
    "\n",
    "for ii in reversed(range(0,len(Num_sims))):    \n",
    "    listt=np.load(DataPath+'/Sim_'+str(Num_sims[ii])+'.npy',allow_pickle=True) \n",
    "    t_vec=listt[1]['t_vec'].copy()\n",
    "    B_vec=listt[1]['B_vec'].copy()\n",
    "    R_vec=listt[1]['R_vec'].copy()\n",
    "    plt.plot(B_vec,R_vec,color=color_scheme_3examples[ii],alpha=alpha_value)\n",
    "    for kk in range(1,int(np.floor(t_vec[-1]/dt_vis+1))):\n",
    "        plt.plot(B_vec[kk*int(dt_vis/dt)],R_vec[kk*int(dt_vis/dt)],'.',color=color_scheme_3examples[ii],markersize=5/size_scaler)\n",
    "\n",
    "# plt.xlabel(\"Extent of blood-brain \\n\" \n",
    "#            r\"barrier disruption $B$\")\n",
    "# plt.ylabel(\"Degree of circuit \\n\"\n",
    "#        r\"remodeling $R$\")\n",
    "ax.set_xlim([B_min,B_max])\n",
    "ax.set_ylim([R_min,R_max])\n",
    "\n",
    "plt.gcf().subplots_adjust(bottom=margin)\n",
    "plt.gcf().subplots_adjust(left=margin)\n",
    "plt.gcf().subplots_adjust(top=1-margin/2)\n",
    "set_size(1*w,w)\n",
    "    \n",
    "fig1.savefig('Figures/Fig5/Fig_5c2.pdf')"
   ]
  }
 ],
 "metadata": {
  "kernelspec": {
   "display_name": "Python 3",
   "language": "python",
   "name": "python3"
  },
  "language_info": {
   "codemirror_mode": {
    "name": "ipython",
    "version": 3
   },
   "file_extension": ".py",
   "mimetype": "text/x-python",
   "name": "python",
   "nbconvert_exporter": "python",
   "pygments_lexer": "ipython3",
   "version": "3.7.4"
  }
 },
 "nbformat": 4,
 "nbformat_minor": 2
}
